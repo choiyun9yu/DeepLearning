{
  "cells": [
    {
      "cell_type": "code",
      "execution_count": null,
      "metadata": {
        "id": "NLpaC998Gq_9"
      },
      "outputs": [],
      "source": [
        "text = '''경마장에 있는 말이 뛰고 있다\\n\n",
        "그의 말이 법이다\\n\n",
        "가는 말이 고와야 오는 말이 곱다'''"
      ]
    },
    {
      "cell_type": "markdown",
      "metadata": {
        "id": "MXP90lvgHB9k"
      },
      "source": [
        "- 토큰화"
      ]
    },
    {
      "cell_type": "code",
      "execution_count": null,
      "metadata": {
        "colab": {
          "base_uri": "https://localhost:8080/"
        },
        "id": "cdz21pVWHAo6",
        "outputId": "e48e8dec-e33e-40b1-a826-24f6f1f73370"
      },
      "outputs": [
        {
          "data": {
            "text/plain": [
              "defaultdict(int,\n",
              "            {'뛰고': 1,\n",
              "             '있다': 1,\n",
              "             '그의': 1,\n",
              "             '오는': 1,\n",
              "             '곱다': 1,\n",
              "             '법이다': 1,\n",
              "             '가는': 1,\n",
              "             '고와야': 1,\n",
              "             '말이': 1,\n",
              "             '경마장에': 1,\n",
              "             '있는': 1})"
            ]
          },
          "execution_count": 8,
          "metadata": {},
          "output_type": "execute_result"
        }
      ],
      "source": [
        "from tensorflow.keras.preprocessing.text import Tokenizer\n",
        "\n",
        "t = Tokenizer()\n",
        "\n",
        "# 문장 분석\n",
        "t.fit_on_texts([text])\n",
        "\n",
        "# 분석된 단어의 목록을 확인\n",
        "t.word_docs"
      ]
    },
    {
      "cell_type": "code",
      "execution_count": null,
      "metadata": {
        "colab": {
          "base_uri": "https://localhost:8080/"
        },
        "id": "BRurD0dVHBAK",
        "outputId": "b9716b6c-7955-4200-af01-1aab09ff4fa3"
      },
      "outputs": [
        {
          "data": {
            "text/plain": [
              "12"
            ]
          },
          "execution_count": 9,
          "metadata": {},
          "output_type": "execute_result"
        }
      ],
      "source": [
        "# 단어의 수를 저장\n",
        "vocab_size = len(t.word_docs) + 1 # 0번 인덱스는 안써서 +1해줌\n",
        "\n",
        "vocab_size"
      ]
    },
    {
      "cell_type": "markdown",
      "metadata": {
        "id": "x3cQJcZxIGg6"
      },
      "source": [
        "- 정수 인코딩"
      ]
    },
    {
      "cell_type": "code",
      "execution_count": null,
      "metadata": {
        "colab": {
          "base_uri": "https://localhost:8080/"
        },
        "id": "pARwBxxMHBCZ",
        "outputId": "a7e81b57-17e0-4d62-fcc3-8922c77e91a2"
      },
      "outputs": [
        {
          "data": {
            "text/plain": [
              "[[2, 3],\n",
              " [2, 3, 1],\n",
              " [2, 3, 1, 4],\n",
              " [2, 3, 1, 4, 5],\n",
              " [6, 1],\n",
              " [6, 1, 7],\n",
              " [8, 1],\n",
              " [8, 1, 9],\n",
              " [8, 1, 9, 10],\n",
              " [8, 1, 9, 10, 1],\n",
              " [8, 1, 9, 10, 1, 11]]"
            ]
          },
          "execution_count": 10,
          "metadata": {},
          "output_type": "execute_result"
        }
      ],
      "source": [
        "seq = []\n",
        "\n",
        "# 문장을 한 줄씩 읽어온다\n",
        "for line in text.split(\"\\n\"):\n",
        "  encoded = t.texts_to_sequences([line])[0]\n",
        "\n",
        "  # 조합 가능한 단어 조합을 생성\n",
        "  for i in range(1, len(encoded)):\n",
        "    s = encoded[:i+1]\n",
        "    seq.append(s)\n",
        "\n",
        "seq\n",
        "\n",
        "# 경마장에 있는 말이 뛰고 있다\n",
        "  # 경마장에 있는\n",
        "  # 경마장에 있는 말이\n",
        "  # 경마장에 있는 말이 뛰고\n",
        "  # 경마장에 있는 말이 뛰고 있다\n",
        "\n",
        "# 그의 말이 법이다\n",
        "  # 그의 말이\n",
        "  # 그의 말이 법이다\n",
        "\n",
        "# 가는 말이 고와야 오는 말이 곱다\n",
        "  # 가는 말이\n",
        "  # 가는 말이 고와야\n",
        "  # 가는 말이 고와야 오는\n",
        "  # 가는 말이 고와야 오는 말이\n",
        "  # 가는 말이 고와야 오는 말이 곱다"
      ]
    },
    {
      "cell_type": "markdown",
      "metadata": {
        "id": "6MOWL6bPJ6Sx"
      },
      "source": [
        "- Padding : 인코딩된 겨과를 같은 길이로 만듬"
      ]
    },
    {
      "cell_type": "code",
      "execution_count": null,
      "metadata": {
        "colab": {
          "base_uri": "https://localhost:8080/"
        },
        "id": "KEUtzSs9HBEu",
        "outputId": "d41c8444-6e4a-42be-9bc0-1ac8de6d4ffe"
      },
      "outputs": [
        {
          "data": {
            "text/plain": [
              "array([[ 0,  0,  0,  0,  2,  3],\n",
              "       [ 0,  0,  0,  2,  3,  1],\n",
              "       [ 0,  0,  2,  3,  1,  4],\n",
              "       [ 0,  2,  3,  1,  4,  5],\n",
              "       [ 0,  0,  0,  0,  6,  1],\n",
              "       [ 0,  0,  0,  6,  1,  7],\n",
              "       [ 0,  0,  0,  0,  8,  1],\n",
              "       [ 0,  0,  0,  8,  1,  9],\n",
              "       [ 0,  0,  8,  1,  9, 10],\n",
              "       [ 0,  8,  1,  9, 10,  1],\n",
              "       [ 8,  1,  9, 10,  1, 11]], dtype=int32)"
            ]
          },
          "execution_count": 11,
          "metadata": {},
          "output_type": "execute_result"
        }
      ],
      "source": [
        "from tensorflow.keras.preprocessing.sequence import pad_sequences\n",
        "\n",
        "# 최대 길이의 문자의 단어수\n",
        "max_len = 6\n",
        "\n",
        "sequence = pad_sequences(seq, maxlen=max_len)\n",
        "sequence\n"
      ]
    },
    {
      "cell_type": "markdown",
      "metadata": {
        "id": "EVOsfnstLCRA"
      },
      "source": [
        "- 특성데이터와 라벨데이터로 분리  \n",
        "(앞쪽 데이터가 특성데이터 / 맨 끝 값이 라벨데이터)"
      ]
    },
    {
      "cell_type": "code",
      "execution_count": null,
      "metadata": {
        "colab": {
          "base_uri": "https://localhost:8080/"
        },
        "id": "4jJF2_-qHBG9",
        "outputId": "563bc1bc-3997-4d7f-8412-4492fbc7082e"
      },
      "outputs": [
        {
          "data": {
            "text/plain": [
              "((11, 5), (11,))"
            ]
          },
          "execution_count": 12,
          "metadata": {},
          "output_type": "execute_result"
        }
      ],
      "source": [
        "X = sequence[:, :-1]\n",
        "y = sequence[:, -1]\n",
        "\n",
        "X.shape, y.shape"
      ]
    },
    {
      "cell_type": "markdown",
      "metadata": {
        "id": "id97IoYiL2Fc"
      },
      "source": [
        "- y를 원핫인코딩"
      ]
    },
    {
      "cell_type": "code",
      "execution_count": null,
      "metadata": {
        "colab": {
          "base_uri": "https://localhost:8080/"
        },
        "id": "dSqX6P9_HBJU",
        "outputId": "fff61e62-e16e-4f61-8054-db5d6e89e39a"
      },
      "outputs": [
        {
          "data": {
            "text/plain": [
              "(11, 12)"
            ]
          },
          "execution_count": 21,
          "metadata": {},
          "output_type": "execute_result"
        }
      ],
      "source": [
        "# 값이 수치 형태의 데이터인 경우에만 원핫인코딩 됨\n",
        "from tensorflow.keras.utils import to_categorical\n",
        "\n",
        "y_en = to_categorical(y, num_classes=vocab_size)\n",
        "\n",
        "y_en.shape"
      ]
    },
    {
      "cell_type": "code",
      "execution_count": null,
      "metadata": {
        "colab": {
          "base_uri": "https://localhost:8080/"
        },
        "id": "1p9xVGrRHBLW",
        "outputId": "b866ece9-8f93-4878-ab1b-43dde235814a"
      },
      "outputs": [
        {
          "data": {
            "text/plain": [
              "array([[0., 0., 0., 1., 0., 0., 0., 0., 0., 0., 0., 0.],\n",
              "       [0., 1., 0., 0., 0., 0., 0., 0., 0., 0., 0., 0.],\n",
              "       [0., 0., 0., 0., 1., 0., 0., 0., 0., 0., 0., 0.],\n",
              "       [0., 0., 0., 0., 0., 1., 0., 0., 0., 0., 0., 0.],\n",
              "       [0., 1., 0., 0., 0., 0., 0., 0., 0., 0., 0., 0.],\n",
              "       [0., 0., 0., 0., 0., 0., 0., 1., 0., 0., 0., 0.],\n",
              "       [0., 1., 0., 0., 0., 0., 0., 0., 0., 0., 0., 0.],\n",
              "       [0., 0., 0., 0., 0., 0., 0., 0., 0., 1., 0., 0.],\n",
              "       [0., 0., 0., 0., 0., 0., 0., 0., 0., 0., 1., 0.],\n",
              "       [0., 1., 0., 0., 0., 0., 0., 0., 0., 0., 0., 0.],\n",
              "       [0., 0., 0., 0., 0., 0., 0., 0., 0., 0., 0., 1.]], dtype=float32)"
            ]
          },
          "execution_count": 22,
          "metadata": {},
          "output_type": "execute_result"
        }
      ],
      "source": [
        "y_en"
      ]
    },
    {
      "cell_type": "markdown",
      "metadata": {
        "id": "Gxr3h5lIPkXs"
      },
      "source": [
        "- 신경망 설계"
      ]
    },
    {
      "cell_type": "code",
      "execution_count": null,
      "metadata": {
        "colab": {
          "base_uri": "https://localhost:8080/"
        },
        "id": "Jq-0H7q9Mh7l",
        "outputId": "f1029723-becd-4d57-9228-f2c06cdb7972"
      },
      "outputs": [
        {
          "name": "stdout",
          "output_type": "stream",
          "text": [
            "Model: \"sequential_5\"\n",
            "_________________________________________________________________\n",
            " Layer (type)                Output Shape              Param #   \n",
            "=================================================================\n",
            " embedding_4 (Embedding)     (None, 5, 10)             120       \n",
            "                                                                 \n",
            " simple_rnn_3 (SimpleRNN)    (None, 32)                1376      \n",
            "                                                                 \n",
            " dense_3 (Dense)             (None, 12)                396       \n",
            "                                                                 \n",
            "=================================================================\n",
            "Total params: 1,892\n",
            "Trainable params: 1,892\n",
            "Non-trainable params: 0\n",
            "_________________________________________________________________\n"
          ]
        }
      ],
      "source": [
        "from tensorflow.keras.models import Sequential\n",
        "from tensorflow.keras.layers import Embedding, SimpleRNN, Dense\n",
        "\n",
        "model1 = Sequential()\n",
        "\n",
        "# 임베딩(전체단어 갯수, 차원수, 단어의 최대 길이)\n",
        "model1.add(Embedding(vocab_size, 10, input_length=max_len-1))  # 마지막은 라벨데이터니까 -1\n",
        "\n",
        "# 시계열?\n",
        "model1.add(SimpleRNN(32))\n",
        "\n",
        "# 분류기\n",
        "model1.add(Dense(12, activation=\"softmax\"))  # 0은 계산에 전혀 참여하지 않아서 상관없음\n",
        "\n",
        "model1.summary()"
      ]
    },
    {
      "cell_type": "code",
      "execution_count": null,
      "metadata": {
        "id": "U-OZRrJSPl4v"
      },
      "outputs": [],
      "source": [
        "model1.compile(loss=\"categorical_crossentropy\",\n",
        "               optimizer=\"rmsprop\",\n",
        "               metrics=[\"accuracy\"])"
      ]
    },
    {
      "cell_type": "code",
      "execution_count": null,
      "metadata": {
        "colab": {
          "base_uri": "https://localhost:8080/"
        },
        "id": "KzC75RMUPl7F",
        "outputId": "19be7ea8-9bf0-48a7-d16c-a8cd933b8e9c"
      },
      "outputs": [
        {
          "name": "stdout",
          "output_type": "stream",
          "text": [
            "Epoch 1/200\n",
            "2/2 [==============================] - 1s 14ms/step - loss: 2.5082 - accuracy: 0.0000e+00\n",
            "Epoch 2/200\n",
            "2/2 [==============================] - 0s 12ms/step - loss: 2.4600 - accuracy: 0.2727\n",
            "Epoch 3/200\n",
            "2/2 [==============================] - 0s 11ms/step - loss: 2.4343 - accuracy: 0.3636\n",
            "Epoch 4/200\n",
            "2/2 [==============================] - 0s 19ms/step - loss: 2.4173 - accuracy: 0.4545\n",
            "Epoch 5/200\n",
            "2/2 [==============================] - 0s 11ms/step - loss: 2.3960 - accuracy: 0.4545\n",
            "Epoch 6/200\n",
            "2/2 [==============================] - 0s 13ms/step - loss: 2.3751 - accuracy: 0.3636\n",
            "Epoch 7/200\n",
            "2/2 [==============================] - 0s 11ms/step - loss: 2.3540 - accuracy: 0.3636\n",
            "Epoch 8/200\n",
            "2/2 [==============================] - 0s 14ms/step - loss: 2.3379 - accuracy: 0.3636\n",
            "Epoch 9/200\n",
            "2/2 [==============================] - 0s 14ms/step - loss: 2.2893 - accuracy: 0.4545\n",
            "Epoch 10/200\n",
            "2/2 [==============================] - 0s 11ms/step - loss: 2.2407 - accuracy: 0.3636\n",
            "Epoch 11/200\n",
            "2/2 [==============================] - 0s 11ms/step - loss: 2.2187 - accuracy: 0.3636\n",
            "Epoch 12/200\n",
            "2/2 [==============================] - 0s 14ms/step - loss: 2.2030 - accuracy: 0.3636\n",
            "Epoch 13/200\n",
            "2/2 [==============================] - 0s 11ms/step - loss: 2.1565 - accuracy: 0.3636\n",
            "Epoch 14/200\n",
            "2/2 [==============================] - 0s 14ms/step - loss: 2.1407 - accuracy: 0.3636\n",
            "Epoch 15/200\n",
            "2/2 [==============================] - 0s 11ms/step - loss: 2.1305 - accuracy: 0.3636\n",
            "Epoch 16/200\n",
            "2/2 [==============================] - 0s 13ms/step - loss: 2.1072 - accuracy: 0.3636\n",
            "Epoch 17/200\n",
            "2/2 [==============================] - 0s 12ms/step - loss: 2.0571 - accuracy: 0.3636\n",
            "Epoch 18/200\n",
            "2/2 [==============================] - 0s 11ms/step - loss: 2.0223 - accuracy: 0.3636\n",
            "Epoch 19/200\n",
            "2/2 [==============================] - 0s 12ms/step - loss: 2.0035 - accuracy: 0.3636\n",
            "Epoch 20/200\n",
            "2/2 [==============================] - 0s 12ms/step - loss: 2.0007 - accuracy: 0.3636\n",
            "Epoch 21/200\n",
            "2/2 [==============================] - 0s 10ms/step - loss: 2.0056 - accuracy: 0.3636\n",
            "Epoch 22/200\n",
            "2/2 [==============================] - 0s 14ms/step - loss: 1.9838 - accuracy: 0.3636\n",
            "Epoch 23/200\n",
            "2/2 [==============================] - 0s 11ms/step - loss: 1.9692 - accuracy: 0.3636\n",
            "Epoch 24/200\n",
            "2/2 [==============================] - 0s 11ms/step - loss: 1.9671 - accuracy: 0.3636\n",
            "Epoch 25/200\n",
            "2/2 [==============================] - 0s 11ms/step - loss: 1.9490 - accuracy: 0.3636\n",
            "Epoch 26/200\n",
            "2/2 [==============================] - 0s 14ms/step - loss: 1.9398 - accuracy: 0.3636\n",
            "Epoch 27/200\n",
            "2/2 [==============================] - 0s 18ms/step - loss: 1.9355 - accuracy: 0.3636\n",
            "Epoch 28/200\n",
            "2/2 [==============================] - 0s 12ms/step - loss: 1.9375 - accuracy: 0.3636\n",
            "Epoch 29/200\n",
            "2/2 [==============================] - 0s 12ms/step - loss: 1.9164 - accuracy: 0.3636\n",
            "Epoch 30/200\n",
            "2/2 [==============================] - 0s 15ms/step - loss: 1.9034 - accuracy: 0.3636\n",
            "Epoch 31/200\n",
            "2/2 [==============================] - 0s 13ms/step - loss: 1.8994 - accuracy: 0.3636\n",
            "Epoch 32/200\n",
            "2/2 [==============================] - 0s 12ms/step - loss: 1.8843 - accuracy: 0.3636\n",
            "Epoch 33/200\n",
            "2/2 [==============================] - 0s 12ms/step - loss: 1.8872 - accuracy: 0.3636\n",
            "Epoch 34/200\n",
            "2/2 [==============================] - 0s 14ms/step - loss: 1.8680 - accuracy: 0.3636\n",
            "Epoch 35/200\n",
            "2/2 [==============================] - 0s 13ms/step - loss: 1.8602 - accuracy: 0.3636\n",
            "Epoch 36/200\n",
            "2/2 [==============================] - 0s 11ms/step - loss: 1.8544 - accuracy: 0.3636\n",
            "Epoch 37/200\n",
            "2/2 [==============================] - 0s 11ms/step - loss: 1.8588 - accuracy: 0.3636\n",
            "Epoch 38/200\n",
            "2/2 [==============================] - 0s 14ms/step - loss: 1.8653 - accuracy: 0.3636\n",
            "Epoch 39/200\n",
            "2/2 [==============================] - 0s 12ms/step - loss: 1.8334 - accuracy: 0.3636\n",
            "Epoch 40/200\n",
            "2/2 [==============================] - 0s 12ms/step - loss: 1.8171 - accuracy: 0.3636\n",
            "Epoch 41/200\n",
            "2/2 [==============================] - 0s 11ms/step - loss: 1.8106 - accuracy: 0.4545\n",
            "Epoch 42/200\n",
            "2/2 [==============================] - 0s 12ms/step - loss: 1.8058 - accuracy: 0.4545\n",
            "Epoch 43/200\n",
            "2/2 [==============================] - 0s 13ms/step - loss: 1.7952 - accuracy: 0.4545\n",
            "Epoch 44/200\n",
            "2/2 [==============================] - 0s 11ms/step - loss: 1.7932 - accuracy: 0.3636\n",
            "Epoch 45/200\n",
            "2/2 [==============================] - 0s 14ms/step - loss: 1.7740 - accuracy: 0.4545\n",
            "Epoch 46/200\n",
            "2/2 [==============================] - 0s 11ms/step - loss: 1.7593 - accuracy: 0.4545\n",
            "Epoch 47/200\n",
            "2/2 [==============================] - 0s 12ms/step - loss: 1.7544 - accuracy: 0.4545\n",
            "Epoch 48/200\n",
            "2/2 [==============================] - 0s 14ms/step - loss: 1.7499 - accuracy: 0.4545\n",
            "Epoch 49/200\n",
            "2/2 [==============================] - 0s 11ms/step - loss: 1.7331 - accuracy: 0.4545\n",
            "Epoch 50/200\n",
            "2/2 [==============================] - 0s 11ms/step - loss: 1.7193 - accuracy: 0.4545\n",
            "Epoch 51/200\n",
            "2/2 [==============================] - 0s 13ms/step - loss: 1.7091 - accuracy: 0.4545\n",
            "Epoch 52/200\n",
            "2/2 [==============================] - 0s 11ms/step - loss: 1.7011 - accuracy: 0.4545\n",
            "Epoch 53/200\n",
            "2/2 [==============================] - 0s 15ms/step - loss: 1.6883 - accuracy: 0.4545\n",
            "Epoch 54/200\n",
            "2/2 [==============================] - 0s 11ms/step - loss: 1.6756 - accuracy: 0.4545\n",
            "Epoch 55/200\n",
            "2/2 [==============================] - 0s 11ms/step - loss: 1.6623 - accuracy: 0.4545\n",
            "Epoch 56/200\n",
            "2/2 [==============================] - 0s 11ms/step - loss: 1.6540 - accuracy: 0.4545\n",
            "Epoch 57/200\n",
            "2/2 [==============================] - 0s 11ms/step - loss: 1.6432 - accuracy: 0.4545\n",
            "Epoch 58/200\n",
            "2/2 [==============================] - 0s 11ms/step - loss: 1.6320 - accuracy: 0.4545\n",
            "Epoch 59/200\n",
            "2/2 [==============================] - 0s 11ms/step - loss: 1.6097 - accuracy: 0.4545\n",
            "Epoch 60/200\n",
            "2/2 [==============================] - 0s 12ms/step - loss: 1.5979 - accuracy: 0.4545\n",
            "Epoch 61/200\n",
            "2/2 [==============================] - 0s 11ms/step - loss: 1.5837 - accuracy: 0.4545\n",
            "Epoch 62/200\n",
            "2/2 [==============================] - 0s 15ms/step - loss: 1.5773 - accuracy: 0.4545\n",
            "Epoch 63/200\n",
            "2/2 [==============================] - 0s 11ms/step - loss: 1.5750 - accuracy: 0.4545\n",
            "Epoch 64/200\n",
            "2/2 [==============================] - 0s 11ms/step - loss: 1.5735 - accuracy: 0.4545\n",
            "Epoch 65/200\n",
            "2/2 [==============================] - 0s 12ms/step - loss: 1.5475 - accuracy: 0.4545\n",
            "Epoch 66/200\n",
            "2/2 [==============================] - 0s 12ms/step - loss: 1.5273 - accuracy: 0.4545\n",
            "Epoch 67/200\n",
            "2/2 [==============================] - 0s 19ms/step - loss: 1.5198 - accuracy: 0.4545\n",
            "Epoch 68/200\n",
            "2/2 [==============================] - 0s 11ms/step - loss: 1.5085 - accuracy: 0.4545\n",
            "Epoch 69/200\n",
            "2/2 [==============================] - 0s 14ms/step - loss: 1.4964 - accuracy: 0.4545\n",
            "Epoch 70/200\n",
            "2/2 [==============================] - 0s 12ms/step - loss: 1.4835 - accuracy: 0.4545\n",
            "Epoch 71/200\n",
            "2/2 [==============================] - 0s 15ms/step - loss: 1.4728 - accuracy: 0.4545\n",
            "Epoch 72/200\n",
            "2/2 [==============================] - 0s 10ms/step - loss: 1.4490 - accuracy: 0.4545\n",
            "Epoch 73/200\n",
            "2/2 [==============================] - 0s 16ms/step - loss: 1.4326 - accuracy: 0.4545\n",
            "Epoch 74/200\n",
            "2/2 [==============================] - 0s 13ms/step - loss: 1.4139 - accuracy: 0.4545\n",
            "Epoch 75/200\n",
            "2/2 [==============================] - 0s 11ms/step - loss: 1.4130 - accuracy: 0.4545\n",
            "Epoch 76/200\n",
            "2/2 [==============================] - 0s 12ms/step - loss: 1.4167 - accuracy: 0.4545\n",
            "Epoch 77/200\n",
            "2/2 [==============================] - 0s 12ms/step - loss: 1.3841 - accuracy: 0.4545\n",
            "Epoch 78/200\n",
            "2/2 [==============================] - 0s 13ms/step - loss: 1.3667 - accuracy: 0.4545\n",
            "Epoch 79/200\n",
            "2/2 [==============================] - 0s 12ms/step - loss: 1.3521 - accuracy: 0.4545\n",
            "Epoch 80/200\n",
            "2/2 [==============================] - 0s 14ms/step - loss: 1.3503 - accuracy: 0.4545\n",
            "Epoch 81/200\n",
            "2/2 [==============================] - 0s 15ms/step - loss: 1.3379 - accuracy: 0.4545\n",
            "Epoch 82/200\n",
            "2/2 [==============================] - 0s 11ms/step - loss: 1.3263 - accuracy: 0.6364\n",
            "Epoch 83/200\n",
            "2/2 [==============================] - 0s 11ms/step - loss: 1.3227 - accuracy: 0.6364\n",
            "Epoch 84/200\n",
            "2/2 [==============================] - 0s 12ms/step - loss: 1.3177 - accuracy: 0.6364\n",
            "Epoch 85/200\n",
            "2/2 [==============================] - 0s 13ms/step - loss: 1.3049 - accuracy: 0.6364\n",
            "Epoch 86/200\n",
            "2/2 [==============================] - 0s 13ms/step - loss: 1.2906 - accuracy: 0.6364\n",
            "Epoch 87/200\n",
            "2/2 [==============================] - 0s 12ms/step - loss: 1.2796 - accuracy: 0.6364\n",
            "Epoch 88/200\n",
            "2/2 [==============================] - 0s 15ms/step - loss: 1.2698 - accuracy: 0.6364\n",
            "Epoch 89/200\n",
            "2/2 [==============================] - 0s 13ms/step - loss: 1.2578 - accuracy: 0.6364\n",
            "Epoch 90/200\n",
            "2/2 [==============================] - 0s 14ms/step - loss: 1.2460 - accuracy: 0.6364\n",
            "Epoch 91/200\n",
            "2/2 [==============================] - 0s 15ms/step - loss: 1.2365 - accuracy: 0.6364\n",
            "Epoch 92/200\n",
            "2/2 [==============================] - 0s 11ms/step - loss: 1.2294 - accuracy: 0.6364\n",
            "Epoch 93/200\n",
            "2/2 [==============================] - 0s 11ms/step - loss: 1.2199 - accuracy: 0.6364\n",
            "Epoch 94/200\n",
            "2/2 [==============================] - 0s 15ms/step - loss: 1.2136 - accuracy: 0.6364\n",
            "Epoch 95/200\n",
            "2/2 [==============================] - 0s 16ms/step - loss: 1.2095 - accuracy: 0.6364\n",
            "Epoch 96/200\n",
            "2/2 [==============================] - 0s 15ms/step - loss: 1.2018 - accuracy: 0.7273\n",
            "Epoch 97/200\n",
            "2/2 [==============================] - 0s 13ms/step - loss: 1.1830 - accuracy: 0.7273\n",
            "Epoch 98/200\n",
            "2/2 [==============================] - 0s 13ms/step - loss: 1.1625 - accuracy: 0.6364\n",
            "Epoch 99/200\n",
            "2/2 [==============================] - 0s 13ms/step - loss: 1.1570 - accuracy: 0.7273\n",
            "Epoch 100/200\n",
            "2/2 [==============================] - 0s 13ms/step - loss: 1.1454 - accuracy: 0.6364\n",
            "Epoch 101/200\n",
            "2/2 [==============================] - 0s 12ms/step - loss: 1.1364 - accuracy: 0.6364\n",
            "Epoch 102/200\n",
            "2/2 [==============================] - 0s 15ms/step - loss: 1.1279 - accuracy: 0.6364\n",
            "Epoch 103/200\n",
            "2/2 [==============================] - 0s 11ms/step - loss: 1.1079 - accuracy: 0.6364\n",
            "Epoch 104/200\n",
            "2/2 [==============================] - 0s 14ms/step - loss: 1.1038 - accuracy: 0.6364\n",
            "Epoch 105/200\n",
            "2/2 [==============================] - 0s 13ms/step - loss: 1.0832 - accuracy: 0.6364\n",
            "Epoch 106/200\n",
            "2/2 [==============================] - 0s 11ms/step - loss: 1.0716 - accuracy: 0.6364\n",
            "Epoch 107/200\n",
            "2/2 [==============================] - 0s 15ms/step - loss: 1.0604 - accuracy: 0.7273\n",
            "Epoch 108/200\n",
            "2/2 [==============================] - 0s 14ms/step - loss: 1.0511 - accuracy: 0.7273\n",
            "Epoch 109/200\n",
            "2/2 [==============================] - 0s 15ms/step - loss: 1.0394 - accuracy: 0.7273\n",
            "Epoch 110/200\n",
            "2/2 [==============================] - 0s 13ms/step - loss: 1.0287 - accuracy: 0.7273\n",
            "Epoch 111/200\n",
            "2/2 [==============================] - 0s 14ms/step - loss: 1.0207 - accuracy: 0.7273\n",
            "Epoch 112/200\n",
            "2/2 [==============================] - 0s 13ms/step - loss: 1.0104 - accuracy: 0.7273\n",
            "Epoch 113/200\n",
            "2/2 [==============================] - 0s 15ms/step - loss: 1.0022 - accuracy: 0.7273\n",
            "Epoch 114/200\n",
            "2/2 [==============================] - 0s 15ms/step - loss: 0.9998 - accuracy: 0.8182\n",
            "Epoch 115/200\n",
            "2/2 [==============================] - 0s 15ms/step - loss: 0.9877 - accuracy: 0.8182\n",
            "Epoch 116/200\n",
            "2/2 [==============================] - 0s 12ms/step - loss: 0.9704 - accuracy: 0.7273\n",
            "Epoch 117/200\n",
            "2/2 [==============================] - 0s 14ms/step - loss: 0.9603 - accuracy: 0.7273\n",
            "Epoch 118/200\n",
            "2/2 [==============================] - 0s 12ms/step - loss: 0.9551 - accuracy: 0.7273\n",
            "Epoch 119/200\n",
            "2/2 [==============================] - 0s 12ms/step - loss: 0.9404 - accuracy: 0.7273\n",
            "Epoch 120/200\n",
            "2/2 [==============================] - 0s 12ms/step - loss: 0.9314 - accuracy: 0.7273\n",
            "Epoch 121/200\n",
            "2/2 [==============================] - 0s 12ms/step - loss: 0.9235 - accuracy: 0.7273\n",
            "Epoch 122/200\n",
            "2/2 [==============================] - 0s 13ms/step - loss: 0.9160 - accuracy: 0.7273\n",
            "Epoch 123/200\n",
            "2/2 [==============================] - 0s 13ms/step - loss: 0.9080 - accuracy: 0.8182\n",
            "Epoch 124/200\n",
            "2/2 [==============================] - 0s 12ms/step - loss: 0.8995 - accuracy: 0.8182\n",
            "Epoch 125/200\n",
            "2/2 [==============================] - 0s 15ms/step - loss: 0.8912 - accuracy: 0.8182\n",
            "Epoch 126/200\n",
            "2/2 [==============================] - 0s 14ms/step - loss: 0.8804 - accuracy: 0.8182\n",
            "Epoch 127/200\n",
            "2/2 [==============================] - 0s 11ms/step - loss: 0.8690 - accuracy: 0.7273\n",
            "Epoch 128/200\n",
            "2/2 [==============================] - 0s 12ms/step - loss: 0.8603 - accuracy: 0.7273\n",
            "Epoch 129/200\n",
            "2/2 [==============================] - 0s 15ms/step - loss: 0.8532 - accuracy: 0.7273\n",
            "Epoch 130/200\n",
            "2/2 [==============================] - 0s 12ms/step - loss: 0.8535 - accuracy: 0.7273\n",
            "Epoch 131/200\n",
            "2/2 [==============================] - 0s 13ms/step - loss: 0.8383 - accuracy: 0.7273\n",
            "Epoch 132/200\n",
            "2/2 [==============================] - 0s 15ms/step - loss: 0.8320 - accuracy: 0.7273\n",
            "Epoch 133/200\n",
            "2/2 [==============================] - 0s 16ms/step - loss: 0.8218 - accuracy: 0.8182\n",
            "Epoch 134/200\n",
            "2/2 [==============================] - 0s 13ms/step - loss: 0.8119 - accuracy: 0.7273\n",
            "Epoch 135/200\n",
            "2/2 [==============================] - 0s 14ms/step - loss: 0.8063 - accuracy: 0.8182\n",
            "Epoch 136/200\n",
            "2/2 [==============================] - 0s 13ms/step - loss: 0.8022 - accuracy: 0.8182\n",
            "Epoch 137/200\n",
            "2/2 [==============================] - 0s 12ms/step - loss: 0.7940 - accuracy: 0.7273\n",
            "Epoch 138/200\n",
            "2/2 [==============================] - 0s 11ms/step - loss: 0.7840 - accuracy: 0.8182\n",
            "Epoch 139/200\n",
            "2/2 [==============================] - 0s 14ms/step - loss: 0.7783 - accuracy: 0.8182\n",
            "Epoch 140/200\n",
            "2/2 [==============================] - 0s 11ms/step - loss: 0.7774 - accuracy: 0.7273\n",
            "Epoch 141/200\n",
            "2/2 [==============================] - 0s 15ms/step - loss: 0.7791 - accuracy: 0.7273\n",
            "Epoch 142/200\n",
            "2/2 [==============================] - 0s 15ms/step - loss: 0.7593 - accuracy: 0.8182\n",
            "Epoch 143/200\n",
            "2/2 [==============================] - 0s 15ms/step - loss: 0.7627 - accuracy: 0.7273\n",
            "Epoch 144/200\n",
            "2/2 [==============================] - 0s 13ms/step - loss: 0.7600 - accuracy: 0.7273\n",
            "Epoch 145/200\n",
            "2/2 [==============================] - 0s 13ms/step - loss: 0.7511 - accuracy: 0.7273\n",
            "Epoch 146/200\n",
            "2/2 [==============================] - 0s 12ms/step - loss: 0.7302 - accuracy: 0.8182\n",
            "Epoch 147/200\n",
            "2/2 [==============================] - 0s 11ms/step - loss: 0.7211 - accuracy: 0.9091\n",
            "Epoch 148/200\n",
            "2/2 [==============================] - 0s 14ms/step - loss: 0.7230 - accuracy: 0.7273\n",
            "Epoch 149/200\n",
            "2/2 [==============================] - 0s 13ms/step - loss: 0.7110 - accuracy: 0.7273\n",
            "Epoch 150/200\n",
            "2/2 [==============================] - 0s 15ms/step - loss: 0.7105 - accuracy: 0.7273\n",
            "Epoch 151/200\n",
            "2/2 [==============================] - 0s 11ms/step - loss: 0.6967 - accuracy: 0.7273\n",
            "Epoch 152/200\n",
            "2/2 [==============================] - 0s 12ms/step - loss: 0.6851 - accuracy: 0.9091\n",
            "Epoch 153/200\n",
            "2/2 [==============================] - 0s 12ms/step - loss: 0.6810 - accuracy: 0.9091\n",
            "Epoch 154/200\n",
            "2/2 [==============================] - 0s 14ms/step - loss: 0.6795 - accuracy: 0.9091\n",
            "Epoch 155/200\n",
            "2/2 [==============================] - 0s 12ms/step - loss: 0.6703 - accuracy: 0.9091\n",
            "Epoch 156/200\n",
            "2/2 [==============================] - 0s 11ms/step - loss: 0.6620 - accuracy: 0.8182\n",
            "Epoch 157/200\n",
            "2/2 [==============================] - 0s 15ms/step - loss: 0.6640 - accuracy: 0.8182\n",
            "Epoch 158/200\n",
            "2/2 [==============================] - 0s 15ms/step - loss: 0.6542 - accuracy: 0.9091\n",
            "Epoch 159/200\n",
            "2/2 [==============================] - 0s 14ms/step - loss: 0.6470 - accuracy: 0.9091\n",
            "Epoch 160/200\n",
            "2/2 [==============================] - 0s 16ms/step - loss: 0.6403 - accuracy: 0.9091\n",
            "Epoch 161/200\n",
            "2/2 [==============================] - 0s 11ms/step - loss: 0.6326 - accuracy: 0.9091\n",
            "Epoch 162/200\n",
            "2/2 [==============================] - 0s 12ms/step - loss: 0.6231 - accuracy: 0.9091\n",
            "Epoch 163/200\n",
            "2/2 [==============================] - 0s 11ms/step - loss: 0.6143 - accuracy: 0.9091\n",
            "Epoch 164/200\n",
            "2/2 [==============================] - 0s 12ms/step - loss: 0.6109 - accuracy: 0.9091\n",
            "Epoch 165/200\n",
            "2/2 [==============================] - 0s 14ms/step - loss: 0.6081 - accuracy: 0.9091\n",
            "Epoch 166/200\n",
            "2/2 [==============================] - 0s 12ms/step - loss: 0.6057 - accuracy: 0.9091\n",
            "Epoch 167/200\n",
            "2/2 [==============================] - 0s 11ms/step - loss: 0.6084 - accuracy: 0.9091\n",
            "Epoch 168/200\n",
            "2/2 [==============================] - 0s 12ms/step - loss: 0.6020 - accuracy: 0.9091\n",
            "Epoch 169/200\n",
            "2/2 [==============================] - 0s 16ms/step - loss: 0.5903 - accuracy: 0.9091\n",
            "Epoch 170/200\n",
            "2/2 [==============================] - 0s 11ms/step - loss: 0.5768 - accuracy: 0.9091\n",
            "Epoch 171/200\n",
            "2/2 [==============================] - 0s 13ms/step - loss: 0.5731 - accuracy: 0.9091\n",
            "Epoch 172/200\n",
            "2/2 [==============================] - 0s 12ms/step - loss: 0.5660 - accuracy: 0.9091\n",
            "Epoch 173/200\n",
            "2/2 [==============================] - 0s 15ms/step - loss: 0.5636 - accuracy: 0.9091\n",
            "Epoch 174/200\n",
            "2/2 [==============================] - 0s 14ms/step - loss: 0.5583 - accuracy: 0.9091\n",
            "Epoch 175/200\n",
            "2/2 [==============================] - 0s 14ms/step - loss: 0.5514 - accuracy: 0.9091\n",
            "Epoch 176/200\n",
            "2/2 [==============================] - 0s 15ms/step - loss: 0.5468 - accuracy: 0.9091\n",
            "Epoch 177/200\n",
            "2/2 [==============================] - 0s 13ms/step - loss: 0.5441 - accuracy: 0.9091\n",
            "Epoch 178/200\n",
            "2/2 [==============================] - 0s 14ms/step - loss: 0.5337 - accuracy: 0.9091\n",
            "Epoch 179/200\n",
            "2/2 [==============================] - 0s 13ms/step - loss: 0.5316 - accuracy: 0.9091\n",
            "Epoch 180/200\n",
            "2/2 [==============================] - 0s 14ms/step - loss: 0.5253 - accuracy: 0.9091\n",
            "Epoch 181/200\n",
            "2/2 [==============================] - 0s 16ms/step - loss: 0.5215 - accuracy: 0.9091\n",
            "Epoch 182/200\n",
            "2/2 [==============================] - 0s 13ms/step - loss: 0.5179 - accuracy: 0.9091\n",
            "Epoch 183/200\n",
            "2/2 [==============================] - 0s 14ms/step - loss: 0.5149 - accuracy: 0.9091\n",
            "Epoch 184/200\n",
            "2/2 [==============================] - 0s 14ms/step - loss: 0.5090 - accuracy: 0.9091\n",
            "Epoch 185/200\n",
            "2/2 [==============================] - 0s 12ms/step - loss: 0.5076 - accuracy: 0.9091\n",
            "Epoch 186/200\n",
            "2/2 [==============================] - 0s 15ms/step - loss: 0.5162 - accuracy: 0.9091\n",
            "Epoch 187/200\n",
            "2/2 [==============================] - 0s 12ms/step - loss: 0.5172 - accuracy: 0.9091\n",
            "Epoch 188/200\n",
            "2/2 [==============================] - 0s 12ms/step - loss: 0.5160 - accuracy: 0.9091\n",
            "Epoch 189/200\n",
            "2/2 [==============================] - 0s 12ms/step - loss: 0.5024 - accuracy: 0.9091\n",
            "Epoch 190/200\n",
            "2/2 [==============================] - 0s 12ms/step - loss: 0.4867 - accuracy: 0.9091\n",
            "Epoch 191/200\n",
            "2/2 [==============================] - 0s 15ms/step - loss: 0.4809 - accuracy: 0.9091\n",
            "Epoch 192/200\n",
            "2/2 [==============================] - 0s 16ms/step - loss: 0.4757 - accuracy: 0.9091\n",
            "Epoch 193/200\n",
            "2/2 [==============================] - 0s 13ms/step - loss: 0.4734 - accuracy: 0.9091\n",
            "Epoch 194/200\n",
            "2/2 [==============================] - 0s 12ms/step - loss: 0.4726 - accuracy: 0.9091\n",
            "Epoch 195/200\n",
            "2/2 [==============================] - 0s 14ms/step - loss: 0.4683 - accuracy: 0.9091\n",
            "Epoch 196/200\n",
            "2/2 [==============================] - 0s 12ms/step - loss: 0.4638 - accuracy: 0.9091\n",
            "Epoch 197/200\n",
            "2/2 [==============================] - 0s 12ms/step - loss: 0.4538 - accuracy: 0.9091\n",
            "Epoch 198/200\n",
            "2/2 [==============================] - 0s 15ms/step - loss: 0.4496 - accuracy: 0.9091\n",
            "Epoch 199/200\n",
            "2/2 [==============================] - 0s 11ms/step - loss: 0.4457 - accuracy: 0.9091\n",
            "Epoch 200/200\n",
            "2/2 [==============================] - 0s 12ms/step - loss: 0.4405 - accuracy: 0.9091\n"
          ]
        }
      ],
      "source": [
        "h1 = model1.fit(X, y_en, epochs=200, batch_size=10)"
      ]
    },
    {
      "cell_type": "code",
      "execution_count": null,
      "metadata": {
        "colab": {
          "base_uri": "https://localhost:8080/",
          "height": 282
        },
        "id": "XOp-INe9Pl9h",
        "outputId": "6dacc55b-869b-4b68-e5a3-e33ea78ed544"
      },
      "outputs": [
        {
          "data": {
            "text/plain": [
              "[<matplotlib.lines.Line2D at 0x7f0f2c57b750>]"
            ]
          },
          "execution_count": 38,
          "metadata": {},
          "output_type": "execute_result"
        },
        {
          "data": {
            "image/png": "[encoded data removed]",
            "text/plain": [
              "<Figure size 432x288 with 1 Axes>"
            ]
          },
          "metadata": {
            "needs_background": "light"
          },
          "output_type": "display_data"
        }
      ],
      "source": [
        "import matplotlib.pyplot as plt\n",
        "\n",
        "# 학습 결과에서 accuracy 값들을 가져온다\n",
        "accuracy = h1.history[\"accuracy\"]\n",
        "# val_accuracy = h1.history[\"val_accuracy\"]\n",
        "\n",
        "# 반복 수\n",
        "xaxis = range(1, len(accuracy)+1)\n",
        "plt.plot(xaxis, accuracy, \"r\", label=\"train_accuracy\")\n",
        "# plt.plot(xaxis, val_accuracy, \"b\", label=\"test_accuracy\")"
      ]
    },
    {
      "cell_type": "markdown",
      "metadata": {
        "id": "tEXQGKkoS9Jm"
      },
      "source": [
        "- 문장을 생성하는 함수"
      ]
    },
    {
      "cell_type": "code",
      "execution_count": null,
      "metadata": {
        "id": "CCNba5eOPl_-"
      },
      "outputs": [],
      "source": [
        "import numpy as np\n",
        "# model : 사용한 모델\n",
        "# t : 사용한 Tonkenizer\n",
        "# word : 입력단어\n",
        "# n : 입력단어로부터 예측할 단어 수\n",
        "def generate_seqence(model, t, current_word, n) :\n",
        "  init_word = current_word  # 입력된 단어로 시작해야 하므로 입력단어를 먼저 저장\n",
        "  # 생성한 문장을 저장할 변수 초기화\n",
        "  seq = \"\"\n",
        "  for _ in range(n) :\n",
        "    # 현재 단어를 인코딩하고 padding 처리를 수행\n",
        "    encoded = t.texts_to_sequences([current_word])[0]\n",
        "    encoded = pad_sequences([encoded], maxlen=max_len-1)\n",
        "    # 현재 단어로 다음 단어를 예측 (인덱스 반환)\n",
        "    result = np.argmax(model.predict(encoded))\n",
        "    #print(result)\n",
        "    for word, index in t.word_index.items() :\n",
        "      # 예측한 단어와 동일한 인덱스의 단어가 있다면 종료\n",
        "      if index == result :\n",
        "        break\n",
        "    # 현재단어와 예측한 단어를 연결\n",
        "    current_word = current_word + \" \" + word\n",
        "    seq = seq + \" \" + word\n",
        "  seq = init_word + seq\n",
        "  return seq"
      ]
    },
    {
      "cell_type": "code",
      "execution_count": null,
      "metadata": {
        "colab": {
          "base_uri": "https://localhost:8080/",
          "height": 208
        },
        "id": "zhLBqIf9PmCF",
        "outputId": "fb10dfdf-ddc6-4e62-85ee-d87abb325be5"
      },
      "outputs": [
        {
          "name": "stdout",
          "output_type": "stream",
          "text": [
            "1/1 [==============================] - 0s 27ms/step\n",
            "1/1 [==============================] - 0s 17ms/step\n",
            "1/1 [==============================] - 0s 15ms/step\n",
            "1/1 [==============================] - 0s 14ms/step\n",
            "1/1 [==============================] - 0s 15ms/step\n",
            "1/1 [==============================] - 0s 16ms/step\n",
            "1/1 [==============================] - 0s 17ms/step\n",
            "1/1 [==============================] - 0s 19ms/step\n",
            "1/1 [==============================] - 0s 16ms/step\n",
            "1/1 [==============================] - 0s 19ms/step\n"
          ]
        },
        {
          "data": {
            "application/vnd.google.colaboratory.intrinsic+json": {
              "type": "string"
            },
            "text/plain": [
              "'가는 말이 고와야 오는 말이 곱다 오는 말이 곱다 오는 말이 곱다'"
            ]
          },
          "execution_count": 63,
          "metadata": {},
          "output_type": "execute_result"
        }
      ],
      "source": [
        "generate_seqence(model1, t, \"가는 말이\", 10)"
      ]
    },
    {
      "cell_type": "code",
      "execution_count": null,
      "metadata": {
        "id": "vKWL50rXPmEd"
      },
      "outputs": [],
      "source": []
    },
    {
      "cell_type": "code",
      "execution_count": null,
      "metadata": {
        "id": "pcJRSRiqPmGs"
      },
      "outputs": [],
      "source": []
    },
    {
      "cell_type": "code",
      "execution_count": null,
      "metadata": {
        "id": "9ZCq4CdoPmIr"
      },
      "outputs": [],
      "source": []
    },
    {
      "cell_type": "code",
      "execution_count": null,
      "metadata": {
        "id": "bW3wMYKxPmLC"
      },
      "outputs": [],
      "source": []
    },
    {
      "cell_type": "code",
      "execution_count": null,
      "metadata": {
        "id": "eyFJPNCgPmNL"
      },
      "outputs": [],
      "source": []
    },
    {
      "cell_type": "code",
      "execution_count": null,
      "metadata": {
        "id": "_1RQg40nPmPg"
      },
      "outputs": [],
      "source": []
    },
    {
      "cell_type": "code",
      "execution_count": null,
      "metadata": {
        "id": "rIE1fWaTPmR2"
      },
      "outputs": [],
      "source": []
    },
    {
      "cell_type": "code",
      "execution_count": null,
      "metadata": {
        "id": "m9Qjg_jJPmUB"
      },
      "outputs": [],
      "source": []
    },
    {
      "cell_type": "code",
      "execution_count": null,
      "metadata": {
        "id": "1pQIM-DePmWZ"
      },
      "outputs": [],
      "source": []
    },
    {
      "cell_type": "code",
      "execution_count": null,
      "metadata": {
        "id": "yBr6GPJiPmY4"
      },
      "outputs": [],
      "source": []
    }
  ],
  "metadata": {
    "accelerator": "GPU",
    "colab": {
      "collapsed_sections": [],
      "provenance": []
    },
    "kernelspec": {
      "display_name": "Python 3",
      "language": "python",
      "name": "python3"
    },
    "language_info": {
      "name": "python",
      "version": "3.8.9 (default, Apr 13 2022, 08:48:06) \n[Clang 13.1.6 (clang-1316.0.21.2.5)]"
    },
    "vscode": {
      "interpreter": {
        "hash": "31f2aee4e71d21fbe5cf8b01ff0e069b9275f58929596ceb00d14d90e3e16cd6"
      }
    }
  },
  "nbformat": 4,
  "nbformat_minor": 0
}
