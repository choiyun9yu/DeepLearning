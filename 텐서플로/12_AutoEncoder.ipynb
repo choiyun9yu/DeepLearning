{
  "nbformat": 4,
  "nbformat_minor": 0,
  "metadata": {
    "colab": {
      "provenance": [],
      "collapsed_sections": []
    },
    "kernelspec": {
      "name": "python3",
      "display_name": "Python 3"
    },
    "language_info": {
      "name": "python"
    },
    "accelerator": "GPU",
    "gpuClass": "standard"
  },
  "cells": [
    {
      "cell_type": "markdown",
      "source": [
        "# Auto encoder\n",
        "- 입력 데이터를 출력층에서 그대로 복원하는 은닉층의 신경망 파라미터를 계산\n",
        "- 평가함수 : 오차 = 출력층 - 입력층\n",
        "- 구성 : 인코더 -> 은닉층 -> 디코더\n",
        "  - 인코더 : 입력층에서 특성을 추출하는 기능 (지금까지 우리가 배운 것)\n",
        "  - 은닉층 : 입력의 데이터를 복원하기 위한 특성 파라미터 계산\n",
        "  - 디코더 : 추출한 특성을 이용해서 원래의 데이터를 복원하는 기능\n",
        "- 비지도학습에 속함 - 라벨데이터가 필요없음  \n",
        "    \n",
        "종류\n",
        "- Denoising autoencoder (잡음 제거)\n",
        "- Sequence-to-sequence autoencoder (문장 복제)\n",
        "- Variational autoencoder (변형,VAE) <- 확률 밀도 함수 들어감    \n",
        "  "
      ],
      "metadata": {
        "id": "4I5W7nwn7hLL"
      }
    },
    {
      "cell_type": "code",
      "source": [
        "from google.colab import drive\n",
        "drive.mount('/content/drive')"
      ],
      "metadata": {
        "id": "LlpdHofJj4Wv"
      },
      "execution_count": null,
      "outputs": []
    },
    {
      "cell_type": "markdown",
      "source": [
        "## Uncomplete AE : 입력층보다 은닉층의 크기가 작은 AE"
      ],
      "metadata": {
        "id": "oE3TSsMbAadu"
      }
    },
    {
      "cell_type": "markdown",
      "source": [
        "- 손글씨 데이터를 이용한 손글시 복원"
      ],
      "metadata": {
        "id": "raisQyP9An1F"
      }
    },
    {
      "cell_type": "code",
      "source": [
        "from tensorflow.keras.datasets import mnist\n",
        "\n",
        "# 데이터를 가져올 때 특성 데이터만 가져옴\n",
        "(X_train,_), (X_test,_) = mnist.load_data()"
      ],
      "metadata": {
        "colab": {
          "base_uri": "https://localhost:8080/"
        },
        "id": "-NRNanDg7iUv",
        "outputId": "1c097b79-c99d-43bd-b653-f36f32c070d6"
      },
      "execution_count": null,
      "outputs": [
        {
          "output_type": "stream",
          "name": "stdout",
          "text": [
            "Downloading data from https://storage.googleapis.com/tensorflow/tf-keras-datasets/mnist.npz\n",
            "11490434/11490434 [==============================] - 0s 0us/step\n"
          ]
        }
      ]
    },
    {
      "cell_type": "code",
      "source": [
        "X_train.shape, X_test.shape"
      ],
      "metadata": {
        "colab": {
          "base_uri": "https://localhost:8080/"
        },
        "id": "dZtjUdK17iXV",
        "outputId": "4433acff-ca56-42c0-b105-0740832307ee"
      },
      "execution_count": null,
      "outputs": [
        {
          "output_type": "execute_result",
          "data": {
            "text/plain": [
              "((60000, 28, 28), (10000, 28, 28))"
            ]
          },
          "metadata": {},
          "execution_count": 2
        }
      ]
    },
    {
      "cell_type": "code",
      "source": [
        "from os import XATTR_CREATE\n",
        "# 정규화(0~255이미지 -> 0.0~1.0)\n",
        "# Dense층만 사용한 오토인코더이므로 reshape : 2차원 데이터를 1차원 데이터로 변환해줘야\n",
        "\n",
        "# 데이터 1차원으로 펴주기\n",
        "X_train = X_train.reshape(60000, 28*28)\n",
        "X_test = X_test.reshape(10000, 28*28)\n",
        "\n",
        "# 정규화\n",
        "X_train = X_train.astype(\"float32\") / 255\n",
        "X_test = X_test.astype(\"float32\") / 255"
      ],
      "metadata": {
        "id": "dWultYJw7iZz"
      },
      "execution_count": null,
      "outputs": []
    },
    {
      "cell_type": "code",
      "source": [
        "X_train.shape, X_test.shape"
      ],
      "metadata": {
        "colab": {
          "base_uri": "https://localhost:8080/"
        },
        "id": "Q29raNf-Bc2i",
        "outputId": "dedb5282-e5f8-4204-9504-08ae82154d01"
      },
      "execution_count": null,
      "outputs": [
        {
          "output_type": "execute_result",
          "data": {
            "text/plain": [
              "((60000, 784), (10000, 784))"
            ]
          },
          "metadata": {},
          "execution_count": 4
        }
      ]
    },
    {
      "cell_type": "code",
      "source": [
        "# 오토인코더 설계\n",
        "from tensorflow.keras.models import Sequential\n",
        "from tensorflow.keras.layers import Dense\n",
        "\n",
        "model1 = Sequential()\n",
        "\n",
        "# 인코더\n",
        "# Uncomplete AE에서는 퍼셉트론의 수를 일괄적으로 32개 fix\n",
        "model1.add(Dense(32, input_dim=784, activation='relu'))\n",
        "\n",
        "# 디코더\n",
        "# 출력층의 수는 입력층의 수와 동일하게\n",
        "model1.add(Dense(784, activation='sigmoid'))\n",
        "\n",
        "model1.summary()"
      ],
      "metadata": {
        "colab": {
          "base_uri": "https://localhost:8080/"
        },
        "id": "pg_ios2DBc4Y",
        "outputId": "95670760-4c4e-41ae-c377-d7ee881a8ab0"
      },
      "execution_count": null,
      "outputs": [
        {
          "output_type": "stream",
          "name": "stdout",
          "text": [
            "Model: \"sequential_1\"\n",
            "_________________________________________________________________\n",
            " Layer (type)                Output Shape              Param #   \n",
            "=================================================================\n",
            " dense_2 (Dense)             (None, 32)                25120     \n",
            "                                                                 \n",
            " dense_3 (Dense)             (None, 784)               25872     \n",
            "                                                                 \n",
            "=================================================================\n",
            "Total params: 50,992\n",
            "Trainable params: 50,992\n",
            "Non-trainable params: 0\n",
            "_________________________________________________________________\n"
          ]
        }
      ]
    },
    {
      "cell_type": "code",
      "source": [
        "# AE는 평가도구 loss를 사용하므로 metrics를 설정하지 않음(회귀처럼 사용)\n",
        "model1.compile(loss=\"binary_crossentropy\",\n",
        "               optimizer='adam')"
      ],
      "metadata": {
        "id": "WktiYcEHBc6p"
      },
      "execution_count": null,
      "outputs": []
    },
    {
      "cell_type": "code",
      "source": [
        "# 입력 데이터와 출력 데이터가 동일(자기복제)\n",
        "h1 = model1.fit(X_train, X_train, epochs=1000, batch_size=256, validation_data=(X_test, X_test), shuffle=True)"
      ],
      "metadata": {
        "id": "_dxT7IcPBc8h"
      },
      "execution_count": null,
      "outputs": []
    },
    {
      "cell_type": "code",
      "source": [
        "# 예측\n",
        "decode1 = model1.predict(X_test)"
      ],
      "metadata": {
        "colab": {
          "base_uri": "https://localhost:8080/"
        },
        "id": "_Mb7wY3CBc-3",
        "outputId": "ed36530c-73bb-4e36-ad01-772fa51b6c04"
      },
      "execution_count": null,
      "outputs": [
        {
          "output_type": "stream",
          "name": "stdout",
          "text": [
            "313/313 [==============================] - 1s 1ms/step\n"
          ]
        }
      ]
    },
    {
      "cell_type": "code",
      "source": [
        "decode1.mean()"
      ],
      "metadata": {
        "colab": {
          "base_uri": "https://localhost:8080/"
        },
        "id": "1kZTeUjiBdA0",
        "outputId": "52033214-bbf5-4c1d-c613-5ff7a3f9f39c"
      },
      "execution_count": null,
      "outputs": [
        {
          "output_type": "execute_result",
          "data": {
            "text/plain": [
              "0.13243565"
            ]
          },
          "metadata": {},
          "execution_count": 16
        }
      ]
    },
    {
      "cell_type": "code",
      "source": [
        "# 결과 시각화\n",
        "import matplotlib.pyplot as plt\n",
        "\n",
        "# 출력 이미지 수\n",
        "n = 10\n",
        "\n",
        "plt.figure(figsize=(20,4))\n",
        "\n",
        "for i in range(n):\n",
        "  # 원본 이미지\n",
        "  # 행, 렬, 출력 위치\n",
        "  plt.subplot(2, n , i+1)\n",
        "  plt.imshow(X_test[i].reshape(28,28), cmap='gray')\n",
        "  plt.axis('off')\n",
        "\n",
        "  # 생성 이미지\n",
        "  plt.subplot(2, n, i+1+n)\n",
        "  plt.imshow(decode1[i].reshape(28,28), cmap='gray')\n",
        "  plt.axis('off')"
      ],
      "metadata": {
        "colab": {
          "base_uri": "https://localhost:8080/",
          "height": 244
        },
        "id": "S3G0XFGOBdDT",
        "outputId": "cce9e48c-1bb2-48c7-9028-ab7a5be78172"
      },
      "execution_count": null,
      "outputs": [
        {
          "output_type": "display_data",
          "data": {
            "text/plain": [
              "<Figure size 1440x288 with 20 Axes>"
            ],
            "image/png": "[encoded data removed]"
          },
          "metadata": {
            "needs_background": "light"
          }
        }
      ]
    },
    {
      "cell_type": "markdown",
      "source": [
        "## Sparse AE : 입력층에 L1이나 L2 규제를 추가해서 과적합 줄이는 모델\n",
        "- 입력층에 L1이나 L2를 추가해서 과적합 부분을 줄여주는 것"
      ],
      "metadata": {
        "id": "EglWd_gNJmPz"
      }
    },
    {
      "cell_type": "code",
      "source": [
        "from tensorflow.keras import regularizers\n",
        "\n",
        "model2 = Sequential()\n",
        "\n",
        "# 인코더\n",
        "# L1규제 추가\n",
        "model2.add(Dense(32, input_dim=784, activation='relu',\n",
        "                 activity_regularizer=regularizers.l1(10e-7)))\n",
        "\n",
        "# 디코더\n",
        "model2.add(Dense(784, activation='sigmoid'))\n",
        "\n",
        "model2.summary()"
      ],
      "metadata": {
        "colab": {
          "base_uri": "https://localhost:8080/"
        },
        "id": "NkMi8wsK7icP",
        "outputId": "ef94c695-f46b-495b-b32f-6543e443ca8f"
      },
      "execution_count": null,
      "outputs": [
        {
          "output_type": "stream",
          "name": "stdout",
          "text": [
            "Model: \"sequential_2\"\n",
            "_________________________________________________________________\n",
            " Layer (type)                Output Shape              Param #   \n",
            "=================================================================\n",
            " dense_4 (Dense)             (None, 32)                25120     \n",
            "                                                                 \n",
            " dense_5 (Dense)             (None, 784)               25872     \n",
            "                                                                 \n",
            "=================================================================\n",
            "Total params: 50,992\n",
            "Trainable params: 50,992\n",
            "Non-trainable params: 0\n",
            "_________________________________________________________________\n"
          ]
        }
      ]
    },
    {
      "cell_type": "code",
      "source": [
        "model2.compile(loss=\"binary_crossentropy\",\n",
        "               optimizer='adam')"
      ],
      "metadata": {
        "id": "sC0GMMyEIkM7"
      },
      "execution_count": null,
      "outputs": []
    },
    {
      "cell_type": "code",
      "source": [
        "h2 = model2.fit(X_train, X_train, epochs=100, batch_size=256, validation_data=(X_test, X_test), shuffle=True)"
      ],
      "metadata": {
        "colab": {
          "base_uri": "https://localhost:8080/"
        },
        "id": "sjWzZSkBIkPG",
        "outputId": "76798288-9737-4d85-d95b-fcf857683108"
      },
      "execution_count": null,
      "outputs": [
        {
          "output_type": "stream",
          "name": "stdout",
          "text": [
            "Epoch 1/100\n",
            "235/235 [==============================] - 1s 4ms/step - loss: 0.1204 - val_loss: 0.1147\n",
            "Epoch 2/100\n",
            "235/235 [==============================] - 1s 4ms/step - loss: 0.1126 - val_loss: 0.1081\n",
            "Epoch 3/100\n",
            "235/235 [==============================] - 1s 5ms/step - loss: 0.1070 - val_loss: 0.1035\n",
            "Epoch 4/100\n",
            "235/235 [==============================] - 1s 4ms/step - loss: 0.1029 - val_loss: 0.1000\n",
            "Epoch 5/100\n",
            "235/235 [==============================] - 1s 4ms/step - loss: 0.1001 - val_loss: 0.0977\n",
            "Epoch 6/100\n",
            "235/235 [==============================] - 1s 4ms/step - loss: 0.0980 - val_loss: 0.0959\n",
            "Epoch 7/100\n",
            "235/235 [==============================] - 1s 5ms/step - loss: 0.0967 - val_loss: 0.0949\n",
            "Epoch 8/100\n",
            "235/235 [==============================] - 1s 4ms/step - loss: 0.0957 - val_loss: 0.0941\n",
            "Epoch 9/100\n",
            "235/235 [==============================] - 1s 5ms/step - loss: 0.0951 - val_loss: 0.0935\n",
            "Epoch 10/100\n",
            "235/235 [==============================] - 1s 5ms/step - loss: 0.0947 - val_loss: 0.0933\n",
            "Epoch 11/100\n",
            "235/235 [==============================] - 1s 5ms/step - loss: 0.0944 - val_loss: 0.0929\n",
            "Epoch 12/100\n",
            "235/235 [==============================] - 1s 4ms/step - loss: 0.0942 - val_loss: 0.0928\n",
            "Epoch 13/100\n",
            "235/235 [==============================] - 1s 5ms/step - loss: 0.0940 - val_loss: 0.0926\n",
            "Epoch 14/100\n",
            "235/235 [==============================] - 1s 4ms/step - loss: 0.0938 - val_loss: 0.0925\n",
            "Epoch 15/100\n",
            "235/235 [==============================] - 1s 4ms/step - loss: 0.0937 - val_loss: 0.0924\n",
            "Epoch 16/100\n",
            "235/235 [==============================] - 1s 4ms/step - loss: 0.0937 - val_loss: 0.0924\n",
            "Epoch 17/100\n",
            "235/235 [==============================] - 1s 5ms/step - loss: 0.0936 - val_loss: 0.0922\n",
            "Epoch 18/100\n",
            "235/235 [==============================] - 1s 4ms/step - loss: 0.0935 - val_loss: 0.0923\n",
            "Epoch 19/100\n",
            "235/235 [==============================] - 1s 4ms/step - loss: 0.0934 - val_loss: 0.0922\n",
            "Epoch 20/100\n",
            "235/235 [==============================] - 1s 4ms/step - loss: 0.0934 - val_loss: 0.0921\n",
            "Epoch 21/100\n",
            "235/235 [==============================] - 1s 4ms/step - loss: 0.0933 - val_loss: 0.0920\n",
            "Epoch 22/100\n",
            "235/235 [==============================] - 1s 5ms/step - loss: 0.0933 - val_loss: 0.0921\n",
            "Epoch 23/100\n",
            "235/235 [==============================] - 1s 4ms/step - loss: 0.0932 - val_loss: 0.0920\n",
            "Epoch 24/100\n",
            "235/235 [==============================] - 1s 5ms/step - loss: 0.0932 - val_loss: 0.0919\n",
            "Epoch 25/100\n",
            "235/235 [==============================] - 1s 4ms/step - loss: 0.0932 - val_loss: 0.0919\n",
            "Epoch 26/100\n",
            "235/235 [==============================] - 1s 4ms/step - loss: 0.0931 - val_loss: 0.0919\n",
            "Epoch 27/100\n",
            "235/235 [==============================] - 1s 5ms/step - loss: 0.0931 - val_loss: 0.0919\n",
            "Epoch 28/100\n",
            "235/235 [==============================] - 1s 4ms/step - loss: 0.0931 - val_loss: 0.0918\n",
            "Epoch 29/100\n",
            "235/235 [==============================] - 1s 4ms/step - loss: 0.0931 - val_loss: 0.0918\n",
            "Epoch 30/100\n",
            "235/235 [==============================] - 1s 4ms/step - loss: 0.0930 - val_loss: 0.0919\n",
            "Epoch 31/100\n",
            "235/235 [==============================] - 1s 4ms/step - loss: 0.0930 - val_loss: 0.0918\n",
            "Epoch 32/100\n",
            "235/235 [==============================] - 1s 4ms/step - loss: 0.0930 - val_loss: 0.0918\n",
            "Epoch 33/100\n",
            "235/235 [==============================] - 1s 4ms/step - loss: 0.0930 - val_loss: 0.0918\n",
            "Epoch 34/100\n",
            "235/235 [==============================] - 1s 4ms/step - loss: 0.0930 - val_loss: 0.0918\n",
            "Epoch 35/100\n",
            "235/235 [==============================] - 1s 5ms/step - loss: 0.0929 - val_loss: 0.0918\n",
            "Epoch 36/100\n",
            "235/235 [==============================] - 1s 6ms/step - loss: 0.0929 - val_loss: 0.0918\n",
            "Epoch 37/100\n",
            "235/235 [==============================] - 1s 6ms/step - loss: 0.0929 - val_loss: 0.0917\n",
            "Epoch 38/100\n",
            "235/235 [==============================] - 1s 4ms/step - loss: 0.0929 - val_loss: 0.0918\n",
            "Epoch 39/100\n",
            "235/235 [==============================] - 1s 4ms/step - loss: 0.0929 - val_loss: 0.0917\n",
            "Epoch 40/100\n",
            "235/235 [==============================] - 1s 4ms/step - loss: 0.0929 - val_loss: 0.0917\n",
            "Epoch 41/100\n",
            "235/235 [==============================] - 1s 5ms/step - loss: 0.0929 - val_loss: 0.0916\n",
            "Epoch 42/100\n",
            "235/235 [==============================] - 1s 5ms/step - loss: 0.0928 - val_loss: 0.0917\n",
            "Epoch 43/100\n",
            "235/235 [==============================] - 1s 5ms/step - loss: 0.0928 - val_loss: 0.0916\n",
            "Epoch 44/100\n",
            "235/235 [==============================] - 1s 5ms/step - loss: 0.0928 - val_loss: 0.0917\n",
            "Epoch 45/100\n",
            "235/235 [==============================] - 1s 5ms/step - loss: 0.0928 - val_loss: 0.0916\n",
            "Epoch 46/100\n",
            "235/235 [==============================] - 1s 4ms/step - loss: 0.0928 - val_loss: 0.0916\n",
            "Epoch 47/100\n",
            "235/235 [==============================] - 1s 5ms/step - loss: 0.0928 - val_loss: 0.0916\n",
            "Epoch 48/100\n",
            "235/235 [==============================] - 1s 5ms/step - loss: 0.0928 - val_loss: 0.0917\n",
            "Epoch 49/100\n",
            "235/235 [==============================] - 1s 4ms/step - loss: 0.0928 - val_loss: 0.0916\n",
            "Epoch 50/100\n",
            "235/235 [==============================] - 1s 5ms/step - loss: 0.0928 - val_loss: 0.0916\n",
            "Epoch 51/100\n",
            "235/235 [==============================] - 1s 5ms/step - loss: 0.0927 - val_loss: 0.0916\n",
            "Epoch 52/100\n",
            "235/235 [==============================] - 1s 5ms/step - loss: 0.0927 - val_loss: 0.0916\n",
            "Epoch 53/100\n",
            "235/235 [==============================] - 1s 5ms/step - loss: 0.0927 - val_loss: 0.0915\n",
            "Epoch 54/100\n",
            "235/235 [==============================] - 1s 5ms/step - loss: 0.0927 - val_loss: 0.0915\n",
            "Epoch 55/100\n",
            "235/235 [==============================] - 1s 5ms/step - loss: 0.0927 - val_loss: 0.0916\n",
            "Epoch 56/100\n",
            "235/235 [==============================] - 1s 4ms/step - loss: 0.0927 - val_loss: 0.0915\n",
            "Epoch 57/100\n",
            "235/235 [==============================] - 1s 5ms/step - loss: 0.0927 - val_loss: 0.0915\n",
            "Epoch 58/100\n",
            "235/235 [==============================] - 1s 5ms/step - loss: 0.0927 - val_loss: 0.0916\n",
            "Epoch 59/100\n",
            "235/235 [==============================] - 1s 4ms/step - loss: 0.0926 - val_loss: 0.0915\n",
            "Epoch 60/100\n",
            "235/235 [==============================] - 1s 5ms/step - loss: 0.0926 - val_loss: 0.0916\n",
            "Epoch 61/100\n",
            "235/235 [==============================] - 1s 4ms/step - loss: 0.0926 - val_loss: 0.0915\n",
            "Epoch 62/100\n",
            "235/235 [==============================] - 1s 5ms/step - loss: 0.0926 - val_loss: 0.0915\n",
            "Epoch 63/100\n",
            "235/235 [==============================] - 1s 5ms/step - loss: 0.0926 - val_loss: 0.0915\n",
            "Epoch 64/100\n",
            "235/235 [==============================] - 1s 4ms/step - loss: 0.0926 - val_loss: 0.0915\n",
            "Epoch 65/100\n",
            "235/235 [==============================] - 1s 4ms/step - loss: 0.0926 - val_loss: 0.0915\n",
            "Epoch 66/100\n",
            "235/235 [==============================] - 1s 5ms/step - loss: 0.0926 - val_loss: 0.0915\n",
            "Epoch 67/100\n",
            "235/235 [==============================] - 1s 5ms/step - loss: 0.0926 - val_loss: 0.0915\n",
            "Epoch 68/100\n",
            "235/235 [==============================] - 1s 6ms/step - loss: 0.0926 - val_loss: 0.0915\n",
            "Epoch 69/100\n",
            "235/235 [==============================] - 1s 6ms/step - loss: 0.0926 - val_loss: 0.0915\n",
            "Epoch 70/100\n",
            "235/235 [==============================] - 1s 6ms/step - loss: 0.0926 - val_loss: 0.0914\n",
            "Epoch 71/100\n",
            "235/235 [==============================] - 1s 4ms/step - loss: 0.0925 - val_loss: 0.0914\n",
            "Epoch 72/100\n",
            "235/235 [==============================] - 1s 5ms/step - loss: 0.0925 - val_loss: 0.0914\n",
            "Epoch 73/100\n",
            "235/235 [==============================] - 1s 4ms/step - loss: 0.0925 - val_loss: 0.0914\n",
            "Epoch 74/100\n",
            "235/235 [==============================] - 1s 4ms/step - loss: 0.0925 - val_loss: 0.0915\n",
            "Epoch 75/100\n",
            "235/235 [==============================] - 1s 4ms/step - loss: 0.0925 - val_loss: 0.0915\n",
            "Epoch 76/100\n",
            "235/235 [==============================] - 1s 5ms/step - loss: 0.0925 - val_loss: 0.0914\n",
            "Epoch 77/100\n",
            "235/235 [==============================] - 1s 4ms/step - loss: 0.0925 - val_loss: 0.0914\n",
            "Epoch 78/100\n",
            "235/235 [==============================] - 1s 5ms/step - loss: 0.0925 - val_loss: 0.0915\n",
            "Epoch 79/100\n",
            "235/235 [==============================] - 1s 4ms/step - loss: 0.0925 - val_loss: 0.0914\n",
            "Epoch 80/100\n",
            "235/235 [==============================] - 1s 4ms/step - loss: 0.0925 - val_loss: 0.0914\n",
            "Epoch 81/100\n",
            "235/235 [==============================] - 1s 5ms/step - loss: 0.0925 - val_loss: 0.0914\n",
            "Epoch 82/100\n",
            "235/235 [==============================] - 1s 4ms/step - loss: 0.0925 - val_loss: 0.0914\n",
            "Epoch 83/100\n",
            "235/235 [==============================] - 1s 5ms/step - loss: 0.0924 - val_loss: 0.0914\n",
            "Epoch 84/100\n",
            "235/235 [==============================] - 1s 5ms/step - loss: 0.0924 - val_loss: 0.0913\n",
            "Epoch 85/100\n",
            "235/235 [==============================] - 1s 4ms/step - loss: 0.0924 - val_loss: 0.0913\n",
            "Epoch 86/100\n",
            "235/235 [==============================] - 1s 4ms/step - loss: 0.0924 - val_loss: 0.0913\n",
            "Epoch 87/100\n",
            "235/235 [==============================] - 1s 4ms/step - loss: 0.0924 - val_loss: 0.0913\n",
            "Epoch 88/100\n",
            "235/235 [==============================] - 1s 5ms/step - loss: 0.0924 - val_loss: 0.0913\n",
            "Epoch 89/100\n",
            "235/235 [==============================] - 1s 5ms/step - loss: 0.0924 - val_loss: 0.0913\n",
            "Epoch 90/100\n",
            "235/235 [==============================] - 1s 5ms/step - loss: 0.0924 - val_loss: 0.0913\n",
            "Epoch 91/100\n",
            "235/235 [==============================] - 1s 5ms/step - loss: 0.0924 - val_loss: 0.0913\n",
            "Epoch 92/100\n",
            "235/235 [==============================] - 1s 5ms/step - loss: 0.0924 - val_loss: 0.0913\n",
            "Epoch 93/100\n",
            "235/235 [==============================] - 1s 4ms/step - loss: 0.0924 - val_loss: 0.0913\n",
            "Epoch 94/100\n",
            "235/235 [==============================] - 1s 4ms/step - loss: 0.0924 - val_loss: 0.0913\n",
            "Epoch 95/100\n",
            "235/235 [==============================] - 1s 5ms/step - loss: 0.0924 - val_loss: 0.0913\n",
            "Epoch 96/100\n",
            "235/235 [==============================] - 1s 5ms/step - loss: 0.0923 - val_loss: 0.0913\n",
            "Epoch 97/100\n",
            "235/235 [==============================] - 1s 5ms/step - loss: 0.0923 - val_loss: 0.0912\n",
            "Epoch 98/100\n",
            "235/235 [==============================] - 1s 5ms/step - loss: 0.0923 - val_loss: 0.0912\n",
            "Epoch 99/100\n",
            "235/235 [==============================] - 1s 4ms/step - loss: 0.0923 - val_loss: 0.0913\n",
            "Epoch 100/100\n",
            "235/235 [==============================] - 1s 4ms/step - loss: 0.0923 - val_loss: 0.0913\n"
          ]
        }
      ]
    },
    {
      "cell_type": "code",
      "source": [
        "# 예측\n",
        "decode2 = model2.predict(X_test)"
      ],
      "metadata": {
        "colab": {
          "base_uri": "https://localhost:8080/"
        },
        "id": "xwy3GXPqLpDt",
        "outputId": "40252e41-5aae-459e-e6ef-93424d70d9ed"
      },
      "execution_count": null,
      "outputs": [
        {
          "output_type": "stream",
          "name": "stdout",
          "text": [
            "313/313 [==============================] - 1s 1ms/step\n"
          ]
        }
      ]
    },
    {
      "cell_type": "code",
      "source": [
        "# 결과 시각화\n",
        "import matplotlib.pyplot as plt\n",
        "\n",
        "# 출력 이미지 수\n",
        "n = 10\n",
        "\n",
        "plt.figure(figsize=(20,6))\n",
        "\n",
        "for i in range(n):\n",
        "  # 원본 이미지\n",
        "  # 행, 렬, 출력 위치\n",
        "  plt.subplot(3, n , i+1)\n",
        "  plt.imshow(X_test[i].reshape(28,28), cmap='gray')\n",
        "  plt.axis('off')\n",
        "\n",
        "  plt.subplot(3, n , i+1+n)\n",
        "  plt.imshow(decode1[i].reshape(28,28), cmap='gray')\n",
        "  plt.axis('off')\n",
        "\n",
        "  # 생성 이미지\n",
        "  plt.subplot(3, n, i+1+(2*n))\n",
        "  plt.imshow(decode2[i].reshape(28,28), cmap='gray')\n",
        "  plt.axis('off')"
      ],
      "metadata": {
        "colab": {
          "base_uri": "https://localhost:8080/",
          "height": 356
        },
        "id": "LAh7Sy_OIkRT",
        "outputId": "360055e8-1f73-4c86-ea04-862d1b5c0366"
      },
      "execution_count": null,
      "outputs": [
        {
          "output_type": "display_data",
          "data": {
            "text/plain": [
              "<Figure size 1440x432 with 30 Axes>"
            ],
            "image/png": "[encoded data removed]"
          },
          "metadata": {
            "needs_background": "light"
          }
        }
      ]
    },
    {
      "cell_type": "markdown",
      "source": [
        "## Stacked AE (Deep Fully-connected AE) : 은닉층을 더 많이 쌓은 것\n",
        "- 주의! 인코더와 디코더는 대칭되도록 퍼셉트론 수를 맞춰야 함"
      ],
      "metadata": {
        "id": "x31EmC1SMzGj"
      }
    },
    {
      "cell_type": "code",
      "source": [
        "from tensorflow.keras import regularizers\n",
        "\n",
        "model3 = Sequential()\n",
        "\n",
        "# 인코더\n",
        "model3.add(Dense(128, input_dim=784, activation='relu'))\n",
        "\n",
        "# 은닉층(인코더 쪽) - 은닉층 퍼셉트론 수를 줄여감\n",
        "model3.add(Dense(64, activation='relu'))\n",
        "\n",
        "model3.add(Dense(32, activation='relu')) # 중앙\n",
        "\n",
        "# 은닉층(디코더 쪽) - 은닉층 퍼셉트론 수를 늘려감\n",
        "model3.add(Dense(64, activation='relu'))\n",
        "model3.add(Dense(128,activation='relu')) #여기 128개는 위와 대꾸 이뤄야해서 고정\n",
        "\n",
        "# 디코더\n",
        "model3.add(Dense(784, activation='sigmoid'))\n",
        "\n",
        "model3.summary()"
      ],
      "metadata": {
        "colab": {
          "base_uri": "https://localhost:8080/"
        },
        "id": "wjap7RuUIkTQ",
        "outputId": "ac66b6b1-b65c-49d6-9dba-3a17ef218c4a"
      },
      "execution_count": null,
      "outputs": [
        {
          "output_type": "stream",
          "name": "stdout",
          "text": [
            "Model: \"sequential_4\"\n",
            "_________________________________________________________________\n",
            " Layer (type)                Output Shape              Param #   \n",
            "=================================================================\n",
            " dense_9 (Dense)             (None, 128)               100480    \n",
            "                                                                 \n",
            " dense_10 (Dense)            (None, 64)                8256      \n",
            "                                                                 \n",
            " dense_11 (Dense)            (None, 32)                2080      \n",
            "                                                                 \n",
            " dense_12 (Dense)            (None, 64)                2112      \n",
            "                                                                 \n",
            " dense_13 (Dense)            (None, 128)               8320      \n",
            "                                                                 \n",
            " dense_14 (Dense)            (None, 784)               101136    \n",
            "                                                                 \n",
            "=================================================================\n",
            "Total params: 222,384\n",
            "Trainable params: 222,384\n",
            "Non-trainable params: 0\n",
            "_________________________________________________________________\n"
          ]
        }
      ]
    },
    {
      "cell_type": "code",
      "source": [
        "model3.compile(loss=\"binary_crossentropy\",\n",
        "               optimizer='adam')"
      ],
      "metadata": {
        "id": "z9XJsONqIkVe"
      },
      "execution_count": null,
      "outputs": []
    },
    {
      "cell_type": "code",
      "source": [
        "h3 = model3.fit(X_train, X_train, epochs=20, batch_size=256, validation_data=(X_test, X_test), shuffle=True)"
      ],
      "metadata": {
        "colab": {
          "base_uri": "https://localhost:8080/"
        },
        "id": "4xf52mqBIkXs",
        "outputId": "60c38eca-916d-4a51-ce61-fd6bb41c724a"
      },
      "execution_count": null,
      "outputs": [
        {
          "output_type": "stream",
          "name": "stdout",
          "text": [
            "Epoch 1/20\n",
            "235/235 [==============================] - 2s 6ms/step - loss: 0.2436 - val_loss: 0.1691\n",
            "Epoch 2/20\n",
            "235/235 [==============================] - 1s 5ms/step - loss: 0.1526 - val_loss: 0.1388\n",
            "Epoch 3/20\n",
            "235/235 [==============================] - 1s 5ms/step - loss: 0.1337 - val_loss: 0.1264\n",
            "Epoch 4/20\n",
            "235/235 [==============================] - 1s 5ms/step - loss: 0.1238 - val_loss: 0.1187\n",
            "Epoch 5/20\n",
            "235/235 [==============================] - 1s 5ms/step - loss: 0.1171 - val_loss: 0.1129\n",
            "Epoch 6/20\n",
            "235/235 [==============================] - 1s 5ms/step - loss: 0.1125 - val_loss: 0.1100\n",
            "Epoch 7/20\n",
            "235/235 [==============================] - 1s 5ms/step - loss: 0.1091 - val_loss: 0.1062\n",
            "Epoch 8/20\n",
            "235/235 [==============================] - 1s 5ms/step - loss: 0.1065 - val_loss: 0.1043\n",
            "Epoch 9/20\n",
            "235/235 [==============================] - 1s 5ms/step - loss: 0.1046 - val_loss: 0.1022\n",
            "Epoch 10/20\n",
            "235/235 [==============================] - 1s 5ms/step - loss: 0.1030 - val_loss: 0.1009\n",
            "Epoch 11/20\n",
            "235/235 [==============================] - 2s 8ms/step - loss: 0.1016 - val_loss: 0.0997\n",
            "Epoch 12/20\n",
            "235/235 [==============================] - 2s 8ms/step - loss: 0.1003 - val_loss: 0.0989\n",
            "Epoch 13/20\n",
            "235/235 [==============================] - 2s 9ms/step - loss: 0.0992 - val_loss: 0.0976\n",
            "Epoch 14/20\n",
            "235/235 [==============================] - 2s 8ms/step - loss: 0.0982 - val_loss: 0.0968\n",
            "Epoch 15/20\n",
            "235/235 [==============================] - 2s 8ms/step - loss: 0.0973 - val_loss: 0.0963\n",
            "Epoch 16/20\n",
            "235/235 [==============================] - 1s 6ms/step - loss: 0.0966 - val_loss: 0.0950\n",
            "Epoch 17/20\n",
            "235/235 [==============================] - 2s 7ms/step - loss: 0.0958 - val_loss: 0.0946\n",
            "Epoch 18/20\n",
            "235/235 [==============================] - 1s 5ms/step - loss: 0.0951 - val_loss: 0.0945\n",
            "Epoch 19/20\n",
            "235/235 [==============================] - 2s 7ms/step - loss: 0.0945 - val_loss: 0.0935\n",
            "Epoch 20/20\n",
            "235/235 [==============================] - 1s 5ms/step - loss: 0.0939 - val_loss: 0.0929\n"
          ]
        }
      ]
    },
    {
      "cell_type": "code",
      "source": [
        "# 예측\n",
        "decode3 = model3.predict(X_test)"
      ],
      "metadata": {
        "colab": {
          "base_uri": "https://localhost:8080/"
        },
        "id": "Ar92TgraIkZs",
        "outputId": "b3121426-62b0-4433-b0c6-999ae1128869"
      },
      "execution_count": null,
      "outputs": [
        {
          "output_type": "stream",
          "name": "stdout",
          "text": [
            "313/313 [==============================] - 1s 2ms/step\n"
          ]
        }
      ]
    },
    {
      "cell_type": "code",
      "source": [
        "# 결과 시각화\n",
        "import matplotlib.pyplot as plt\n",
        "\n",
        "# 출력 이미지 수\n",
        "n = 10\n",
        "\n",
        "plt.figure(figsize=(20,8))\n",
        "\n",
        "for i in range(n):\n",
        "  # 원본 이미지\n",
        "  plt.subplot(4, n , i+1)\n",
        "  plt.imshow(X_test[i].reshape(28,28), cmap='gray')\n",
        "  plt.axis('off')\n",
        "  \n",
        "  # 생성 이미지1\n",
        "  plt.subplot(4, n, i+1+n)\n",
        "  plt.imshow(decode1[i].reshape(28,28), cmap='gray')\n",
        "  plt.axis('off')\n",
        "  \n",
        "  # 생성 이미지2\n",
        "  plt.subplot(4, n, i+1+(2*n))\n",
        "  plt.imshow(decode2[i].reshape(28,28), cmap='gray')\n",
        "  plt.axis('off')\n",
        "\n",
        "  # 생성 이미지3\n",
        "  plt.subplot(4, n, i+1+(3*n))\n",
        "  plt.imshow(decode3[i].reshape(28,28), cmap='gray')\n",
        "  plt.axis('off')"
      ],
      "metadata": {
        "colab": {
          "base_uri": "https://localhost:8080/",
          "height": 466
        },
        "id": "hWeBh5lUIkbt",
        "outputId": "97fec223-b6a3-45f3-936e-1c4567df04ae"
      },
      "execution_count": null,
      "outputs": [
        {
          "output_type": "display_data",
          "data": {
            "text/plain": [
              "<Figure size 1440x576 with 40 Axes>"
            ],
            "image/png": "[encoded data removed]"
          },
          "metadata": {
            "needs_background": "light"
          }
        }
      ]
    },
    {
      "cell_type": "markdown",
      "source": [
        "## Deep Convolution AE\n",
        "- CNN을 이용해서 AE를 구성한 것\n",
        "\n",
        "- 인코더 : Conv2D, MaxPooling2D로 구성 (Max 풀링은 4개를 1개로 축소)\n",
        "- 디코더 : Con2D, UpSampling2D로 구성 (1개를 3개로 증식)\n",
        "\n",
        "- 이미지 크기가 10x10이 될 때 까지 Conv층을 쌓아야함"
      ],
      "metadata": {
        "id": "KOD2lPxmV-wr"
      }
    },
    {
      "cell_type": "code",
      "source": [
        "from tensorflow.keras.datasets import mnist\n",
        "(X_train,_), (X_test,_) = mnist.load_data()\n",
        "\n",
        "# 색상차원 추가, 정규화\n",
        "X_train = X_train.reshape(60000, 28, 28, 1).astype('float32') / 255\n",
        "X_test = X_test.reshape(10000, 28, 28, 1).astype('float32') / 255\n",
        "\n",
        "X_train.shape, X_test.shape"
      ],
      "metadata": {
        "colab": {
          "base_uri": "https://localhost:8080/"
        },
        "id": "tfHgtgnnXn_o",
        "outputId": "dfe4679c-95a7-4426-ee51-fb8a6fed1ad4"
      },
      "execution_count": null,
      "outputs": [
        {
          "output_type": "execute_result",
          "data": {
            "text/plain": [
              "((60000, 28, 28, 1), (10000, 28, 28, 1))"
            ]
          },
          "metadata": {},
          "execution_count": 53
        }
      ]
    },
    {
      "cell_type": "code",
      "source": [
        "from tensorflow.keras.models import Sequential\n",
        "from tensorflow.keras.layers import Dense, Conv2D, MaxPooling2D, UpSampling2D\n",
        "\n",
        "model4 = Sequential()\n",
        "\n",
        "# 인코더\n",
        "model4.add(Conv2D(16, (3,3), padding='same', input_shape=(28, 28, 1), activation='relu'))\n",
        "model4.add(MaxPooling2D((2,2)))\n",
        "model4.add(Conv2D(8, (3,3), padding='same', activation='relu'))\n",
        "model4.add(MaxPooling2D((2,2)))\n",
        "\n",
        "# 디코더\n",
        "model4.add(Conv2D(8, (3,3), padding='same', activation='relu'))\n",
        "model4.add(UpSampling2D((2,2)))\n",
        "model4.add(Conv2D(16, (3,3), padding='same', activation='relu'))\n",
        "model4.add(UpSampling2D((2,2)))\n",
        "\n",
        "# 출력층\n",
        "model4.add(Conv2D(1, (3,3), padding='same', activation='sigmoid')) # 처음에 Conv2D로 받았으니 꺼낼 때에도 Conv2D\n",
        "\n",
        "model4.summary()"
      ],
      "metadata": {
        "colab": {
          "base_uri": "https://localhost:8080/"
        },
        "id": "geQhRIWx7iel",
        "outputId": "f0bbdcc0-68d9-4299-90e5-146ad6782736"
      },
      "execution_count": null,
      "outputs": [
        {
          "output_type": "stream",
          "name": "stdout",
          "text": [
            "Model: \"sequential_13\"\n",
            "_________________________________________________________________\n",
            " Layer (type)                Output Shape              Param #   \n",
            "=================================================================\n",
            " conv2d_24 (Conv2D)          (None, 28, 28, 16)        160       \n",
            "                                                                 \n",
            " max_pooling2d_11 (MaxPoolin  (None, 14, 14, 16)       0         \n",
            " g2D)                                                            \n",
            "                                                                 \n",
            " conv2d_25 (Conv2D)          (None, 14, 14, 8)         1160      \n",
            "                                                                 \n",
            " max_pooling2d_12 (MaxPoolin  (None, 7, 7, 8)          0         \n",
            " g2D)                                                            \n",
            "                                                                 \n",
            " conv2d_26 (Conv2D)          (None, 7, 7, 8)           584       \n",
            "                                                                 \n",
            " up_sampling2d_10 (UpSamplin  (None, 14, 14, 8)        0         \n",
            " g2D)                                                            \n",
            "                                                                 \n",
            " conv2d_27 (Conv2D)          (None, 14, 14, 16)        1168      \n",
            "                                                                 \n",
            " up_sampling2d_11 (UpSamplin  (None, 28, 28, 16)       0         \n",
            " g2D)                                                            \n",
            "                                                                 \n",
            " conv2d_28 (Conv2D)          (None, 28, 28, 1)         145       \n",
            "                                                                 \n",
            "=================================================================\n",
            "Total params: 3,217\n",
            "Trainable params: 3,217\n",
            "Non-trainable params: 0\n",
            "_________________________________________________________________\n"
          ]
        }
      ]
    },
    {
      "cell_type": "code",
      "source": [
        "model4.compile(loss='binary_crossentropy',\n",
        "               optimizer='adam')"
      ],
      "metadata": {
        "id": "mY7xjxKAWFXt"
      },
      "execution_count": null,
      "outputs": []
    },
    {
      "cell_type": "code",
      "source": [
        "h4 = model4.fit(X_train, X_train, epochs=50, batch_size=256, validation_data=(X_test, X_test), shuffle=True)"
      ],
      "metadata": {
        "colab": {
          "base_uri": "https://localhost:8080/"
        },
        "id": "cPymi5cyWFZ0",
        "outputId": "3e2a91ad-114a-4c1b-8f5e-83cc3c13f14c"
      },
      "execution_count": null,
      "outputs": [
        {
          "output_type": "stream",
          "name": "stdout",
          "text": [
            "Epoch 1/50\n",
            "235/235 [==============================] - 2s 10ms/step - loss: 0.0717 - val_loss: 0.0709\n",
            "Epoch 2/50\n",
            "235/235 [==============================] - 2s 8ms/step - loss: 0.0715 - val_loss: 0.0708\n",
            "Epoch 3/50\n",
            "235/235 [==============================] - 2s 8ms/step - loss: 0.0714 - val_loss: 0.0707\n",
            "Epoch 4/50\n",
            "235/235 [==============================] - 2s 8ms/step - loss: 0.0712 - val_loss: 0.0705\n",
            "Epoch 5/50\n",
            "235/235 [==============================] - 2s 8ms/step - loss: 0.0711 - val_loss: 0.0705\n",
            "Epoch 6/50\n",
            "235/235 [==============================] - 2s 9ms/step - loss: 0.0710 - val_loss: 0.0704\n",
            "Epoch 7/50\n",
            "235/235 [==============================] - 2s 8ms/step - loss: 0.0709 - val_loss: 0.0703\n",
            "Epoch 8/50\n",
            "235/235 [==============================] - 2s 10ms/step - loss: 0.0708 - val_loss: 0.0703\n",
            "Epoch 9/50\n",
            "235/235 [==============================] - 2s 8ms/step - loss: 0.0707 - val_loss: 0.0701\n",
            "Epoch 10/50\n",
            "235/235 [==============================] - 2s 9ms/step - loss: 0.0707 - val_loss: 0.0700\n",
            "Epoch 11/50\n",
            "235/235 [==============================] - 2s 8ms/step - loss: 0.0706 - val_loss: 0.0702\n",
            "Epoch 12/50\n",
            "235/235 [==============================] - 2s 8ms/step - loss: 0.0705 - val_loss: 0.0699\n",
            "Epoch 13/50\n",
            "235/235 [==============================] - 2s 8ms/step - loss: 0.0705 - val_loss: 0.0698\n",
            "Epoch 14/50\n",
            "235/235 [==============================] - 2s 8ms/step - loss: 0.0704 - val_loss: 0.0699\n",
            "Epoch 15/50\n",
            "235/235 [==============================] - 2s 8ms/step - loss: 0.0704 - val_loss: 0.0698\n",
            "Epoch 16/50\n",
            "235/235 [==============================] - 2s 8ms/step - loss: 0.0703 - val_loss: 0.0697\n",
            "Epoch 17/50\n",
            "235/235 [==============================] - 2s 8ms/step - loss: 0.0703 - val_loss: 0.0697\n",
            "Epoch 18/50\n",
            "235/235 [==============================] - 2s 8ms/step - loss: 0.0702 - val_loss: 0.0696\n",
            "Epoch 19/50\n",
            "235/235 [==============================] - 2s 8ms/step - loss: 0.0702 - val_loss: 0.0696\n",
            "Epoch 20/50\n",
            "235/235 [==============================] - 2s 8ms/step - loss: 0.0702 - val_loss: 0.0696\n",
            "Epoch 21/50\n",
            "235/235 [==============================] - 2s 11ms/step - loss: 0.0701 - val_loss: 0.0696\n",
            "Epoch 22/50\n",
            "235/235 [==============================] - 2s 9ms/step - loss: 0.0701 - val_loss: 0.0695\n",
            "Epoch 23/50\n",
            "235/235 [==============================] - 2s 8ms/step - loss: 0.0700 - val_loss: 0.0695\n",
            "Epoch 24/50\n",
            "235/235 [==============================] - 2s 8ms/step - loss: 0.0700 - val_loss: 0.0694\n",
            "Epoch 25/50\n",
            "235/235 [==============================] - 2s 8ms/step - loss: 0.0700 - val_loss: 0.0694\n",
            "Epoch 26/50\n",
            "235/235 [==============================] - 2s 8ms/step - loss: 0.0699 - val_loss: 0.0693\n",
            "Epoch 27/50\n",
            "235/235 [==============================] - 2s 8ms/step - loss: 0.0699 - val_loss: 0.0693\n",
            "Epoch 28/50\n",
            "235/235 [==============================] - 2s 8ms/step - loss: 0.0699 - val_loss: 0.0696\n",
            "Epoch 29/50\n",
            "235/235 [==============================] - 2s 8ms/step - loss: 0.0698 - val_loss: 0.0693\n",
            "Epoch 30/50\n",
            "235/235 [==============================] - 2s 8ms/step - loss: 0.0698 - val_loss: 0.0694\n",
            "Epoch 31/50\n",
            "235/235 [==============================] - 2s 8ms/step - loss: 0.0698 - val_loss: 0.0692\n",
            "Epoch 32/50\n",
            "235/235 [==============================] - 2s 8ms/step - loss: 0.0697 - val_loss: 0.0692\n",
            "Epoch 33/50\n",
            "235/235 [==============================] - 2s 8ms/step - loss: 0.0697 - val_loss: 0.0691\n",
            "Epoch 34/50\n",
            "235/235 [==============================] - 2s 8ms/step - loss: 0.0697 - val_loss: 0.0691\n",
            "Epoch 35/50\n",
            "235/235 [==============================] - 2s 8ms/step - loss: 0.0696 - val_loss: 0.0691\n",
            "Epoch 36/50\n",
            "235/235 [==============================] - 2s 8ms/step - loss: 0.0696 - val_loss: 0.0691\n",
            "Epoch 37/50\n",
            "235/235 [==============================] - 2s 8ms/step - loss: 0.0696 - val_loss: 0.0690\n",
            "Epoch 38/50\n",
            "235/235 [==============================] - 2s 8ms/step - loss: 0.0696 - val_loss: 0.0690\n",
            "Epoch 39/50\n",
            "235/235 [==============================] - 2s 8ms/step - loss: 0.0695 - val_loss: 0.0690\n",
            "Epoch 40/50\n",
            "235/235 [==============================] - 2s 8ms/step - loss: 0.0695 - val_loss: 0.0689\n",
            "Epoch 41/50\n",
            "235/235 [==============================] - 2s 8ms/step - loss: 0.0695 - val_loss: 0.0689\n",
            "Epoch 42/50\n",
            "235/235 [==============================] - 2s 8ms/step - loss: 0.0695 - val_loss: 0.0689\n",
            "Epoch 43/50\n",
            "235/235 [==============================] - 2s 8ms/step - loss: 0.0694 - val_loss: 0.0691\n",
            "Epoch 44/50\n",
            "235/235 [==============================] - 2s 8ms/step - loss: 0.0694 - val_loss: 0.0689\n",
            "Epoch 45/50\n",
            "235/235 [==============================] - 2s 8ms/step - loss: 0.0694 - val_loss: 0.0689\n",
            "Epoch 46/50\n",
            "235/235 [==============================] - 2s 8ms/step - loss: 0.0694 - val_loss: 0.0688\n",
            "Epoch 47/50\n",
            "235/235 [==============================] - 2s 8ms/step - loss: 0.0694 - val_loss: 0.0688\n",
            "Epoch 48/50\n",
            "235/235 [==============================] - 2s 8ms/step - loss: 0.0694 - val_loss: 0.0688\n",
            "Epoch 49/50\n",
            "235/235 [==============================] - 2s 9ms/step - loss: 0.0693 - val_loss: 0.0688\n",
            "Epoch 50/50\n",
            "235/235 [==============================] - 2s 8ms/step - loss: 0.0693 - val_loss: 0.0687\n"
          ]
        }
      ]
    },
    {
      "cell_type": "code",
      "source": [
        "# 예측\n",
        "decode4 = model4.predict(X_test)"
      ],
      "metadata": {
        "colab": {
          "base_uri": "https://localhost:8080/"
        },
        "id": "KofFKtiqWFcM",
        "outputId": "8b809d99-8358-41f4-eaa9-4e0551489530"
      },
      "execution_count": null,
      "outputs": [
        {
          "output_type": "stream",
          "name": "stdout",
          "text": [
            "313/313 [==============================] - 1s 2ms/step\n"
          ]
        }
      ]
    },
    {
      "cell_type": "code",
      "source": [
        "# 결과 시각화\n",
        "import matplotlib.pyplot as plt\n",
        "\n",
        "# 출력 이미지 수\n",
        "n = 10\n",
        "\n",
        "plt.figure(figsize=(20,8))\n",
        "\n",
        "for i in range(n):\n",
        "  # 원본 이미지\n",
        "  plt.subplot(3, n , i+1)\n",
        "  plt.imshow(X_test[i].reshape(28,28), cmap='gray')\n",
        "  plt.axis('off')\n",
        "\n",
        "  # 생성 이미지3\n",
        "  plt.subplot(3, n, i+1+n)\n",
        "  plt.imshow(decode3[i].reshape(28,28), cmap='gray')\n",
        "  plt.axis('off')\n",
        "\n",
        "  # 생성 이미지4\n",
        "  plt.subplot(3, n, i+1+(2*n))\n",
        "  plt.imshow(decode4[i].reshape(28,28), cmap='gray')\n",
        "  plt.axis('off')"
      ],
      "metadata": {
        "colab": {
          "base_uri": "https://localhost:8080/",
          "height": 432
        },
        "id": "snv6GWtUWFeJ",
        "outputId": "4ae27efc-9565-4d10-f720-90a562e37b0a"
      },
      "execution_count": null,
      "outputs": [
        {
          "output_type": "display_data",
          "data": {
            "text/plain": [
              "<Figure size 1440x576 with 30 Axes>"
            ],
            "image/png": "[encoded data removed]"
          },
          "metadata": {
            "needs_background": "light"
          }
        }
      ]
    },
    {
      "cell_type": "markdown",
      "source": [
        "## Denosing AE : 잡음 제거 목적으로 사용하는 AE\n",
        "\n",
        "- 잡음 : 가우시안 잡음(정규분포 형태)을 임의로 만들어서 사용\n"
      ],
      "metadata": {
        "id": "WhxPSmMifX9R"
      }
    },
    {
      "cell_type": "code",
      "source": [
        "# 원래 이미지에 잡음 추가\n",
        "import numpy as np\n",
        "noise_factor = 0.5\n",
        "\n",
        "#np.normal(이산평균, 이산표준편차, 데이터수) : 정규분포의 임의 숫자 발생\n",
        "X_train_noise = X_train + noise_factor * np.random.normal(loc=0.0, scale=1.0, size=X_train.shape)\n",
        "X_test_noise = X_test + noise_factor * np.random.normal(loc=0.0, scale=1.0, size=X_test.shape)\n",
        "\n",
        "# 범위를 벗어난 값들을 범위 안의 값으로 변환 (scaling)\n",
        "X_train_noise = np.clip(X_train_noise, 0.0, 1.0)\n",
        "X_test_noise = np.clip(X_test_noise, 0.0, 1.0) "
      ],
      "metadata": {
        "id": "INFzjAuvWFgQ"
      },
      "execution_count": null,
      "outputs": []
    },
    {
      "cell_type": "code",
      "source": [
        "# 추가된 잡음 이미지 확인\n",
        "import matplotlib.pyplot as plt\n",
        "\n",
        "n = 10\n",
        "plt.figure(figsize=(20,4))\n",
        "\n",
        "for i in range(n):\n",
        "  plt.subplot(2, n, i+1)\n",
        "  plt.imshow(X_train[i].reshape(28,28), cmap='gray')\n",
        "  plt.axis('off')\n",
        "\n",
        "  plt.subplot(2, n, i+1+n)\n",
        "  plt.imshow(X_train_noise[i].reshape(28,28), cmap='gray')\n",
        "  plt.axis('off')"
      ],
      "metadata": {
        "colab": {
          "base_uri": "https://localhost:8080/",
          "height": 244
        },
        "id": "ECCwA3YnWFid",
        "outputId": "6a968c71-854e-4a75-d8d9-e29f81041ce2"
      },
      "execution_count": null,
      "outputs": [
        {
          "output_type": "display_data",
          "data": {
            "text/plain": [
              "<Figure size 1440x288 with 20 Axes>"
            ],
            "image/png": "[encoded data removed]"
          },
          "metadata": {
            "needs_background": "light"
          }
        }
      ]
    },
    {
      "cell_type": "code",
      "source": [
        "#AE 설계\n",
        "from tensorflow.keras.models import Sequential\n",
        "from tensorflow.keras.layers import Conv2D, MaxPooling2D, UpSampling2D\n",
        "\n",
        "model5 = Sequential()\n",
        "model5.add(Conv2D(32, (3,3), input_shape=(28,28,1), padding='same', activation='relu'))\n",
        "model5.add(MaxPooling2D(pool_size=(2,2)))\n",
        "model5.add(Conv2D(32, (3,3), padding='same', activation='relu'))\n",
        "model5.add(MaxPooling2D(pool_size=(2,2)))\n",
        "\n",
        "model5.add(Conv2D(32, (3,3), padding='same', activation='relu'))\n",
        "model5.add(UpSampling2D((2,2)))\n",
        "model5.add(Conv2D(32, (3,3), padding='same', activation='relu'))\n",
        "model5.add(UpSampling2D((2,2)))\n",
        "\n",
        "model5.add(Conv2D(1, (3,3), padding='same', activation='sigmoid'))\n",
        "\n",
        "model5.summary()"
      ],
      "metadata": {
        "colab": {
          "base_uri": "https://localhost:8080/"
        },
        "id": "OFlVl_ugQoN7",
        "outputId": "c8ead472-e78c-49b2-9eb2-fc1d171f0296"
      },
      "execution_count": null,
      "outputs": [
        {
          "output_type": "stream",
          "name": "stdout",
          "text": [
            "Model: \"sequential_20\"\n",
            "_________________________________________________________________\n",
            " Layer (type)                Output Shape              Param #   \n",
            "=================================================================\n",
            " conv2d_50 (Conv2D)          (None, 28, 28, 32)        320       \n",
            "                                                                 \n",
            " max_pooling2d_23 (MaxPoolin  (None, 14, 14, 32)       0         \n",
            " g2D)                                                            \n",
            "                                                                 \n",
            " conv2d_51 (Conv2D)          (None, 14, 14, 32)        9248      \n",
            "                                                                 \n",
            " max_pooling2d_24 (MaxPoolin  (None, 7, 7, 32)         0         \n",
            " g2D)                                                            \n",
            "                                                                 \n",
            " conv2d_52 (Conv2D)          (None, 7, 7, 32)          9248      \n",
            "                                                                 \n",
            " up_sampling2d_18 (UpSamplin  (None, 14, 14, 32)       0         \n",
            " g2D)                                                            \n",
            "                                                                 \n",
            " conv2d_53 (Conv2D)          (None, 14, 14, 32)        9248      \n",
            "                                                                 \n",
            " up_sampling2d_19 (UpSamplin  (None, 28, 28, 32)       0         \n",
            " g2D)                                                            \n",
            "                                                                 \n",
            " conv2d_54 (Conv2D)          (None, 28, 28, 1)         289       \n",
            "                                                                 \n",
            "=================================================================\n",
            "Total params: 28,353\n",
            "Trainable params: 28,353\n",
            "Non-trainable params: 0\n",
            "_________________________________________________________________\n"
          ]
        }
      ]
    },
    {
      "cell_type": "code",
      "source": [
        "model5.compile(loss='binary_crossentropy',\n",
        "               optimizer='adam')"
      ],
      "metadata": {
        "id": "KItjByR9QoQW"
      },
      "execution_count": null,
      "outputs": []
    },
    {
      "cell_type": "code",
      "source": [
        "h5 = model5.fit(X_train_noise, X_train, epochs=20, batch_size=128, shuffle=True, validation_data=(X_test_noise, X_test))"
      ],
      "metadata": {
        "colab": {
          "base_uri": "https://localhost:8080/"
        },
        "id": "VNAHDaoHQoSl",
        "outputId": "4ceaa4e5-ab29-422c-b3d3-9988fa7e9ad9"
      },
      "execution_count": null,
      "outputs": [
        {
          "output_type": "stream",
          "name": "stdout",
          "text": [
            "Epoch 1/20\n",
            "469/469 [==============================] - 5s 9ms/step - loss: 0.1639 - val_loss: 0.1143\n",
            "Epoch 2/20\n",
            "469/469 [==============================] - 3s 7ms/step - loss: 0.1115 - val_loss: 0.1096\n",
            "Epoch 3/20\n",
            "469/469 [==============================] - 3s 7ms/step - loss: 0.1071 - val_loss: 0.1043\n",
            "Epoch 4/20\n",
            "469/469 [==============================] - 4s 8ms/step - loss: 0.1045 - val_loss: 0.1024\n",
            "Epoch 5/20\n",
            "469/469 [==============================] - 3s 7ms/step - loss: 0.1027 - val_loss: 0.1015\n",
            "Epoch 6/20\n",
            "469/469 [==============================] - 4s 8ms/step - loss: 0.1014 - val_loss: 0.0999\n",
            "Epoch 7/20\n",
            "469/469 [==============================] - 3s 7ms/step - loss: 0.1003 - val_loss: 0.0988\n",
            "Epoch 8/20\n",
            "469/469 [==============================] - 3s 7ms/step - loss: 0.0995 - val_loss: 0.0984\n",
            "Epoch 9/20\n",
            "469/469 [==============================] - 4s 7ms/step - loss: 0.0989 - val_loss: 0.0979\n",
            "Epoch 10/20\n",
            "469/469 [==============================] - 3s 7ms/step - loss: 0.0983 - val_loss: 0.0973\n",
            "Epoch 11/20\n",
            "469/469 [==============================] - 4s 8ms/step - loss: 0.0978 - val_loss: 0.0970\n",
            "Epoch 12/20\n",
            "469/469 [==============================] - 4s 8ms/step - loss: 0.0974 - val_loss: 0.0964\n",
            "Epoch 13/20\n",
            "469/469 [==============================] - 4s 7ms/step - loss: 0.0970 - val_loss: 0.0970\n",
            "Epoch 14/20\n",
            "469/469 [==============================] - 3s 7ms/step - loss: 0.0967 - val_loss: 0.0960\n",
            "Epoch 15/20\n",
            "469/469 [==============================] - 3s 7ms/step - loss: 0.0964 - val_loss: 0.0958\n",
            "Epoch 16/20\n",
            "469/469 [==============================] - 3s 7ms/step - loss: 0.0962 - val_loss: 0.0956\n",
            "Epoch 17/20\n",
            "469/469 [==============================] - 3s 7ms/step - loss: 0.0960 - val_loss: 0.0953\n",
            "Epoch 18/20\n",
            "469/469 [==============================] - 3s 7ms/step - loss: 0.0957 - val_loss: 0.0952\n",
            "Epoch 19/20\n",
            "469/469 [==============================] - 3s 7ms/step - loss: 0.0956 - val_loss: 0.0950\n",
            "Epoch 20/20\n",
            "469/469 [==============================] - 3s 7ms/step - loss: 0.0954 - val_loss: 0.0948\n"
          ]
        }
      ]
    },
    {
      "cell_type": "code",
      "source": [
        "# 예측\n",
        "decode5 = model5.predict(X_test_noise)"
      ],
      "metadata": {
        "colab": {
          "base_uri": "https://localhost:8080/"
        },
        "id": "_4io9EMVQoUs",
        "outputId": "46f841e8-64b7-4a13-dacb-aebc3b7dcce2"
      },
      "execution_count": null,
      "outputs": [
        {
          "output_type": "stream",
          "name": "stdout",
          "text": [
            "313/313 [==============================] - 1s 2ms/step\n"
          ]
        }
      ]
    },
    {
      "cell_type": "code",
      "source": [
        "# 추가된 잡음 이미지 확인\n",
        "import matplotlib.pyplot as plt\n",
        "\n",
        "n = 10\n",
        "plt.figure(figsize=(20,4))\n",
        "\n",
        "for i in range(n):\n",
        "  plt.subplot(2, n, i+1)\n",
        "  plt.imshow(X_test_noise[i].reshape(28,28), cmap='gray')\n",
        "  plt.axis('off')\n",
        "\n",
        "  plt.subplot(2, n, i+1+n)\n",
        "  plt.imshow(decode5[i].reshape(28,28), cmap='gray')\n",
        "  plt.axis('off')"
      ],
      "metadata": {
        "colab": {
          "base_uri": "https://localhost:8080/",
          "height": 244
        },
        "id": "31M05XJvQoWs",
        "outputId": "49b4937f-7105-414d-e6d2-10da2a07fb3f"
      },
      "execution_count": null,
      "outputs": [
        {
          "output_type": "display_data",
          "data": {
            "text/plain": [
              "<Figure size 1440x288 with 20 Axes>"
            ],
            "image/png": "[encoded data removed]"
          },
          "metadata": {
            "needs_background": "light"
          }
        }
      ]
    },
    {
      "cell_type": "code",
      "source": [],
      "metadata": {
        "id": "BK1dzI22QoY0"
      },
      "execution_count": null,
      "outputs": []
    },
    {
      "cell_type": "code",
      "source": [],
      "metadata": {
        "id": "PNCe0ZSYQobB"
      },
      "execution_count": null,
      "outputs": []
    },
    {
      "cell_type": "code",
      "source": [],
      "metadata": {
        "id": "wJBFkLmrQodD"
      },
      "execution_count": null,
      "outputs": []
    },
    {
      "cell_type": "code",
      "source": [],
      "metadata": {
        "id": "pReXfnncQoff"
      },
      "execution_count": null,
      "outputs": []
    },
    {
      "cell_type": "code",
      "source": [],
      "metadata": {
        "id": "Oc-ZGDlLQohw"
      },
      "execution_count": null,
      "outputs": []
    },
    {
      "cell_type": "code",
      "source": [],
      "metadata": {
        "id": "xZu5X38HQoj0"
      },
      "execution_count": null,
      "outputs": []
    }
  ]
}