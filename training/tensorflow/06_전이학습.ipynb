{
  "cells": [
    {
      "attachments": {},
      "cell_type": "markdown",
      "metadata": {},
      "source": [
        "# 전이학습"
      ]
    },
    {
      "cell_type": "markdown",
      "metadata": {},
      "source": [
        "## 데이터 로드"
      ]
    },
    {
      "cell_type": "code",
      "execution_count": 2,
      "metadata": {},
      "outputs": [
        {
          "name": "stdout",
          "output_type": "stream",
          "text": [
            "Found 2000 images belonging to 2 classes.\n",
            "Found 1000 images belonging to 2 classes.\n",
            "Found 22 images belonging to 2 classes.\n",
            "{'cats': 0, 'dogs': 1}\n"
          ]
        }
      ],
      "source": [
        "# 데이터 경로 지정\n",
        "train_dir = './data/dogs_vs_cats_small/train'\n",
        "val_dir = './data/dogs_vs_cats_small/validation'\n",
        "test_dir ='./data/dogs_vs_cats_small/test'\n",
        "\n",
        "# 라벨링\n",
        "from tensorflow.keras.preprocessing.image import ImageDataGenerator\n",
        "# 픽셀값 변환\n",
        "train_gen = ImageDataGenerator(rescale = 1./255)\n",
        "test_gen = ImageDataGenerator(rescale = 1./255)\n",
        "val_gen = ImageDataGenerator(rescale = 1./255)\n",
        "\n",
        "train_generator = train_gen.flow_from_directory(\n",
        "    train_dir, # train 이미지 경로    \n",
        "    target_size = (150,150), # 변환할 이미지의 크기\n",
        "    batch_size = 100, # 한번에 변환할 이미지 갯수\n",
        "    class_mode = 'binary' # 라벨링 진행, categorical : 다중분류\n",
        "    # 폴더별로 라벨링을 진행 cats(0) , dogs(1)\n",
        ")\n",
        "\n",
        "val_generator = val_gen.flow_from_directory(\n",
        "    val_dir, # train 이미지 경로    \n",
        "    target_size = (150,150), # 변환할 이미지의 크기\n",
        "    batch_size = 100, # 한번에 변환할 이미지 갯수\n",
        "    class_mode = 'binary' # 라벨링 진행, categorical : 다중분류\n",
        "    # 폴더별로 라벨링을 진행 cats(0) , dogs(1)\n",
        ")\n",
        "\n",
        "test_generator = test_gen.flow_from_directory(\n",
        "    test_dir, # train 이미지 경로    \n",
        "    target_size = (150,150), # 변환할 이미지의 크기\n",
        "    batch_size = 100, # 한번에 변환할 이미지 갯수\n",
        "    class_mode = 'binary' # 라벨링 진행, categorical : 다중분류\n",
        "    # 폴더별로 라벨링을 진행 cats(0) , dogs(1)\n",
        ")\n",
        "\n",
        "# 라벨링 결과 확인\n",
        "print(train_generator.class_indices)"
      ]
    },
    {
      "cell_type": "code",
      "execution_count": null,
      "metadata": {},
      "outputs": [],
      "source": [
        "train_generator = train_gen.flow_from_directory(\n",
        "    train_dir, # train 이미지 경로    \n",
        "    target_size = (150,150), # 변환할 이미지의 크기\n",
        "    batch_size = 100, # 한번에 변환할 이미지 갯수\n",
        "    class_mode = 'binary' # 라벨링 진행, categorical : 다중분류\n",
        "    # 폴더별로 라벨링을 진행 cats(0) , dogs(1)\n",
        ")\n",
        "\n",
        "val_generator = val_gen.flow_from_directory(\n",
        "    val_dir, # train 이미지 경로    \n",
        "    target_size = (150,150), # 변환할 이미지의 크기\n",
        "    batch_size = 100, # 한번에 변환할 이미지 갯수\n",
        "    class_mode = 'binary' # 라벨링 진행, categorical : 다중분류\n",
        "    # 폴더별로 라벨링을 진행 cats(0) , dogs(1)\n",
        ")\n",
        "\n",
        "test_generator = test_gen.flow_from_directory(\n",
        "    test_dir, # train 이미지 경로    \n",
        "    target_size = (150,150), # 변환할 이미지의 크기\n",
        "    batch_size = 100, # 한번에 변환할 이미지 갯수\n",
        "    class_mode = 'binary' # 라벨링 진행, categorical : 다중분류\n",
        "    # 폴더별로 라벨링을 진행 cats(0) , dogs(1)\n",
        ")\n",
        "\n"
      ]
    },
    {
      "attachments": {},
      "cell_type": "markdown",
      "metadata": {},
      "source": [
        "## 전이학습 : 누군가 만들어놓은 모델 가져오기"
      ]
    },
    {
      "cell_type": "code",
      "execution_count": 7,
      "metadata": {},
      "outputs": [
        {
          "name": "stdout",
          "output_type": "stream",
          "text": [
            "Downloading data from https://storage.googleapis.com/tensorflow/keras-applications/vgg16/vgg16_weights_tf_dim_ordering_tf_kernels_notop.h5\n",
            "58892288/58889256 [==============================] - 12s 0us/step\n"
          ]
        }
      ],
      "source": [
        "from tensorflow.keras.applications import VGG16\n",
        "\n",
        "# 특성 추출기\n",
        "conv_base = VGG16(\n",
        "    weights = 'imagenet', # imagenet에서 사용한 가중치 가져오기\n",
        "    include_top = False, # 분류기를 사용할것인가? \n",
        "    input_shape = (150,150,3)\n",
        ")"
      ]
    },
    {
      "cell_type": "code",
      "execution_count": 8,
      "metadata": {},
      "outputs": [
        {
          "name": "stdout",
          "output_type": "stream",
          "text": [
            "Model: \"vgg16\"\n",
            "_________________________________________________________________\n",
            "Layer (type)                 Output Shape              Param #   \n",
            "=================================================================\n",
            "input_1 (InputLayer)         [(None, 150, 150, 3)]     0         \n",
            "_________________________________________________________________\n",
            "block1_conv1 (Conv2D)        (None, 150, 150, 64)      1792      \n",
            "_________________________________________________________________\n",
            "block1_conv2 (Conv2D)        (None, 150, 150, 64)      36928     \n",
            "_________________________________________________________________\n",
            "block1_pool (MaxPooling2D)   (None, 75, 75, 64)        0         \n",
            "_________________________________________________________________\n",
            "block2_conv1 (Conv2D)        (None, 75, 75, 128)       73856     \n",
            "_________________________________________________________________\n",
            "block2_conv2 (Conv2D)        (None, 75, 75, 128)       147584    \n",
            "_________________________________________________________________\n",
            "block2_pool (MaxPooling2D)   (None, 37, 37, 128)       0         \n",
            "_________________________________________________________________\n",
            "block3_conv1 (Conv2D)        (None, 37, 37, 256)       295168    \n",
            "_________________________________________________________________\n",
            "block3_conv2 (Conv2D)        (None, 37, 37, 256)       590080    \n",
            "_________________________________________________________________\n",
            "block3_conv3 (Conv2D)        (None, 37, 37, 256)       590080    \n",
            "_________________________________________________________________\n",
            "block3_pool (MaxPooling2D)   (None, 18, 18, 256)       0         \n",
            "_________________________________________________________________\n",
            "block4_conv1 (Conv2D)        (None, 18, 18, 512)       1180160   \n",
            "_________________________________________________________________\n",
            "block4_conv2 (Conv2D)        (None, 18, 18, 512)       2359808   \n",
            "_________________________________________________________________\n",
            "block4_conv3 (Conv2D)        (None, 18, 18, 512)       2359808   \n",
            "_________________________________________________________________\n",
            "block4_pool (MaxPooling2D)   (None, 9, 9, 512)         0         \n",
            "_________________________________________________________________\n",
            "block5_conv1 (Conv2D)        (None, 9, 9, 512)         2359808   \n",
            "_________________________________________________________________\n",
            "block5_conv2 (Conv2D)        (None, 9, 9, 512)         2359808   \n",
            "_________________________________________________________________\n",
            "block5_conv3 (Conv2D)        (None, 9, 9, 512)         2359808   \n",
            "_________________________________________________________________\n",
            "block5_pool (MaxPooling2D)   (None, 4, 4, 512)         0         \n",
            "=================================================================\n",
            "Total params: 14,714,688\n",
            "Trainable params: 14,714,688\n",
            "Non-trainable params: 0\n",
            "_________________________________________________________________\n"
          ]
        }
      ],
      "source": [
        "conv_base.summary()"
      ]
    },
    {
      "attachments": {},
      "cell_type": "markdown",
      "metadata": {},
      "source": [
        "### 동결 : 가중치가 갱신되는 것을 막는 것"
      ]
    },
    {
      "cell_type": "code",
      "execution_count": 10,
      "metadata": {},
      "outputs": [
        {
          "data": {
            "text/plain": [
              "26"
            ]
          },
          "execution_count": 10,
          "metadata": {},
          "output_type": "execute_result"
        }
      ],
      "source": [
        "# 학습 가능한 가중치의 갯수 확인\n",
        "len(conv_base.trainable_weights)"
      ]
    },
    {
      "cell_type": "code",
      "execution_count": 19,
      "metadata": {},
      "outputs": [],
      "source": [
        "# VGG16 전체 층에대해 동결\n",
        "conv_base.trainable = False"
      ]
    },
    {
      "cell_type": "code",
      "execution_count": 12,
      "metadata": {},
      "outputs": [
        {
          "data": {
            "text/plain": [
              "0"
            ]
          },
          "execution_count": 12,
          "metadata": {},
          "output_type": "execute_result"
        }
      ],
      "source": [
        "# 학습 가능한 가중치의 갯수 확인\n",
        "len(conv_base.trainable_weights)"
      ]
    },
    {
      "attachments": {},
      "cell_type": "markdown",
      "metadata": {},
      "source": [
        "### 모델 정의"
      ]
    },
    {
      "cell_type": "code",
      "execution_count": 13,
      "metadata": {},
      "outputs": [
        {
          "name": "stdout",
          "output_type": "stream",
          "text": [
            "Model: \"sequential_1\"\n",
            "_________________________________________________________________\n",
            "Layer (type)                 Output Shape              Param #   \n",
            "=================================================================\n",
            "vgg16 (Functional)           (None, 4, 4, 512)         14714688  \n",
            "_________________________________________________________________\n",
            "flatten_1 (Flatten)          (None, 8192)              0         \n",
            "_________________________________________________________________\n",
            "dense_2 (Dense)              (None, 256)               2097408   \n",
            "_________________________________________________________________\n",
            "dense_3 (Dense)              (None, 1)                 257       \n",
            "=================================================================\n",
            "Total params: 16,812,353\n",
            "Trainable params: 2,097,665\n",
            "Non-trainable params: 14,714,688\n",
            "_________________________________________________________________\n"
          ]
        }
      ],
      "source": [
        "# 동결된 conv를 사용해서 모델 설계\n",
        "from tensorflow.keras.models import Sequential\n",
        "from tensorflow.keras.layers import Dense, Flatten\n",
        "\n",
        "model2 = Sequential()\n",
        "# 전이학습할 모델의 특성추출부 사용하기\n",
        "model2.add(conv_base) \n",
        "model2.add(Flatten())\n",
        "model2.add(Dense(units = 256, activation = 'relu'))\n",
        "# 출력층\n",
        "model2.add(Dense(units = 1, activation = 'sigmoid'))\n",
        "\n",
        "model2.summary()"
      ]
    },
    {
      "cell_type": "code",
      "execution_count": 14,
      "metadata": {},
      "outputs": [],
      "source": [
        "model2.compile(loss = 'binary_crossentropy',\n",
        "               optimizer = 'adam',\n",
        "               metrics = ['accuracy']\n",
        "               )"
      ]
    },
    {
      "attachments": {},
      "cell_type": "markdown",
      "metadata": {},
      "source": [
        "### 모델 학습"
      ]
    },
    {
      "cell_type": "code",
      "execution_count": 16,
      "metadata": {},
      "outputs": [
        {
          "name": "stdout",
          "output_type": "stream",
          "text": [
            "Epoch 1/20\n"
          ]
        },
        {
          "name": "stderr",
          "output_type": "stream",
          "text": [
            "2023-02-14 03:13:12.991386: I tensorflow/core/grappler/optimizers/custom_graph_optimizer_registry.cc:112] Plugin optimizer for device_type GPU is enabled.\n"
          ]
        },
        {
          "name": "stdout",
          "output_type": "stream",
          "text": [
            "20/20 [==============================] - ETA: 0s - loss: 0.8387 - accuracy: 0.7185"
          ]
        },
        {
          "name": "stderr",
          "output_type": "stream",
          "text": [
            "2023-02-14 03:13:21.177060: I tensorflow/core/grappler/optimizers/custom_graph_optimizer_registry.cc:112] Plugin optimizer for device_type GPU is enabled.\n"
          ]
        },
        {
          "name": "stdout",
          "output_type": "stream",
          "text": [
            "20/20 [==============================] - 12s 605ms/step - loss: 0.8387 - accuracy: 0.7185 - val_loss: 0.3228 - val_accuracy: 0.8580\n",
            "Epoch 2/20\n",
            "20/20 [==============================] - 12s 585ms/step - loss: 0.2610 - accuracy: 0.8875 - val_loss: 0.2546 - val_accuracy: 0.8960\n",
            "Epoch 3/20\n",
            "20/20 [==============================] - 12s 581ms/step - loss: 0.1907 - accuracy: 0.9255 - val_loss: 0.2418 - val_accuracy: 0.9040\n",
            "Epoch 4/20\n",
            "20/20 [==============================] - 12s 584ms/step - loss: 0.1429 - accuracy: 0.9525 - val_loss: 0.2388 - val_accuracy: 0.9030\n",
            "Epoch 5/20\n",
            "20/20 [==============================] - 12s 600ms/step - loss: 0.1151 - accuracy: 0.9615 - val_loss: 0.2431 - val_accuracy: 0.9020\n",
            "Epoch 6/20\n",
            "20/20 [==============================] - 12s 584ms/step - loss: 0.0945 - accuracy: 0.9730 - val_loss: 0.2377 - val_accuracy: 0.9060\n",
            "Epoch 7/20\n",
            "20/20 [==============================] - 12s 580ms/step - loss: 0.0719 - accuracy: 0.9835 - val_loss: 0.2437 - val_accuracy: 0.9060\n",
            "Epoch 8/20\n",
            "20/20 [==============================] - 11s 574ms/step - loss: 0.0573 - accuracy: 0.9925 - val_loss: 0.2399 - val_accuracy: 0.9050\n",
            "Epoch 9/20\n",
            "20/20 [==============================] - 11s 574ms/step - loss: 0.0463 - accuracy: 0.9965 - val_loss: 0.2443 - val_accuracy: 0.9060\n",
            "Epoch 10/20\n",
            "20/20 [==============================] - 11s 574ms/step - loss: 0.0382 - accuracy: 0.9975 - val_loss: 0.2509 - val_accuracy: 0.9050\n",
            "Epoch 11/20\n",
            "20/20 [==============================] - 11s 574ms/step - loss: 0.0315 - accuracy: 0.9990 - val_loss: 0.2603 - val_accuracy: 0.9060\n",
            "Epoch 12/20\n",
            "20/20 [==============================] - 11s 576ms/step - loss: 0.0265 - accuracy: 0.9995 - val_loss: 0.2663 - val_accuracy: 0.9070\n",
            "Epoch 13/20\n",
            "20/20 [==============================] - 11s 574ms/step - loss: 0.0211 - accuracy: 1.0000 - val_loss: 0.2836 - val_accuracy: 0.9060\n",
            "Epoch 14/20\n",
            "20/20 [==============================] - 11s 576ms/step - loss: 0.0185 - accuracy: 1.0000 - val_loss: 0.2705 - val_accuracy: 0.9050\n",
            "Epoch 15/20\n",
            "20/20 [==============================] - 11s 575ms/step - loss: 0.0154 - accuracy: 1.0000 - val_loss: 0.2829 - val_accuracy: 0.9030\n",
            "Epoch 16/20\n",
            "20/20 [==============================] - 12s 590ms/step - loss: 0.0135 - accuracy: 1.0000 - val_loss: 0.2954 - val_accuracy: 0.9040\n",
            "Epoch 17/20\n",
            "20/20 [==============================] - 12s 592ms/step - loss: 0.0111 - accuracy: 1.0000 - val_loss: 0.2896 - val_accuracy: 0.9060\n",
            "Epoch 18/20\n",
            "20/20 [==============================] - 12s 584ms/step - loss: 0.0098 - accuracy: 1.0000 - val_loss: 0.3064 - val_accuracy: 0.9040\n",
            "Epoch 19/20\n",
            "20/20 [==============================] - 12s 600ms/step - loss: 0.0087 - accuracy: 1.0000 - val_loss: 0.3010 - val_accuracy: 0.9050\n",
            "Epoch 20/20\n",
            "20/20 [==============================] - 12s 593ms/step - loss: 0.0077 - accuracy: 1.0000 - val_loss: 0.3101 - val_accuracy: 0.9050\n"
          ]
        },
        {
          "data": {
            "text/plain": [
              "<tensorflow.python.keras.callbacks.History at 0x16a681b20>"
            ]
          },
          "execution_count": 16,
          "metadata": {},
          "output_type": "execute_result"
        }
      ],
      "source": [
        "model2.fit_generator(\n",
        "    generator = train_generator,\n",
        "    epochs = 20,\n",
        "    validation_data = val_generator\n",
        ")"
      ]
    },
    {
      "attachments": {},
      "cell_type": "markdown",
      "metadata": {},
      "source": [
        "## 미세조정"
      ]
    },
    {
      "cell_type": "code",
      "execution_count": 20,
      "metadata": {},
      "outputs": [],
      "source": [
        "from tensorflow.keras.applications import VGG16\n",
        "\n",
        "# 특성 추출기\n",
        "conv_base = VGG16(\n",
        "    weights = 'imagenet', # imagenet에서 사용한 가중치 가져오기\n",
        "    include_top = False, # 분류기를 사용할것인가? \n",
        "    input_shape = (150,150,3)\n",
        ")"
      ]
    },
    {
      "cell_type": "code",
      "execution_count": 21,
      "metadata": {},
      "outputs": [
        {
          "data": {
            "text/plain": [
              "26"
            ]
          },
          "execution_count": 21,
          "metadata": {},
          "output_type": "execute_result"
        }
      ],
      "source": [
        "# 학습 가능한 가중치의 갯수 확인\n",
        "len(conv_base.trainable_weights)"
      ]
    },
    {
      "cell_type": "markdown",
      "metadata": {},
      "source": [
        "#### 미세조정1"
      ]
    },
    {
      "cell_type": "code",
      "execution_count": 26,
      "metadata": {},
      "outputs": [],
      "source": [
        "conv_base.trainable=True\n",
        "\n",
        "fine_tune_at=10\n",
        "for layer in conv_base.layers[:fine_tune_at]:\n",
        "    layer.trainable=False"
      ]
    },
    {
      "cell_type": "code",
      "execution_count": 25,
      "metadata": {},
      "outputs": [
        {
          "data": {
            "text/plain": [
              "12"
            ]
          },
          "execution_count": 25,
          "metadata": {},
          "output_type": "execute_result"
        }
      ],
      "source": [
        "# 학습 가능한 가중치의 갯수 확인\n",
        "len(conv_base.trainable_weights)"
      ]
    },
    {
      "cell_type": "code",
      "execution_count": 27,
      "metadata": {},
      "outputs": [
        {
          "name": "stdout",
          "output_type": "stream",
          "text": [
            "Model: \"vgg16\"\n",
            "_________________________________________________________________\n",
            "Layer (type)                 Output Shape              Param #   \n",
            "=================================================================\n",
            "input_2 (InputLayer)         [(None, 150, 150, 3)]     0         \n",
            "_________________________________________________________________\n",
            "block1_conv1 (Conv2D)        (None, 150, 150, 64)      1792      \n",
            "_________________________________________________________________\n",
            "block1_conv2 (Conv2D)        (None, 150, 150, 64)      36928     \n",
            "_________________________________________________________________\n",
            "block1_pool (MaxPooling2D)   (None, 75, 75, 64)        0         \n",
            "_________________________________________________________________\n",
            "block2_conv1 (Conv2D)        (None, 75, 75, 128)       73856     \n",
            "_________________________________________________________________\n",
            "block2_conv2 (Conv2D)        (None, 75, 75, 128)       147584    \n",
            "_________________________________________________________________\n",
            "block2_pool (MaxPooling2D)   (None, 37, 37, 128)       0         \n",
            "_________________________________________________________________\n",
            "block3_conv1 (Conv2D)        (None, 37, 37, 256)       295168    \n",
            "_________________________________________________________________\n",
            "block3_conv2 (Conv2D)        (None, 37, 37, 256)       590080    \n",
            "_________________________________________________________________\n",
            "block3_conv3 (Conv2D)        (None, 37, 37, 256)       590080    \n",
            "_________________________________________________________________\n",
            "block3_pool (MaxPooling2D)   (None, 18, 18, 256)       0         \n",
            "_________________________________________________________________\n",
            "block4_conv1 (Conv2D)        (None, 18, 18, 512)       1180160   \n",
            "_________________________________________________________________\n",
            "block4_conv2 (Conv2D)        (None, 18, 18, 512)       2359808   \n",
            "_________________________________________________________________\n",
            "block4_conv3 (Conv2D)        (None, 18, 18, 512)       2359808   \n",
            "_________________________________________________________________\n",
            "block4_pool (MaxPooling2D)   (None, 9, 9, 512)         0         \n",
            "_________________________________________________________________\n",
            "block5_conv1 (Conv2D)        (None, 9, 9, 512)         2359808   \n",
            "_________________________________________________________________\n",
            "block5_conv2 (Conv2D)        (None, 9, 9, 512)         2359808   \n",
            "_________________________________________________________________\n",
            "block5_conv3 (Conv2D)        (None, 9, 9, 512)         2359808   \n",
            "_________________________________________________________________\n",
            "block5_pool (MaxPooling2D)   (None, 4, 4, 512)         0         \n",
            "=================================================================\n",
            "Total params: 14,714,688\n",
            "Trainable params: 12,979,200\n",
            "Non-trainable params: 1,735,488\n",
            "_________________________________________________________________\n"
          ]
        }
      ],
      "source": [
        "conv_base.summary()"
      ]
    },
    {
      "cell_type": "markdown",
      "metadata": {},
      "source": [
        "#### 미세조정2"
      ]
    },
    {
      "cell_type": "code",
      "execution_count": 28,
      "metadata": {},
      "outputs": [],
      "source": [
        "# block5_conv1 ~ 3 층을 학습시켜보자\n",
        "\n",
        "# block5_conv1 층부터 하위의 층의 동결을 해제\n",
        "set_trainable = False\n",
        "for layer in conv_base.layers:\n",
        "  if layer.name == 'block4_conv1':\n",
        "    set_trainable = True\n",
        "  if set_trainable == True:\n",
        "    layer.trainable = True\n",
        "  else:\n",
        "    layer.trainable = False"
      ]
    },
    {
      "cell_type": "code",
      "execution_count": 29,
      "metadata": {},
      "outputs": [
        {
          "data": {
            "text/plain": [
              "4"
            ]
          },
          "execution_count": 29,
          "metadata": {},
          "output_type": "execute_result"
        }
      ],
      "source": [
        "len(model2.trainable_weights)"
      ]
    },
    {
      "cell_type": "code",
      "execution_count": 30,
      "metadata": {},
      "outputs": [],
      "source": [
        "model2.compile(loss = 'binary_crossentropy',\n",
        "               optimizer = 'adam',\n",
        "               metrics = ['accuracy']\n",
        "               )"
      ]
    },
    {
      "cell_type": "code",
      "execution_count": 32,
      "metadata": {},
      "outputs": [
        {
          "name": "stderr",
          "output_type": "stream",
          "text": [
            "/opt/homebrew/Caskroom/miniforge/base/envs/dl/lib/python3.8/site-packages/tensorflow/python/keras/engine/training.py:1940: UserWarning: `Model.fit_generator` is deprecated and will be removed in a future version. Please use `Model.fit`, which supports generators.\n",
            "  warnings.warn('`Model.fit_generator` is deprecated and '\n"
          ]
        },
        {
          "name": "stdout",
          "output_type": "stream",
          "text": [
            "Epoch 1/20\n"
          ]
        },
        {
          "name": "stderr",
          "output_type": "stream",
          "text": [
            "2023-02-14 03:28:47.217522: I tensorflow/core/grappler/optimizers/custom_graph_optimizer_registry.cc:112] Plugin optimizer for device_type GPU is enabled.\n"
          ]
        },
        {
          "name": "stdout",
          "output_type": "stream",
          "text": [
            "20/20 [==============================] - ETA: 0s - loss: 0.1489 - accuracy: 0.9385"
          ]
        },
        {
          "name": "stderr",
          "output_type": "stream",
          "text": [
            "2023-02-14 03:28:55.342304: I tensorflow/core/grappler/optimizers/custom_graph_optimizer_registry.cc:112] Plugin optimizer for device_type GPU is enabled.\n"
          ]
        },
        {
          "name": "stdout",
          "output_type": "stream",
          "text": [
            "20/20 [==============================] - 12s 595ms/step - loss: 0.1489 - accuracy: 0.9385 - val_loss: 0.4626 - val_accuracy: 0.8570\n",
            "Epoch 2/20\n",
            "20/20 [==============================] - 11s 578ms/step - loss: 0.0228 - accuracy: 0.9975 - val_loss: 0.3419 - val_accuracy: 0.8980\n",
            "Epoch 3/20\n",
            "20/20 [==============================] - 11s 576ms/step - loss: 0.0100 - accuracy: 0.9995 - val_loss: 0.3329 - val_accuracy: 0.9070\n",
            "Epoch 4/20\n",
            "20/20 [==============================] - 11s 574ms/step - loss: 0.0067 - accuracy: 1.0000 - val_loss: 0.3320 - val_accuracy: 0.9050\n",
            "Epoch 5/20\n",
            "20/20 [==============================] - 12s 580ms/step - loss: 0.0055 - accuracy: 1.0000 - val_loss: 0.3386 - val_accuracy: 0.9080\n",
            "Epoch 6/20\n",
            "20/20 [==============================] - 12s 591ms/step - loss: 0.0048 - accuracy: 1.0000 - val_loss: 0.3396 - val_accuracy: 0.9100\n",
            "Epoch 7/20\n",
            "20/20 [==============================] - 12s 597ms/step - loss: 0.0043 - accuracy: 1.0000 - val_loss: 0.3455 - val_accuracy: 0.9060\n",
            "Epoch 8/20\n",
            "20/20 [==============================] - 12s 581ms/step - loss: 0.0038 - accuracy: 1.0000 - val_loss: 0.3442 - val_accuracy: 0.9100\n",
            "Epoch 9/20\n",
            "20/20 [==============================] - 12s 584ms/step - loss: 0.0035 - accuracy: 1.0000 - val_loss: 0.3493 - val_accuracy: 0.9100\n",
            "Epoch 10/20\n",
            "20/20 [==============================] - 12s 586ms/step - loss: 0.0031 - accuracy: 1.0000 - val_loss: 0.3581 - val_accuracy: 0.9060\n",
            "Epoch 11/20\n",
            "20/20 [==============================] - 11s 574ms/step - loss: 0.0028 - accuracy: 1.0000 - val_loss: 0.3624 - val_accuracy: 0.9070\n",
            "Epoch 12/20\n",
            "20/20 [==============================] - 11s 572ms/step - loss: 0.0025 - accuracy: 1.0000 - val_loss: 0.3648 - val_accuracy: 0.9070\n",
            "Epoch 13/20\n",
            "20/20 [==============================] - 11s 572ms/step - loss: 0.0022 - accuracy: 1.0000 - val_loss: 0.3730 - val_accuracy: 0.9060\n",
            "Epoch 14/20\n",
            "20/20 [==============================] - 11s 574ms/step - loss: 0.0021 - accuracy: 1.0000 - val_loss: 0.3714 - val_accuracy: 0.9110\n",
            "Epoch 15/20\n",
            "20/20 [==============================] - 11s 578ms/step - loss: 0.0018 - accuracy: 1.0000 - val_loss: 0.3850 - val_accuracy: 0.9070\n",
            "Epoch 16/20\n",
            "20/20 [==============================] - 12s 581ms/step - loss: 0.0016 - accuracy: 1.0000 - val_loss: 0.3833 - val_accuracy: 0.9080\n",
            "Epoch 17/20\n",
            "20/20 [==============================] - 11s 576ms/step - loss: 0.0014 - accuracy: 1.0000 - val_loss: 0.3843 - val_accuracy: 0.9090\n",
            "Epoch 18/20\n",
            "20/20 [==============================] - 11s 576ms/step - loss: 0.0012 - accuracy: 1.0000 - val_loss: 0.3894 - val_accuracy: 0.9070\n",
            "Epoch 19/20\n",
            "20/20 [==============================] - 12s 590ms/step - loss: 0.0012 - accuracy: 1.0000 - val_loss: 0.3967 - val_accuracy: 0.9060\n",
            "Epoch 20/20\n",
            "20/20 [==============================] - 12s 581ms/step - loss: 0.0010 - accuracy: 1.0000 - val_loss: 0.3995 - val_accuracy: 0.9060\n"
          ]
        },
        {
          "data": {
            "text/plain": [
              "<tensorflow.python.keras.callbacks.History at 0x314f2a3d0>"
            ]
          },
          "execution_count": 32,
          "metadata": {},
          "output_type": "execute_result"
        }
      ],
      "source": [
        "model2.fit_generator(\n",
        "    generator = train_generator,\n",
        "    epochs = 20,\n",
        "    validation_data = val_generator\n",
        ")"
      ]
    },
    {
      "attachments": {},
      "cell_type": "markdown",
      "metadata": {
        "id": "ioNmbdF5yuWi"
      },
      "source": [
        "# [실습] 패션데이터셋을 이용한 이미지 분류"
      ]
    },
    {
      "attachments": {},
      "cell_type": "markdown",
      "metadata": {},
      "source": [
        "- 패션 데이터셋  \n",
        "10가지의 패션 이미지 데이터로 구성  \n",
        "60000개의 데이터  \n",
        "이미지 크기 : 28 x 28\n",
        "\n",
        "- Xception 모델을 전이학습"
      ]
    },
    {
      "attachments": {},
      "cell_type": "markdown",
      "metadata": {},
      "source": [
        "## 데이터 로드"
      ]
    },
    {
      "cell_type": "code",
      "execution_count": 33,
      "metadata": {
        "colab": {
          "base_uri": "https://localhost:8080/"
        },
        "id": "EOakE4gHyceo",
        "outputId": "b794652e-74ff-4143-e7cd-a9e5eb2deabd"
      },
      "outputs": [
        {
          "data": {
            "text/plain": [
              "((60000, 28, 28), (60000,), (10000, 28, 28), (10000,))"
            ]
          },
          "execution_count": 33,
          "metadata": {},
          "output_type": "execute_result"
        }
      ],
      "source": [
        "from tensorflow.keras.datasets import fashion_mnist\n",
        "\n",
        "(X_train, y_train), (X_test, y_test) = fashion_mnist.load_data()\n",
        "X_train.shape, y_train.shape, X_test.shape, y_test.shape"
      ]
    },
    {
      "cell_type": "code",
      "execution_count": 34,
      "metadata": {
        "colab": {
          "base_uri": "https://localhost:8080/"
        },
        "id": "KxULtO6Pytn6",
        "outputId": "3ee0569a-09ea-4d9b-8a8c-9b4805feef73"
      },
      "outputs": [
        {
          "data": {
            "text/plain": [
              "((1000, 28, 28), (1000,), (300, 28, 28), (300,))"
            ]
          },
          "execution_count": 34,
          "metadata": {},
          "output_type": "execute_result"
        }
      ],
      "source": [
        "# 훈련데이터 1000개, 테스트데이터 300개만 사용\n",
        "X_train = X_train[:1000, :]\n",
        "y_train = y_train[:1000]\n",
        "X_test = X_test[:300, :]\n",
        "y_test = y_test[:300]\n",
        "\n",
        "X_train.shape, y_train.shape, X_test.shape, y_test.shape"
      ]
    },
    {
      "cell_type": "code",
      "execution_count": 35,
      "metadata": {
        "colab": {
          "base_uri": "https://localhost:8080/"
        },
        "id": "8uuvQ26Fytqx",
        "outputId": "e3823c4b-e577-4c09-c5ee-f63dd6625479"
      },
      "outputs": [
        {
          "name": "stdout",
          "output_type": "stream",
          "text": [
            "[9 0 3 2 7 5 1 6 4 8]\n",
            "[9 2 1 6 4 5 7 3 8 0]\n"
          ]
        }
      ],
      "source": [
        "# y의 라벨 확인\n",
        "import pandas as pd\n",
        "\n",
        "print(pd.Series(y_train).unique())\n",
        "print(pd.Series(y_test).unique())"
      ]
    },
    {
      "cell_type": "code",
      "execution_count": 36,
      "metadata": {
        "colab": {
          "base_uri": "https://localhost:8080/",
          "height": 283
        },
        "id": "vvtFjc4xyttr",
        "outputId": "ec1f83af-3b0f-4f78-a962-ce6eecf94180"
      },
      "outputs": [
        {
          "data": {
            "text/plain": [
              "<matplotlib.image.AxesImage at 0x2ab5cee50>"
            ]
          },
          "execution_count": 36,
          "metadata": {},
          "output_type": "execute_result"
        },
        {
          "data": {
            "image/png": "[encoded data removed]",
            "text/plain": [
              "<Figure size 640x480 with 1 Axes>"
            ]
          },
          "metadata": {},
          "output_type": "display_data"
        }
      ],
      "source": [
        "# 이미지 확인\n",
        "import matplotlib.pyplot as plt\n",
        "\n",
        "plt.imshow(X_train[160], cmap=\"gray\")"
      ]
    },
    {
      "cell_type": "code",
      "execution_count": 37,
      "metadata": {
        "colab": {
          "base_uri": "https://localhost:8080/"
        },
        "id": "aK0m6banytwi",
        "outputId": "53f76573-c434-4c40-9d6b-5dd50a51b831"
      },
      "outputs": [
        {
          "data": {
            "text/plain": [
              "((1000, 10), (300, 10))"
            ]
          },
          "execution_count": 37,
          "metadata": {},
          "output_type": "execute_result"
        }
      ],
      "source": [
        "# y를 원핫 인코딩\n",
        "y_train_en = pd.get_dummies(y_train)\n",
        "y_test_en = pd.get_dummies(y_test)\n",
        "\n",
        "y_train_en.shape, y_test_en.shape"
      ]
    },
    {
      "cell_type": "code",
      "execution_count": 38,
      "metadata": {
        "id": "GvGttpYK9zA0"
      },
      "outputs": [],
      "source": [
        "# 이미지를 (244, 244) 크기로 변환\n",
        "from PIL import Image\n",
        "import numpy as np\n",
        "\n",
        "train_resize_list = []\n",
        "for i in range(len(X_train)) :\n",
        "  train_resize_img = Image.fromarray(X_train[i]).resize((244, 244))\n",
        "  train_resize_list.append(np.array(train_resize_img))\n",
        "\n",
        "test_resize_list = []\n",
        "for i in range(len(X_test)) :\n",
        "  test_resize_img = Image.fromarray(X_test[i]).resize((244, 244))\n",
        "  test_resize_list.append(np.array(test_resize_img))"
      ]
    },
    {
      "cell_type": "code",
      "execution_count": 39,
      "metadata": {
        "colab": {
          "base_uri": "https://localhost:8080/"
        },
        "id": "mihtSA4O9zD7",
        "outputId": "e9f2156a-4554-47a8-d242-77b495aff437"
      },
      "outputs": [
        {
          "data": {
            "text/plain": [
              "((1000, 244, 244), (300, 244, 244))"
            ]
          },
          "execution_count": 39,
          "metadata": {},
          "output_type": "execute_result"
        }
      ],
      "source": [
        "X_train_resized = np.array(train_resize_list)\n",
        "X_test_resized = np.array(test_resize_list)\n",
        "\n",
        "X_train_resized.shape, X_test_resized.shape"
      ]
    },
    {
      "cell_type": "code",
      "execution_count": 40,
      "metadata": {
        "colab": {
          "base_uri": "https://localhost:8080/"
        },
        "id": "dD_93j609zG6",
        "outputId": "619c2aac-aa64-4e9e-eeb0-328a80c78f1d"
      },
      "outputs": [
        {
          "data": {
            "text/plain": [
              "((1000, 244, 244, 1), (300, 244, 244, 1))"
            ]
          },
          "execution_count": 40,
          "metadata": {},
          "output_type": "execute_result"
        }
      ],
      "source": [
        "# 색상채널 차원 추가\n",
        "X_train_resized = X_train_resized.reshape(X_train_resized.shape[0], 244, 244, 1)\n",
        "X_test_resized = X_test_resized.reshape(X_test_resized.shape[0], 244, 244, 1)\n",
        "\n",
        "X_train_resized.shape, X_test_resized.shape"
      ]
    },
    {
      "cell_type": "markdown",
      "metadata": {},
      "source": [
        "## 모델 정의"
      ]
    },
    {
      "cell_type": "code",
      "execution_count": 41,
      "metadata": {
        "colab": {
          "base_uri": "https://localhost:8080/"
        },
        "id": "zMT7x2wL9zJh",
        "outputId": "c9abf3cc-8a78-444a-aeca-75f1d811d39b"
      },
      "outputs": [
        {
          "name": "stdout",
          "output_type": "stream",
          "text": [
            "Model: \"sequential_2\"\n",
            "_________________________________________________________________\n",
            "Layer (type)                 Output Shape              Param #   \n",
            "=================================================================\n",
            "conv2d_2 (Conv2D)            (None, 242, 242, 32)      320       \n",
            "_________________________________________________________________\n",
            "conv2d_3 (Conv2D)            (None, 240, 240, 32)      9248      \n",
            "_________________________________________________________________\n",
            "max_pooling2d_2 (MaxPooling2 (None, 120, 120, 32)      0         \n",
            "_________________________________________________________________\n",
            "conv2d_4 (Conv2D)            (None, 118, 118, 64)      18496     \n",
            "_________________________________________________________________\n",
            "conv2d_5 (Conv2D)            (None, 116, 116, 128)     73856     \n",
            "_________________________________________________________________\n",
            "max_pooling2d_3 (MaxPooling2 (None, 58, 58, 128)       0         \n",
            "_________________________________________________________________\n",
            "flatten_2 (Flatten)          (None, 430592)            0         \n",
            "_________________________________________________________________\n",
            "dense_4 (Dense)              (None, 256)               110231808 \n",
            "_________________________________________________________________\n",
            "dense_5 (Dense)              (None, 64)                16448     \n",
            "_________________________________________________________________\n",
            "dense_6 (Dense)              (None, 10)                650       \n",
            "=================================================================\n",
            "Total params: 110,350,826\n",
            "Trainable params: 110,350,826\n",
            "Non-trainable params: 0\n",
            "_________________________________________________________________\n"
          ]
        }
      ],
      "source": [
        "# 신경망 설계\n",
        "from tensorflow.keras.models import Sequential\n",
        "from tensorflow.keras.layers import Dense, Conv2D, MaxPooling2D, Flatten\n",
        "\n",
        "model1 = Sequential()\n",
        "\n",
        "# CNN 층 설계 - 특성 추출기\n",
        "# CNN 층의 최종 크기는 10x10보다 크거나 작거나\n",
        "model1.add(Conv2D(filters=32, kernel_size=(3, 3), \n",
        "                  input_shape=(244, 244, 1), activation=\"relu\"))\n",
        "model1.add(Conv2D(filters=32, kernel_size=(3, 3), activation=\"relu\"))\n",
        "model1.add(MaxPooling2D(pool_size=(2, 2)))\n",
        "model1.add(Conv2D(filters=64, kernel_size=(3, 3), activation=\"relu\"))\n",
        "model1.add(Conv2D(filters=128, kernel_size=(3, 3), activation=\"relu\"))\n",
        "model1.add(MaxPooling2D(pool_size=(2, 2)))\n",
        "\n",
        "# 다차원 데이터를 1차원을 변환\n",
        "model1.add(Flatten())\n",
        "\n",
        "# 분류기 모델 설계\n",
        "model1.add(Dense(units=256, activation=\"relu\"))\n",
        "model1.add(Dense(units=64, activation=\"relu\"))\n",
        "model1.add(Dense(units=10, activation=\"softmax\"))\n",
        "\n",
        "model1.summary()"
      ]
    },
    {
      "cell_type": "code",
      "execution_count": 42,
      "metadata": {
        "id": "6_3z_Sx49zMU"
      },
      "outputs": [],
      "source": [
        "model1.compile(loss=\"categorical_crossentropy\",\n",
        "               optimizer=\"adam\",\n",
        "               metrics=[\"accuracy\"])"
      ]
    },
    {
      "attachments": {},
      "cell_type": "markdown",
      "metadata": {},
      "source": [
        "## 모델 학습"
      ]
    },
    {
      "cell_type": "code",
      "execution_count": 43,
      "metadata": {
        "colab": {
          "base_uri": "https://localhost:8080/"
        },
        "id": "lVXx7Fot9zPB",
        "outputId": "32e4ed9f-7bd6-444b-eb4d-f51e49050412"
      },
      "outputs": [
        {
          "name": "stdout",
          "output_type": "stream",
          "text": [
            "Epoch 1/10\n"
          ]
        },
        {
          "name": "stderr",
          "output_type": "stream",
          "text": [
            "2023-02-14 03:43:11.678148: I tensorflow/core/grappler/optimizers/custom_graph_optimizer_registry.cc:112] Plugin optimizer for device_type GPU is enabled.\n"
          ]
        },
        {
          "name": "stdout",
          "output_type": "stream",
          "text": [
            "50/50 [==============================] - ETA: 0s - loss: 34.6620 - accuracy: 0.5640"
          ]
        },
        {
          "name": "stderr",
          "output_type": "stream",
          "text": [
            "2023-02-14 03:43:28.598926: I tensorflow/core/grappler/optimizers/custom_graph_optimizer_registry.cc:112] Plugin optimizer for device_type GPU is enabled.\n"
          ]
        },
        {
          "name": "stdout",
          "output_type": "stream",
          "text": [
            "50/50 [==============================] - 20s 363ms/step - loss: 34.6620 - accuracy: 0.5640 - val_loss: 0.8938 - val_accuracy: 0.7300\n",
            "Epoch 2/10\n",
            "50/50 [==============================] - 18s 369ms/step - loss: 0.4568 - accuracy: 0.8630 - val_loss: 0.6557 - val_accuracy: 0.8100\n",
            "Epoch 3/10\n",
            "50/50 [==============================] - 18s 364ms/step - loss: 0.2006 - accuracy: 0.9340 - val_loss: 0.7450 - val_accuracy: 0.8100\n",
            "Epoch 4/10\n",
            "50/50 [==============================] - 18s 366ms/step - loss: 0.1066 - accuracy: 0.9680 - val_loss: 0.7368 - val_accuracy: 0.8100\n",
            "Epoch 5/10\n",
            "50/50 [==============================] - 18s 363ms/step - loss: 0.0657 - accuracy: 0.9810 - val_loss: 1.0258 - val_accuracy: 0.8067\n",
            "Epoch 6/10\n",
            "50/50 [==============================] - 18s 362ms/step - loss: 0.0479 - accuracy: 0.9840 - val_loss: 0.8355 - val_accuracy: 0.8267\n",
            "Epoch 7/10\n",
            "50/50 [==============================] - 18s 363ms/step - loss: 0.0200 - accuracy: 0.9930 - val_loss: 1.0706 - val_accuracy: 0.8167\n",
            "Epoch 8/10\n",
            "50/50 [==============================] - 18s 363ms/step - loss: 0.0130 - accuracy: 0.9970 - val_loss: 1.0245 - val_accuracy: 0.8267\n",
            "Epoch 9/10\n",
            "50/50 [==============================] - 18s 368ms/step - loss: 0.0180 - accuracy: 0.9950 - val_loss: 1.0636 - val_accuracy: 0.8033\n",
            "Epoch 10/10\n",
            "50/50 [==============================] - 18s 364ms/step - loss: 0.0237 - accuracy: 0.9910 - val_loss: 1.2719 - val_accuracy: 0.8033\n"
          ]
        }
      ],
      "source": [
        "h1 = model1.fit(X_train_resized, y_train_en, batch_size=20, epochs=10,\n",
        "                validation_data=(X_test_resized, y_test_en))"
      ]
    },
    {
      "cell_type": "code",
      "execution_count": 44,
      "metadata": {
        "colab": {
          "base_uri": "https://localhost:8080/",
          "height": 283
        },
        "id": "gDhzA-9H9zRq",
        "outputId": "13841aa9-b566-4a5a-ee60-eb1669bba3e5"
      },
      "outputs": [
        {
          "data": {
            "text/plain": [
              "<matplotlib.legend.Legend at 0x2aa504b80>"
            ]
          },
          "execution_count": 44,
          "metadata": {},
          "output_type": "execute_result"
        },
        {
          "data": {
            "image/png": "[encoded data removed]",
            "text/plain": [
              "<Figure size 640x480 with 1 Axes>"
            ]
          },
          "metadata": {},
          "output_type": "display_data"
        }
      ],
      "source": [
        "# 데이터 시각화\n",
        "import matplotlib.pyplot as plt\n",
        "\n",
        "acc = h1.history[\"accuracy\"]\n",
        "val_acc = h1.history[\"val_accuracy\"]\n",
        "\n",
        "e = range(1, len(acc) + 1)\n",
        "\n",
        "plt.plot(e, acc, \"r\", label=\"Train\")\n",
        "plt.plot(e, val_acc, \"b\", label=\"Test\")\n",
        "plt.legend()"
      ]
    }
  ],
  "metadata": {
    "accelerator": "GPU",
    "colab": {
      "provenance": []
    },
    "kernelspec": {
      "display_name": "dl",
      "language": "python",
      "name": "python3"
    },
    "language_info": {
      "codemirror_mode": {
        "name": "ipython",
        "version": 3
      },
      "file_extension": ".py",
      "mimetype": "text/x-python",
      "name": "python",
      "nbconvert_exporter": "python",
      "pygments_lexer": "ipython3",
      "version": "3.8.15"
    },
    "vscode": {
      "interpreter": {
        "hash": "46e27ede752268be201d36b7fbc2802b29a11b0bb095abacecc6c0428b93624a"
      }
    }
  },
  "nbformat": 4,
  "nbformat_minor": 0
}
