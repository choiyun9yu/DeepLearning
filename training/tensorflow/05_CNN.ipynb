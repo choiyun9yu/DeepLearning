{
  "cells": [
    {
      "attachments": {},
      "cell_type": "markdown",
      "metadata": {
        "id": "zClNjqoJNbFd"
      },
      "source": [
        "# MLP 모델"
      ]
    },
    {
      "cell_type": "markdown",
      "metadata": {},
      "source": [
        "## 데이터 로드\n",
        "- MNIST 데이터 : 0~9까지로 이루어진 손글씨 숫자 데이터"
      ]
    },
    {
      "cell_type": "code",
      "execution_count": 1,
      "metadata": {
        "colab": {
          "base_uri": "https://localhost:8080/"
        },
        "id": "_Q5GbLK1ePug",
        "outputId": "b6f615aa-f0bb-4a23-a2cb-fd2aa4fc86ca"
      },
      "outputs": [
        {
          "name": "stdout",
          "output_type": "stream",
          "text": [
            "Init Plugin\n",
            "Init Graph Optimizer\n",
            "Init Kernel\n"
          ]
        }
      ],
      "source": [
        "from tensorflow.keras.datasets import mnist\n",
        "(train_images, train_labels), (test_images, test_labels) = mnist.load_data()"
      ]
    },
    {
      "cell_type": "code",
      "execution_count": 2,
      "metadata": {
        "colab": {
          "base_uri": "https://localhost:8080/"
        },
        "id": "h0l6FnvHePr6",
        "outputId": "c87f93d6-9e10-46bf-8100-9a5b996772ca"
      },
      "outputs": [
        {
          "data": {
            "text/plain": [
              "(10000, 28, 28)"
            ]
          },
          "execution_count": 2,
          "metadata": {},
          "output_type": "execute_result"
        }
      ],
      "source": [
        "test_images.shape"
      ]
    },
    {
      "cell_type": "code",
      "execution_count": 3,
      "metadata": {
        "colab": {
          "base_uri": "https://localhost:8080/",
          "height": 265
        },
        "id": "CfIYZqBUePpV",
        "outputId": "8bda91fe-ccae-490f-e019-d8ddc89e6ef7"
      },
      "outputs": [
        {
          "data": {
            "image/png": "[encoded data removed]",
            "text/plain": [
              "<Figure size 640x480 with 1 Axes>"
            ]
          },
          "metadata": {},
          "output_type": "display_data"
        }
      ],
      "source": [
        "# 데이터 하나만 출력\n",
        "import matplotlib.pyplot as plt\n",
        "\n",
        "# plt.imshow(train_images[100], cmap = 'gray') 배경이 검은색\n",
        "plt.imshow(train_images[50], cmap = plt.cm.binary) # 배경이 하얀색\n",
        "plt.show()"
      ]
    },
    {
      "cell_type": "code",
      "execution_count": 4,
      "metadata": {
        "colab": {
          "base_uri": "https://localhost:8080/"
        },
        "id": "A6Tqm5B2ePm_",
        "outputId": "68b20668-1fdb-49a3-e1c3-9cb252865aa5"
      },
      "outputs": [
        {
          "data": {
            "text/plain": [
              "3"
            ]
          },
          "execution_count": 4,
          "metadata": {},
          "output_type": "execute_result"
        }
      ],
      "source": [
        "train_labels[50]"
      ]
    },
    {
      "cell_type": "markdown",
      "metadata": {},
      "source": [
        "## Featrue Engineering"
      ]
    },
    {
      "cell_type": "code",
      "execution_count": 6,
      "metadata": {},
      "outputs": [],
      "source": [
        "# 이미지 데이터에서는 데이터 범위 수정(0~255 / 정수) > 0~1 / 실수\n",
        "# 계산량 감소, 분산 감소\n",
        "train_images = train_images.astype('float32') / 255\n",
        "test_images = test_images.astype('float32') / 255"
      ]
    },
    {
      "cell_type": "code",
      "execution_count": 10,
      "metadata": {},
      "outputs": [
        {
          "data": {
            "text/plain": [
              "((60000, 28, 28), (10000, 28, 28))"
            ]
          },
          "execution_count": 10,
          "metadata": {},
          "output_type": "execute_result"
        }
      ],
      "source": [
        "train_images.shape, test_images.shape"
      ]
    },
    {
      "cell_type": "code",
      "execution_count": 11,
      "metadata": {
        "id": "N78u3jFQePhh"
      },
      "outputs": [],
      "source": [
        "# MLP에 학습하기 위해서 이미지 데이터를 1차원으로 변경\n",
        "train_images = train_images.reshape(60000, 28*28)\n",
        "test_images = test_images.reshape(10000, 28*28)"
      ]
    },
    {
      "cell_type": "code",
      "execution_count": 12,
      "metadata": {
        "id": "rIKo1sSNePep"
      },
      "outputs": [],
      "source": [
        "# 원 핫 인코딩\n",
        "from tensorflow.keras.utils import to_categorical\n",
        "\n",
        "train_label_one = to_categorical(train_labels)\n",
        "test_label_one = to_categorical(test_labels)"
      ]
    },
    {
      "cell_type": "code",
      "execution_count": 13,
      "metadata": {
        "colab": {
          "base_uri": "https://localhost:8080/"
        },
        "id": "ZRE8f4JrePcC",
        "outputId": "0e316cde-17eb-4cea-dd18-fca8832011f3"
      },
      "outputs": [
        {
          "data": {
            "text/plain": [
              "((60000, 784), (10000, 784), (60000, 10), (10000, 10))"
            ]
          },
          "execution_count": 13,
          "metadata": {},
          "output_type": "execute_result"
        }
      ],
      "source": [
        "train_images.shape, test_images.shape, train_label_one.shape, test_label_one.shape"
      ]
    },
    {
      "attachments": {},
      "cell_type": "markdown",
      "metadata": {},
      "source": [
        "## 모델 정의"
      ]
    },
    {
      "cell_type": "code",
      "execution_count": 14,
      "metadata": {
        "colab": {
          "base_uri": "https://localhost:8080/"
        },
        "id": "3DCMg5GqePZa",
        "outputId": "5d237187-a998-4c3a-9398-aa4f52c14793"
      },
      "outputs": [
        {
          "name": "stdout",
          "output_type": "stream",
          "text": [
            "Metal device set to: Apple M1 Pro\n",
            "\n",
            "systemMemory: 16.00 GB\n",
            "maxCacheSize: 5.33 GB\n",
            "\n",
            "Model: \"sequential\"\n",
            "_________________________________________________________________\n",
            "Layer (type)                 Output Shape              Param #   \n",
            "=================================================================\n",
            "dense (Dense)                (None, 256)               200960    \n",
            "_________________________________________________________________\n",
            "dense_1 (Dense)              (None, 10)                2570      \n",
            "=================================================================\n",
            "Total params: 203,530\n",
            "Trainable params: 203,530\n",
            "Non-trainable params: 0\n",
            "_________________________________________________________________\n"
          ]
        },
        {
          "name": "stderr",
          "output_type": "stream",
          "text": [
            "2023-02-14 02:26:26.583626: I tensorflow/core/common_runtime/pluggable_device/pluggable_device_factory.cc:305] Could not identify NUMA node of platform GPU ID 0, defaulting to 0. Your kernel may not have been built with NUMA support.\n",
            "2023-02-14 02:26:26.583756: I tensorflow/core/common_runtime/pluggable_device/pluggable_device_factory.cc:271] Created TensorFlow device (/job:localhost/replica:0/task:0/device:GPU:0 with 0 MB memory) -> physical PluggableDevice (device: 0, name: METAL, pci bus id: <undefined>)\n"
          ]
        }
      ],
      "source": [
        "# 딥러닝 모델 설계(MLP)\n",
        "from tensorflow.keras.models import Sequential\n",
        "from tensorflow.keras.layers import Dense\n",
        "\n",
        "model1 = Sequential()\n",
        "model1.add(Dense(units = 256, activation = 'relu', input_dim = 28*28))\n",
        "model1.add(Dense(units = 10, activation = 'softmax'))\n",
        "\n",
        "model1.summary()\n"
      ]
    },
    {
      "cell_type": "code",
      "execution_count": 15,
      "metadata": {
        "id": "jivTpEY3ePWz"
      },
      "outputs": [],
      "source": [
        "# 모델 컴파일하기\n",
        "model1.compile(loss = 'categorical_crossentropy',# 다중분류\n",
        "               optimizer = 'Adam',\n",
        "               metrics = ['accuracy'])"
      ]
    },
    {
      "attachments": {},
      "cell_type": "markdown",
      "metadata": {},
      "source": [
        "## 모델 학습"
      ]
    },
    {
      "cell_type": "code",
      "execution_count": 16,
      "metadata": {
        "colab": {
          "base_uri": "https://localhost:8080/"
        },
        "id": "_v9fmmuTePT7",
        "outputId": "6d6f4087-7efd-42e1-d2dd-be534ca2fb0f"
      },
      "outputs": [
        {
          "name": "stderr",
          "output_type": "stream",
          "text": [
            "2023-02-14 02:26:44.119331: I tensorflow/compiler/mlir/mlir_graph_optimization_pass.cc:176] None of the MLIR Optimization Passes are enabled (registered 2)\n",
            "2023-02-14 02:26:44.119551: W tensorflow/core/platform/profile_utils/cpu_utils.cc:128] Failed to get CPU frequency: 0 Hz\n",
            "2023-02-14 02:26:44.223674: I tensorflow/core/grappler/optimizers/custom_graph_optimizer_registry.cc:112] Plugin optimizer for device_type GPU is enabled.\n"
          ]
        },
        {
          "name": "stdout",
          "output_type": "stream",
          "text": [
            "Epoch 1/10\n",
            "1875/1875 [==============================] - 12s 6ms/step - loss: 0.9770 - accuracy: 0.7633\n",
            "Epoch 2/10\n",
            "1875/1875 [==============================] - 11s 6ms/step - loss: 0.4052 - accuracy: 0.8903\n",
            "Epoch 3/10\n",
            "1875/1875 [==============================] - 11s 6ms/step - loss: 0.3372 - accuracy: 0.9047\n",
            "Epoch 4/10\n",
            "1875/1875 [==============================] - 11s 6ms/step - loss: 0.3073 - accuracy: 0.9118\n",
            "Epoch 5/10\n",
            "1875/1875 [==============================] - 11s 6ms/step - loss: 0.2873 - accuracy: 0.9171\n",
            "Epoch 6/10\n",
            "1875/1875 [==============================] - 11s 6ms/step - loss: 0.2714 - accuracy: 0.9216\n",
            "Epoch 7/10\n",
            "1875/1875 [==============================] - 11s 6ms/step - loss: 0.2566 - accuracy: 0.9259\n",
            "Epoch 8/10\n",
            "1875/1875 [==============================] - 11s 6ms/step - loss: 0.2428 - accuracy: 0.9295\n",
            "Epoch 9/10\n",
            "1875/1875 [==============================] - 11s 6ms/step - loss: 0.2295 - accuracy: 0.9339\n",
            "Epoch 10/10\n",
            "1875/1875 [==============================] - 11s 6ms/step - loss: 0.2162 - accuracy: 0.9376\n"
          ]
        },
        {
          "data": {
            "text/plain": [
              "<tensorflow.python.keras.callbacks.History at 0x1798ef6a0>"
            ]
          },
          "execution_count": 16,
          "metadata": {},
          "output_type": "execute_result"
        }
      ],
      "source": [
        "# 모델 학습하기\n",
        "model1.fit(train_images, train_label_one, epochs = 10)"
      ]
    },
    {
      "cell_type": "code",
      "execution_count": 17,
      "metadata": {
        "colab": {
          "base_uri": "https://localhost:8080/"
        },
        "id": "kGW4X3bnePRb",
        "outputId": "2a9e7950-54d1-4b93-db10-f8fd53db2834"
      },
      "outputs": [
        {
          "name": "stdout",
          "output_type": "stream",
          "text": [
            " 26/313 [=>............................] - ETA: 1s - loss: 0.2064 - accuracy: 0.9423"
          ]
        },
        {
          "name": "stderr",
          "output_type": "stream",
          "text": [
            "2023-02-14 02:28:52.448033: I tensorflow/core/grappler/optimizers/custom_graph_optimizer_registry.cc:112] Plugin optimizer for device_type GPU is enabled.\n"
          ]
        },
        {
          "name": "stdout",
          "output_type": "stream",
          "text": [
            "313/313 [==============================] - 2s 6ms/step - loss: 0.2105 - accuracy: 0.9400\n"
          ]
        },
        {
          "data": {
            "text/plain": [
              "[0.2104501575231552, 0.940000057220459]"
            ]
          },
          "execution_count": 17,
          "metadata": {},
          "output_type": "execute_result"
        }
      ],
      "source": [
        "# 모델 평가하기\n",
        "model1.evaluate(test_images,test_label_one)"
      ]
    },
    {
      "cell_type": "code",
      "execution_count": 21,
      "metadata": {
        "colab": {
          "base_uri": "https://localhost:8080/",
          "height": 265
        },
        "id": "iJW61qGrePMu",
        "outputId": "eab3db92-eade-4758-abaa-8de7c4184468"
      },
      "outputs": [
        {
          "data": {
            "image/png": "[encoded data removed]",
            "text/plain": [
              "<Figure size 640x480 with 1 Axes>"
            ]
          },
          "metadata": {},
          "output_type": "display_data"
        }
      ],
      "source": [
        "# 직접 그린 손글씨이미지 읽어오기\n",
        "import PIL.Image as plimg\n",
        "import numpy as np\n",
        "\n",
        "gray_img = plimg.open('./data/image4.jpg').convert('L')\n",
        "plt.imshow(gray_img,cmap = 'gray')\n",
        "plt.show()"
      ]
    },
    {
      "cell_type": "code",
      "execution_count": 22,
      "metadata": {
        "id": "agSdGfanePKU"
      },
      "outputs": [
        {
          "data": {
            "text/plain": [
              "array([[254, 254, 254, 253, 254, 254, 255, 254, 254, 254, 254, 254, 254,\n",
              "        254, 254, 254, 254, 254, 254, 254, 254, 254, 254, 254, 255, 255,\n",
              "        255, 255],\n",
              "       [253, 254, 254, 253, 254, 254, 255, 254, 254, 254, 254, 254, 254,\n",
              "        254, 254, 254, 253, 254, 254, 254, 254, 254, 254, 253, 255, 255,\n",
              "        255, 255],\n",
              "       [253, 254, 254, 253, 254, 255, 255, 254, 254, 254, 255, 255, 255,\n",
              "        255, 254, 254, 254, 254, 254, 254, 254, 254, 254, 254, 255, 255,\n",
              "        255, 255],\n",
              "       [253, 254, 254, 253, 254, 255, 255, 254, 254, 255, 255, 255, 255,\n",
              "        255, 255, 254, 254, 255, 255, 255, 255, 255, 255, 254, 255, 255,\n",
              "        255, 255],\n",
              "       [253, 254, 254, 253, 254, 255, 255, 254, 255, 255, 255, 255, 255,\n",
              "        255, 255, 255, 255, 255, 255, 255, 255, 255, 255, 255, 255, 255,\n",
              "        255, 255],\n",
              "       [253, 254, 254, 253, 254, 255, 255, 254, 255, 255, 255, 255, 255,\n",
              "        255, 255, 255, 254, 255, 255, 255, 255, 255, 255, 254, 255, 255,\n",
              "        255, 255],\n",
              "       [253, 254, 254, 253, 254, 255, 255, 255, 255, 255, 255, 255, 255,\n",
              "        255, 255, 255, 255, 255, 255, 255, 255, 255, 255, 255, 255, 255,\n",
              "        255, 255],\n",
              "       [253, 254, 254, 253, 254, 255, 255, 255, 255, 255, 255, 255, 255,\n",
              "        255, 255, 255, 255, 255, 255, 255, 255, 255, 255, 255, 255, 255,\n",
              "        255, 255],\n",
              "       [255, 254, 253, 253, 254, 255, 255, 255, 255, 255, 255, 255, 255,\n",
              "        255, 255, 255, 255, 251, 255, 255, 253, 254, 255, 254, 255, 255,\n",
              "        255, 255],\n",
              "       [255, 254, 253, 253, 254, 255, 255, 255, 255, 255, 255, 255, 255,\n",
              "        255, 255, 255, 253, 255, 255, 252, 255, 255, 255, 253, 255, 255,\n",
              "        255, 255],\n",
              "       [255, 254, 254, 254, 254, 255, 255, 255, 255, 255, 255, 255, 255,\n",
              "        255, 255, 255, 255, 252, 255, 251, 255, 255, 249, 255, 255, 255,\n",
              "        255, 255],\n",
              "       [255, 254, 254, 254, 254, 255, 255, 255, 255, 255, 255, 255, 255,\n",
              "        255, 255, 255, 249, 254, 255, 255, 254, 251, 255, 253, 255, 255,\n",
              "        255, 255],\n",
              "       [255, 254, 254, 254, 255, 255, 255, 255, 255, 255, 255, 255, 255,\n",
              "        255, 255, 255, 255, 255, 254, 254, 255, 255, 255, 252, 255, 255,\n",
              "        255, 255],\n",
              "       [254, 254, 254, 254, 255, 255, 255, 255, 255, 255, 255, 255, 255,\n",
              "        255, 255, 255, 255, 255, 254, 252, 253, 255, 254, 255, 255, 255,\n",
              "        255, 255],\n",
              "       [254, 254, 254, 254, 255, 255, 255, 255, 255, 255, 255, 255, 255,\n",
              "        255, 255, 255, 254, 252, 255, 255, 254, 255, 255, 254, 255, 255,\n",
              "        255, 255],\n",
              "       [254, 254, 254, 255, 255, 255, 255, 255, 255, 255, 255, 255, 255,\n",
              "        255, 255, 255, 255, 255, 255, 253,   3, 254, 255, 255, 255, 255,\n",
              "        255, 255],\n",
              "       [255, 255, 255, 255, 255, 255, 255, 255, 255, 255, 255, 255, 255,\n",
              "        255, 255, 255, 253, 255, 254, 255,   0, 255, 253,   0, 254, 255,\n",
              "        255, 253],\n",
              "       [255, 255, 255, 255, 255, 255, 255, 255, 255, 255, 255, 255, 255,\n",
              "        255, 255, 255, 255, 255, 255,   0,   0, 251, 255,   0, 255, 253,\n",
              "        250, 255],\n",
              "       [255, 255, 255, 255, 255, 255, 255, 255, 255, 255, 255, 255, 255,\n",
              "        255, 255, 255, 255, 254, 255,   0, 255, 255, 254,   3, 252, 255,\n",
              "        253, 253],\n",
              "       [255, 255, 255, 255, 255, 255, 255, 255, 255, 255, 255, 255, 255,\n",
              "        255, 255, 255, 255, 255,   1,   0, 253, 255, 252,   0, 254, 253,\n",
              "        255, 254],\n",
              "       [255, 255, 255, 255, 255, 255, 255, 255, 255, 255, 255, 255, 255,\n",
              "        255, 255, 255, 254, 254,   0, 255, 254, 252, 255,   5, 255, 250,\n",
              "        255, 255],\n",
              "       [255, 255, 255, 255, 255, 255, 255, 255, 255, 255, 255, 255, 255,\n",
              "        255, 255, 255, 255,   2,   0, 255, 255, 255, 255,   0, 252, 255,\n",
              "        252, 255],\n",
              "       [255, 255, 255, 255, 255, 255, 255, 255, 255, 255, 255, 255, 255,\n",
              "        255, 255, 255, 255,   0, 255, 255, 251, 255, 255,   1, 255, 255,\n",
              "        255, 252],\n",
              "       [255, 255, 255, 255, 255, 255, 255, 255, 255, 255, 255, 255, 255,\n",
              "        255, 255, 255, 255,   2,   0,   1,   2,   0,   0,   0,   0,   0,\n",
              "          0, 255],\n",
              "       [255, 255, 255, 255, 255, 255, 255, 255, 255, 255, 255, 255, 255,\n",
              "        255, 255, 255, 254, 255, 253, 255, 255, 253, 255,   0, 255, 255,\n",
              "        255, 255],\n",
              "       [255, 255, 255, 255, 255, 255, 255, 255, 255, 255, 255, 255, 255,\n",
              "        255, 255, 255, 255, 252, 255, 253, 251, 255, 255,   1, 255, 255,\n",
              "        255, 255],\n",
              "       [255, 255, 255, 255, 255, 255, 255, 255, 255, 255, 255, 255, 255,\n",
              "        255, 255, 255, 252, 255, 255, 255, 255, 254, 254,   0, 255, 255,\n",
              "        255, 255],\n",
              "       [255, 255, 255, 255, 255, 255, 255, 255, 255, 255, 255, 255, 255,\n",
              "        255, 255, 255, 253, 255, 251, 253, 254, 253, 255, 255, 255, 255,\n",
              "        255, 255]], dtype=uint8)"
            ]
          },
          "execution_count": 22,
          "metadata": {},
          "output_type": "execute_result"
        }
      ],
      "source": [
        "img_pix = np.array(gray_img)\n",
        "img_pix"
      ]
    },
    {
      "cell_type": "code",
      "execution_count": 23,
      "metadata": {
        "id": "zO4dM9nZePH_"
      },
      "outputs": [
        {
          "data": {
            "text/plain": [
              "array([[  1,   1,   1,   2,   1,   1,   0,   1,   1,   1,   1,   1,   1,\n",
              "          1,   1,   1,   1,   1,   1,   1,   1,   1,   1,   1,   0,   0,\n",
              "          0,   0],\n",
              "       [  2,   1,   1,   2,   1,   1,   0,   1,   1,   1,   1,   1,   1,\n",
              "          1,   1,   1,   2,   1,   1,   1,   1,   1,   1,   2,   0,   0,\n",
              "          0,   0],\n",
              "       [  2,   1,   1,   2,   1,   0,   0,   1,   1,   1,   0,   0,   0,\n",
              "          0,   1,   1,   1,   1,   1,   1,   1,   1,   1,   1,   0,   0,\n",
              "          0,   0],\n",
              "       [  2,   1,   1,   2,   1,   0,   0,   1,   1,   0,   0,   0,   0,\n",
              "          0,   0,   1,   1,   0,   0,   0,   0,   0,   0,   1,   0,   0,\n",
              "          0,   0],\n",
              "       [  2,   1,   1,   2,   1,   0,   0,   1,   0,   0,   0,   0,   0,\n",
              "          0,   0,   0,   0,   0,   0,   0,   0,   0,   0,   0,   0,   0,\n",
              "          0,   0],\n",
              "       [  2,   1,   1,   2,   1,   0,   0,   1,   0,   0,   0,   0,   0,\n",
              "          0,   0,   0,   1,   0,   0,   0,   0,   0,   0,   1,   0,   0,\n",
              "          0,   0],\n",
              "       [  2,   1,   1,   2,   1,   0,   0,   0,   0,   0,   0,   0,   0,\n",
              "          0,   0,   0,   0,   0,   0,   0,   0,   0,   0,   0,   0,   0,\n",
              "          0,   0],\n",
              "       [  2,   1,   1,   2,   1,   0,   0,   0,   0,   0,   0,   0,   0,\n",
              "          0,   0,   0,   0,   0,   0,   0,   0,   0,   0,   0,   0,   0,\n",
              "          0,   0],\n",
              "       [  0,   1,   2,   2,   1,   0,   0,   0,   0,   0,   0,   0,   0,\n",
              "          0,   0,   0,   0,   4,   0,   0,   2,   1,   0,   1,   0,   0,\n",
              "          0,   0],\n",
              "       [  0,   1,   2,   2,   1,   0,   0,   0,   0,   0,   0,   0,   0,\n",
              "          0,   0,   0,   2,   0,   0,   3,   0,   0,   0,   2,   0,   0,\n",
              "          0,   0],\n",
              "       [  0,   1,   1,   1,   1,   0,   0,   0,   0,   0,   0,   0,   0,\n",
              "          0,   0,   0,   0,   3,   0,   4,   0,   0,   6,   0,   0,   0,\n",
              "          0,   0],\n",
              "       [  0,   1,   1,   1,   1,   0,   0,   0,   0,   0,   0,   0,   0,\n",
              "          0,   0,   0,   6,   1,   0,   0,   1,   4,   0,   2,   0,   0,\n",
              "          0,   0],\n",
              "       [  0,   1,   1,   1,   0,   0,   0,   0,   0,   0,   0,   0,   0,\n",
              "          0,   0,   0,   0,   0,   1,   1,   0,   0,   0,   3,   0,   0,\n",
              "          0,   0],\n",
              "       [  1,   1,   1,   1,   0,   0,   0,   0,   0,   0,   0,   0,   0,\n",
              "          0,   0,   0,   0,   0,   1,   3,   2,   0,   1,   0,   0,   0,\n",
              "          0,   0],\n",
              "       [  1,   1,   1,   1,   0,   0,   0,   0,   0,   0,   0,   0,   0,\n",
              "          0,   0,   0,   1,   3,   0,   0,   1,   0,   0,   1,   0,   0,\n",
              "          0,   0],\n",
              "       [  1,   1,   1,   0,   0,   0,   0,   0,   0,   0,   0,   0,   0,\n",
              "          0,   0,   0,   0,   0,   0,   2, 252,   1,   0,   0,   0,   0,\n",
              "          0,   0],\n",
              "       [  0,   0,   0,   0,   0,   0,   0,   0,   0,   0,   0,   0,   0,\n",
              "          0,   0,   0,   2,   0,   1,   0, 255,   0,   2, 255,   1,   0,\n",
              "          0,   2],\n",
              "       [  0,   0,   0,   0,   0,   0,   0,   0,   0,   0,   0,   0,   0,\n",
              "          0,   0,   0,   0,   0,   0, 255, 255,   4,   0, 255,   0,   2,\n",
              "          5,   0],\n",
              "       [  0,   0,   0,   0,   0,   0,   0,   0,   0,   0,   0,   0,   0,\n",
              "          0,   0,   0,   0,   1,   0, 255,   0,   0,   1, 252,   3,   0,\n",
              "          2,   2],\n",
              "       [  0,   0,   0,   0,   0,   0,   0,   0,   0,   0,   0,   0,   0,\n",
              "          0,   0,   0,   0,   0, 254, 255,   2,   0,   3, 255,   1,   2,\n",
              "          0,   1],\n",
              "       [  0,   0,   0,   0,   0,   0,   0,   0,   0,   0,   0,   0,   0,\n",
              "          0,   0,   0,   1,   1, 255,   0,   1,   3,   0, 250,   0,   5,\n",
              "          0,   0],\n",
              "       [  0,   0,   0,   0,   0,   0,   0,   0,   0,   0,   0,   0,   0,\n",
              "          0,   0,   0,   0, 253, 255,   0,   0,   0,   0, 255,   3,   0,\n",
              "          3,   0],\n",
              "       [  0,   0,   0,   0,   0,   0,   0,   0,   0,   0,   0,   0,   0,\n",
              "          0,   0,   0,   0, 255,   0,   0,   4,   0,   0, 254,   0,   0,\n",
              "          0,   3],\n",
              "       [  0,   0,   0,   0,   0,   0,   0,   0,   0,   0,   0,   0,   0,\n",
              "          0,   0,   0,   0, 253, 255, 254, 253, 255, 255, 255, 255, 255,\n",
              "        255,   0],\n",
              "       [  0,   0,   0,   0,   0,   0,   0,   0,   0,   0,   0,   0,   0,\n",
              "          0,   0,   0,   1,   0,   2,   0,   0,   2,   0, 255,   0,   0,\n",
              "          0,   0],\n",
              "       [  0,   0,   0,   0,   0,   0,   0,   0,   0,   0,   0,   0,   0,\n",
              "          0,   0,   0,   0,   3,   0,   2,   4,   0,   0, 254,   0,   0,\n",
              "          0,   0],\n",
              "       [  0,   0,   0,   0,   0,   0,   0,   0,   0,   0,   0,   0,   0,\n",
              "          0,   0,   0,   3,   0,   0,   0,   0,   1,   1, 255,   0,   0,\n",
              "          0,   0],\n",
              "       [  0,   0,   0,   0,   0,   0,   0,   0,   0,   0,   0,   0,   0,\n",
              "          0,   0,   0,   2,   0,   4,   2,   1,   2,   0,   0,   0,   0,\n",
              "          0,   0]], dtype=uint8)"
            ]
          },
          "execution_count": 23,
          "metadata": {},
          "output_type": "execute_result"
        }
      ],
      "source": [
        "# 255 > 0\n",
        "# 0 > 255\n",
        "img_pix = 255-img_pix\n",
        "img_pix"
      ]
    },
    {
      "cell_type": "code",
      "execution_count": 24,
      "metadata": {
        "id": "lIt-ZZq6ePF5"
      },
      "outputs": [],
      "source": [
        "img_pix = img_pix.astype('float32') / 255\n",
        "img_pix = img_pix.reshape((1, 28*28))"
      ]
    },
    {
      "cell_type": "code",
      "execution_count": 25,
      "metadata": {
        "colab": {
          "base_uri": "https://localhost:8080/"
        },
        "id": "0emhBQ1-ePDK",
        "outputId": "5c49c7d0-c3ae-415d-df24-39aea99ed964"
      },
      "outputs": [
        {
          "name": "stderr",
          "output_type": "stream",
          "text": [
            "2023-02-14 02:30:52.602784: I tensorflow/core/grappler/optimizers/custom_graph_optimizer_registry.cc:112] Plugin optimizer for device_type GPU is enabled.\n"
          ]
        },
        {
          "data": {
            "text/plain": [
              "array([[0.0000000e+00, 0.0000000e+00, 1.0000000e+00, 0.0000000e+00,\n",
              "        0.0000000e+00, 1.1029915e-19, 0.0000000e+00, 0.0000000e+00,\n",
              "        0.0000000e+00, 0.0000000e+00]], dtype=float32)"
            ]
          },
          "execution_count": 25,
          "metadata": {},
          "output_type": "execute_result"
        }
      ],
      "source": [
        "model1.predict(img_pix)"
      ]
    },
    {
      "cell_type": "markdown",
      "metadata": {
        "id": "gEi0IlxnNXle"
      },
      "source": [
        "# CNN 모델 "
      ]
    },
    {
      "cell_type": "markdown",
      "metadata": {},
      "source": [
        "## 데이터 로드"
      ]
    },
    {
      "cell_type": "code",
      "execution_count": 26,
      "metadata": {},
      "outputs": [],
      "source": [
        "from tensorflow.keras.datasets import mnist\n",
        "(train_images, train_labels), (test_images, test_labels) = mnist.load_data()"
      ]
    },
    {
      "cell_type": "code",
      "execution_count": 27,
      "metadata": {},
      "outputs": [],
      "source": [
        "# 데이터 전처리\n",
        "# 0 ~ 255 > 0 ~ 1\n",
        "train_images = train_images.astype('float32') / 255\n",
        "test_images = test_images.astype('float32') / 255\n",
        "\n",
        "# 차원 변환\n",
        "train_images = train_images.reshape(60000, 28, 28, 1)\n",
        "test_images = test_images.reshape(10000, 28, 28, 1)"
      ]
    },
    {
      "attachments": {},
      "cell_type": "markdown",
      "metadata": {},
      "source": [
        "## 모델 정의"
      ]
    },
    {
      "cell_type": "code",
      "execution_count": 28,
      "metadata": {
        "id": "PwOPEO-SeO6A"
      },
      "outputs": [],
      "source": [
        "# CNN 모델 설계\n",
        "from tensorflow.keras.models import Sequential\n",
        "from tensorflow.keras.layers import Dense, Conv2D, MaxPooling2D, Flatten\n",
        "\n",
        "# 모델 설계\n",
        "model2 = Sequential()\n",
        "\n",
        "model2.add(Conv2D(32, kernel_size=(3, 3), input_shape=(28, 28, 1), activation=\"relu\"))\n",
        "model2.add(Conv2D(64, (3, 3), activation=\"relu\"))\n",
        "model2.add(MaxPooling2D(pool_size=2))\n",
        "\n",
        "model2.add(Flatten())\n",
        "\n",
        "model2.add(Dense(128, activation=\"relu\"))\n",
        "model2.add(Dense(10, activation=\"softmax\"))"
      ]
    },
    {
      "cell_type": "code",
      "execution_count": 29,
      "metadata": {
        "id": "pwxPpmypeO0Q"
      },
      "outputs": [],
      "source": [
        "# 모델 컴파일\n",
        "model2.compile(loss = 'categorical_crossentropy',\n",
        "               optimizer = 'adam',\n",
        "               metrics = 'accuracy')"
      ]
    },
    {
      "cell_type": "code",
      "execution_count": 30,
      "metadata": {
        "colab": {
          "base_uri": "https://localhost:8080/"
        },
        "id": "lq6fMyUp5Eu6",
        "outputId": "df756d00-a256-4330-dc44-b450fd0a0945"
      },
      "outputs": [
        {
          "name": "stdout",
          "output_type": "stream",
          "text": [
            "Epoch 1/10\n"
          ]
        },
        {
          "name": "stderr",
          "output_type": "stream",
          "text": [
            "2023-02-14 02:40:21.399480: I tensorflow/core/grappler/optimizers/custom_graph_optimizer_registry.cc:112] Plugin optimizer for device_type GPU is enabled.\n"
          ]
        },
        {
          "name": "stdout",
          "output_type": "stream",
          "text": [
            "1875/1875 [==============================] - 20s 10ms/step - loss: 0.1124 - accuracy: 0.9660\n",
            "Epoch 2/10\n",
            "1875/1875 [==============================] - 18s 10ms/step - loss: 0.0363 - accuracy: 0.9883\n",
            "Epoch 3/10\n",
            "1875/1875 [==============================] - 18s 10ms/step - loss: 0.0228 - accuracy: 0.9925\n",
            "Epoch 4/10\n",
            "1875/1875 [==============================] - 18s 10ms/step - loss: 0.0148 - accuracy: 0.9951\n",
            "Epoch 5/10\n",
            "1875/1875 [==============================] - 18s 10ms/step - loss: 0.0114 - accuracy: 0.9963\n",
            "Epoch 6/10\n",
            "1875/1875 [==============================] - 18s 10ms/step - loss: 0.0082 - accuracy: 0.9974\n",
            "Epoch 7/10\n",
            "1875/1875 [==============================] - 18s 10ms/step - loss: 0.0069 - accuracy: 0.9978\n",
            "Epoch 8/10\n",
            "1875/1875 [==============================] - 18s 10ms/step - loss: 0.0058 - accuracy: 0.9984\n",
            "Epoch 9/10\n",
            "1875/1875 [==============================] - 19s 10ms/step - loss: 0.0060 - accuracy: 0.9981\n",
            "Epoch 10/10\n",
            "1875/1875 [==============================] - 18s 10ms/step - loss: 0.0047 - accuracy: 0.9983\n"
          ]
        },
        {
          "data": {
            "text/plain": [
              "<tensorflow.python.keras.callbacks.History at 0x17a8ed6d0>"
            ]
          },
          "execution_count": 30,
          "metadata": {},
          "output_type": "execute_result"
        }
      ],
      "source": [
        "model2.fit(train_images, train_label_one, epochs = 10)"
      ]
    },
    {
      "cell_type": "code",
      "execution_count": 31,
      "metadata": {
        "colab": {
          "base_uri": "https://localhost:8080/"
        },
        "id": "OgrjkNo3eOrx",
        "outputId": "3dbb4211-d352-403f-87ac-09bc8f9842a1"
      },
      "outputs": [
        {
          "name": "stdout",
          "output_type": "stream",
          "text": [
            " 16/313 [>.............................] - ETA: 2s - loss: 0.0373 - accuracy: 0.9922"
          ]
        },
        {
          "name": "stderr",
          "output_type": "stream",
          "text": [
            "2023-02-14 02:43:50.325953: I tensorflow/core/grappler/optimizers/custom_graph_optimizer_registry.cc:112] Plugin optimizer for device_type GPU is enabled.\n"
          ]
        },
        {
          "name": "stdout",
          "output_type": "stream",
          "text": [
            "313/313 [==============================] - 2s 7ms/step - loss: 0.0537 - accuracy: 0.9894\n"
          ]
        },
        {
          "data": {
            "text/plain": [
              "[0.05371721461415291, 0.9894000291824341]"
            ]
          },
          "execution_count": 31,
          "metadata": {},
          "output_type": "execute_result"
        }
      ],
      "source": [
        "model2.evaluate(test_images, test_label_one)"
      ]
    },
    {
      "cell_type": "code",
      "execution_count": 33,
      "metadata": {
        "colab": {
          "base_uri": "https://localhost:8080/",
          "height": 265
        },
        "id": "WZsQDHjcA6BI",
        "outputId": "50f59535-e0ad-4ea1-eb34-97362d7512e3"
      },
      "outputs": [
        {
          "data": {
            "image/png": "[encoded data removed]",
            "text/plain": [
              "<Figure size 640x480 with 1 Axes>"
            ]
          },
          "metadata": {},
          "output_type": "display_data"
        }
      ],
      "source": [
        "gray_img = plimg.open('./data/image4.jpg').convert('L')\n",
        "plt.imshow(gray_img,cmap = 'gray')\n",
        "plt.show()"
      ]
    },
    {
      "cell_type": "code",
      "execution_count": 34,
      "metadata": {
        "id": "p3bRnkdgBEHK"
      },
      "outputs": [
        {
          "data": {
            "text/plain": [
              "array([[254, 254, 254, 253, 254, 254, 255, 254, 254, 254, 254, 254, 254,\n",
              "        254, 254, 254, 254, 254, 254, 254, 254, 254, 254, 254, 255, 255,\n",
              "        255, 255],\n",
              "       [253, 254, 254, 253, 254, 254, 255, 254, 254, 254, 254, 254, 254,\n",
              "        254, 254, 254, 253, 254, 254, 254, 254, 254, 254, 253, 255, 255,\n",
              "        255, 255],\n",
              "       [253, 254, 254, 253, 254, 255, 255, 254, 254, 254, 255, 255, 255,\n",
              "        255, 254, 254, 254, 254, 254, 254, 254, 254, 254, 254, 255, 255,\n",
              "        255, 255],\n",
              "       [253, 254, 254, 253, 254, 255, 255, 254, 254, 255, 255, 255, 255,\n",
              "        255, 255, 254, 254, 255, 255, 255, 255, 255, 255, 254, 255, 255,\n",
              "        255, 255],\n",
              "       [253, 254, 254, 253, 254, 255, 255, 254, 255, 255, 255, 255, 255,\n",
              "        255, 255, 255, 255, 255, 255, 255, 255, 255, 255, 255, 255, 255,\n",
              "        255, 255],\n",
              "       [253, 254, 254, 253, 254, 255, 255, 254, 255, 255, 255, 255, 255,\n",
              "        255, 255, 255, 254, 255, 255, 255, 255, 255, 255, 254, 255, 255,\n",
              "        255, 255],\n",
              "       [253, 254, 254, 253, 254, 255, 255, 255, 255, 255, 255, 255, 255,\n",
              "        255, 255, 255, 255, 255, 255, 255, 255, 255, 255, 255, 255, 255,\n",
              "        255, 255],\n",
              "       [253, 254, 254, 253, 254, 255, 255, 255, 255, 255, 255, 255, 255,\n",
              "        255, 255, 255, 255, 255, 255, 255, 255, 255, 255, 255, 255, 255,\n",
              "        255, 255],\n",
              "       [255, 254, 253, 253, 254, 255, 255, 255, 255, 255, 255, 255, 255,\n",
              "        255, 255, 255, 255, 251, 255, 255, 253, 254, 255, 254, 255, 255,\n",
              "        255, 255],\n",
              "       [255, 254, 253, 253, 254, 255, 255, 255, 255, 255, 255, 255, 255,\n",
              "        255, 255, 255, 253, 255, 255, 252, 255, 255, 255, 253, 255, 255,\n",
              "        255, 255],\n",
              "       [255, 254, 254, 254, 254, 255, 255, 255, 255, 255, 255, 255, 255,\n",
              "        255, 255, 255, 255, 252, 255, 251, 255, 255, 249, 255, 255, 255,\n",
              "        255, 255],\n",
              "       [255, 254, 254, 254, 254, 255, 255, 255, 255, 255, 255, 255, 255,\n",
              "        255, 255, 255, 249, 254, 255, 255, 254, 251, 255, 253, 255, 255,\n",
              "        255, 255],\n",
              "       [255, 254, 254, 254, 255, 255, 255, 255, 255, 255, 255, 255, 255,\n",
              "        255, 255, 255, 255, 255, 254, 254, 255, 255, 255, 252, 255, 255,\n",
              "        255, 255],\n",
              "       [254, 254, 254, 254, 255, 255, 255, 255, 255, 255, 255, 255, 255,\n",
              "        255, 255, 255, 255, 255, 254, 252, 253, 255, 254, 255, 255, 255,\n",
              "        255, 255],\n",
              "       [254, 254, 254, 254, 255, 255, 255, 255, 255, 255, 255, 255, 255,\n",
              "        255, 255, 255, 254, 252, 255, 255, 254, 255, 255, 254, 255, 255,\n",
              "        255, 255],\n",
              "       [254, 254, 254, 255, 255, 255, 255, 255, 255, 255, 255, 255, 255,\n",
              "        255, 255, 255, 255, 255, 255, 253,   3, 254, 255, 255, 255, 255,\n",
              "        255, 255],\n",
              "       [255, 255, 255, 255, 255, 255, 255, 255, 255, 255, 255, 255, 255,\n",
              "        255, 255, 255, 253, 255, 254, 255,   0, 255, 253,   0, 254, 255,\n",
              "        255, 253],\n",
              "       [255, 255, 255, 255, 255, 255, 255, 255, 255, 255, 255, 255, 255,\n",
              "        255, 255, 255, 255, 255, 255,   0,   0, 251, 255,   0, 255, 253,\n",
              "        250, 255],\n",
              "       [255, 255, 255, 255, 255, 255, 255, 255, 255, 255, 255, 255, 255,\n",
              "        255, 255, 255, 255, 254, 255,   0, 255, 255, 254,   3, 252, 255,\n",
              "        253, 253],\n",
              "       [255, 255, 255, 255, 255, 255, 255, 255, 255, 255, 255, 255, 255,\n",
              "        255, 255, 255, 255, 255,   1,   0, 253, 255, 252,   0, 254, 253,\n",
              "        255, 254],\n",
              "       [255, 255, 255, 255, 255, 255, 255, 255, 255, 255, 255, 255, 255,\n",
              "        255, 255, 255, 254, 254,   0, 255, 254, 252, 255,   5, 255, 250,\n",
              "        255, 255],\n",
              "       [255, 255, 255, 255, 255, 255, 255, 255, 255, 255, 255, 255, 255,\n",
              "        255, 255, 255, 255,   2,   0, 255, 255, 255, 255,   0, 252, 255,\n",
              "        252, 255],\n",
              "       [255, 255, 255, 255, 255, 255, 255, 255, 255, 255, 255, 255, 255,\n",
              "        255, 255, 255, 255,   0, 255, 255, 251, 255, 255,   1, 255, 255,\n",
              "        255, 252],\n",
              "       [255, 255, 255, 255, 255, 255, 255, 255, 255, 255, 255, 255, 255,\n",
              "        255, 255, 255, 255,   2,   0,   1,   2,   0,   0,   0,   0,   0,\n",
              "          0, 255],\n",
              "       [255, 255, 255, 255, 255, 255, 255, 255, 255, 255, 255, 255, 255,\n",
              "        255, 255, 255, 254, 255, 253, 255, 255, 253, 255,   0, 255, 255,\n",
              "        255, 255],\n",
              "       [255, 255, 255, 255, 255, 255, 255, 255, 255, 255, 255, 255, 255,\n",
              "        255, 255, 255, 255, 252, 255, 253, 251, 255, 255,   1, 255, 255,\n",
              "        255, 255],\n",
              "       [255, 255, 255, 255, 255, 255, 255, 255, 255, 255, 255, 255, 255,\n",
              "        255, 255, 255, 252, 255, 255, 255, 255, 254, 254,   0, 255, 255,\n",
              "        255, 255],\n",
              "       [255, 255, 255, 255, 255, 255, 255, 255, 255, 255, 255, 255, 255,\n",
              "        255, 255, 255, 253, 255, 251, 253, 254, 253, 255, 255, 255, 255,\n",
              "        255, 255]], dtype=uint8)"
            ]
          },
          "execution_count": 34,
          "metadata": {},
          "output_type": "execute_result"
        }
      ],
      "source": [
        "img_pix = np.array(gray_img)\n",
        "img_pix"
      ]
    },
    {
      "cell_type": "code",
      "execution_count": 35,
      "metadata": {
        "id": "YxcwY4UoBGhT"
      },
      "outputs": [
        {
          "data": {
            "text/plain": [
              "array([[  1,   1,   1,   2,   1,   1,   0,   1,   1,   1,   1,   1,   1,\n",
              "          1,   1,   1,   1,   1,   1,   1,   1,   1,   1,   1,   0,   0,\n",
              "          0,   0],\n",
              "       [  2,   1,   1,   2,   1,   1,   0,   1,   1,   1,   1,   1,   1,\n",
              "          1,   1,   1,   2,   1,   1,   1,   1,   1,   1,   2,   0,   0,\n",
              "          0,   0],\n",
              "       [  2,   1,   1,   2,   1,   0,   0,   1,   1,   1,   0,   0,   0,\n",
              "          0,   1,   1,   1,   1,   1,   1,   1,   1,   1,   1,   0,   0,\n",
              "          0,   0],\n",
              "       [  2,   1,   1,   2,   1,   0,   0,   1,   1,   0,   0,   0,   0,\n",
              "          0,   0,   1,   1,   0,   0,   0,   0,   0,   0,   1,   0,   0,\n",
              "          0,   0],\n",
              "       [  2,   1,   1,   2,   1,   0,   0,   1,   0,   0,   0,   0,   0,\n",
              "          0,   0,   0,   0,   0,   0,   0,   0,   0,   0,   0,   0,   0,\n",
              "          0,   0],\n",
              "       [  2,   1,   1,   2,   1,   0,   0,   1,   0,   0,   0,   0,   0,\n",
              "          0,   0,   0,   1,   0,   0,   0,   0,   0,   0,   1,   0,   0,\n",
              "          0,   0],\n",
              "       [  2,   1,   1,   2,   1,   0,   0,   0,   0,   0,   0,   0,   0,\n",
              "          0,   0,   0,   0,   0,   0,   0,   0,   0,   0,   0,   0,   0,\n",
              "          0,   0],\n",
              "       [  2,   1,   1,   2,   1,   0,   0,   0,   0,   0,   0,   0,   0,\n",
              "          0,   0,   0,   0,   0,   0,   0,   0,   0,   0,   0,   0,   0,\n",
              "          0,   0],\n",
              "       [  0,   1,   2,   2,   1,   0,   0,   0,   0,   0,   0,   0,   0,\n",
              "          0,   0,   0,   0,   4,   0,   0,   2,   1,   0,   1,   0,   0,\n",
              "          0,   0],\n",
              "       [  0,   1,   2,   2,   1,   0,   0,   0,   0,   0,   0,   0,   0,\n",
              "          0,   0,   0,   2,   0,   0,   3,   0,   0,   0,   2,   0,   0,\n",
              "          0,   0],\n",
              "       [  0,   1,   1,   1,   1,   0,   0,   0,   0,   0,   0,   0,   0,\n",
              "          0,   0,   0,   0,   3,   0,   4,   0,   0,   6,   0,   0,   0,\n",
              "          0,   0],\n",
              "       [  0,   1,   1,   1,   1,   0,   0,   0,   0,   0,   0,   0,   0,\n",
              "          0,   0,   0,   6,   1,   0,   0,   1,   4,   0,   2,   0,   0,\n",
              "          0,   0],\n",
              "       [  0,   1,   1,   1,   0,   0,   0,   0,   0,   0,   0,   0,   0,\n",
              "          0,   0,   0,   0,   0,   1,   1,   0,   0,   0,   3,   0,   0,\n",
              "          0,   0],\n",
              "       [  1,   1,   1,   1,   0,   0,   0,   0,   0,   0,   0,   0,   0,\n",
              "          0,   0,   0,   0,   0,   1,   3,   2,   0,   1,   0,   0,   0,\n",
              "          0,   0],\n",
              "       [  1,   1,   1,   1,   0,   0,   0,   0,   0,   0,   0,   0,   0,\n",
              "          0,   0,   0,   1,   3,   0,   0,   1,   0,   0,   1,   0,   0,\n",
              "          0,   0],\n",
              "       [  1,   1,   1,   0,   0,   0,   0,   0,   0,   0,   0,   0,   0,\n",
              "          0,   0,   0,   0,   0,   0,   2, 252,   1,   0,   0,   0,   0,\n",
              "          0,   0],\n",
              "       [  0,   0,   0,   0,   0,   0,   0,   0,   0,   0,   0,   0,   0,\n",
              "          0,   0,   0,   2,   0,   1,   0, 255,   0,   2, 255,   1,   0,\n",
              "          0,   2],\n",
              "       [  0,   0,   0,   0,   0,   0,   0,   0,   0,   0,   0,   0,   0,\n",
              "          0,   0,   0,   0,   0,   0, 255, 255,   4,   0, 255,   0,   2,\n",
              "          5,   0],\n",
              "       [  0,   0,   0,   0,   0,   0,   0,   0,   0,   0,   0,   0,   0,\n",
              "          0,   0,   0,   0,   1,   0, 255,   0,   0,   1, 252,   3,   0,\n",
              "          2,   2],\n",
              "       [  0,   0,   0,   0,   0,   0,   0,   0,   0,   0,   0,   0,   0,\n",
              "          0,   0,   0,   0,   0, 254, 255,   2,   0,   3, 255,   1,   2,\n",
              "          0,   1],\n",
              "       [  0,   0,   0,   0,   0,   0,   0,   0,   0,   0,   0,   0,   0,\n",
              "          0,   0,   0,   1,   1, 255,   0,   1,   3,   0, 250,   0,   5,\n",
              "          0,   0],\n",
              "       [  0,   0,   0,   0,   0,   0,   0,   0,   0,   0,   0,   0,   0,\n",
              "          0,   0,   0,   0, 253, 255,   0,   0,   0,   0, 255,   3,   0,\n",
              "          3,   0],\n",
              "       [  0,   0,   0,   0,   0,   0,   0,   0,   0,   0,   0,   0,   0,\n",
              "          0,   0,   0,   0, 255,   0,   0,   4,   0,   0, 254,   0,   0,\n",
              "          0,   3],\n",
              "       [  0,   0,   0,   0,   0,   0,   0,   0,   0,   0,   0,   0,   0,\n",
              "          0,   0,   0,   0, 253, 255, 254, 253, 255, 255, 255, 255, 255,\n",
              "        255,   0],\n",
              "       [  0,   0,   0,   0,   0,   0,   0,   0,   0,   0,   0,   0,   0,\n",
              "          0,   0,   0,   1,   0,   2,   0,   0,   2,   0, 255,   0,   0,\n",
              "          0,   0],\n",
              "       [  0,   0,   0,   0,   0,   0,   0,   0,   0,   0,   0,   0,   0,\n",
              "          0,   0,   0,   0,   3,   0,   2,   4,   0,   0, 254,   0,   0,\n",
              "          0,   0],\n",
              "       [  0,   0,   0,   0,   0,   0,   0,   0,   0,   0,   0,   0,   0,\n",
              "          0,   0,   0,   3,   0,   0,   0,   0,   1,   1, 255,   0,   0,\n",
              "          0,   0],\n",
              "       [  0,   0,   0,   0,   0,   0,   0,   0,   0,   0,   0,   0,   0,\n",
              "          0,   0,   0,   2,   0,   4,   2,   1,   2,   0,   0,   0,   0,\n",
              "          0,   0]], dtype=uint8)"
            ]
          },
          "execution_count": 35,
          "metadata": {},
          "output_type": "execute_result"
        }
      ],
      "source": [
        "# 255 > 0\n",
        "# 0 > 255\n",
        "img_pix = 255-img_pix\n",
        "img_pix"
      ]
    },
    {
      "cell_type": "code",
      "execution_count": 36,
      "metadata": {
        "id": "Q9IkSI5hBGe5"
      },
      "outputs": [],
      "source": [
        "img_pix = img_pix.astype('float32') / 255\n",
        "img_pix = img_pix.reshape((1, 28,28,1))"
      ]
    },
    {
      "cell_type": "code",
      "execution_count": 37,
      "metadata": {
        "colab": {
          "base_uri": "https://localhost:8080/"
        },
        "id": "f3q8kob8BGcY",
        "outputId": "8c625bea-41c9-4c73-c86c-c3ce8f5691f0"
      },
      "outputs": [
        {
          "name": "stderr",
          "output_type": "stream",
          "text": [
            "2023-02-14 02:44:21.427647: I tensorflow/core/grappler/optimizers/custom_graph_optimizer_registry.cc:112] Plugin optimizer for device_type GPU is enabled.\n"
          ]
        },
        {
          "data": {
            "text/plain": [
              "array([[2.10456523e-08, 1.32501833e-02, 4.84701008e-01, 8.00688504e-05,\n",
              "        1.44215584e-01, 9.91062727e-04, 1.27202202e-06, 3.42285722e-01,\n",
              "        5.29444515e-06, 1.44697325e-02]], dtype=float32)"
            ]
          },
          "execution_count": 37,
          "metadata": {},
          "output_type": "execute_result"
        }
      ],
      "source": [
        "model2.predict(img_pix)"
      ]
    },
    {
      "attachments": {},
      "cell_type": "markdown",
      "metadata": {},
      "source": [
        "# [실습] CNN 개고양이"
      ]
    },
    {
      "attachments": {},
      "cell_type": "markdown",
      "metadata": {},
      "source": [
        "## 데이터 로드"
      ]
    },
    {
      "cell_type": "code",
      "execution_count": 38,
      "metadata": {},
      "outputs": [],
      "source": [
        "# 데이터 경로 지정\n",
        "train_dir = './data/dogs_vs_cats_small/train'\n",
        "val_dir = './data/dogs_vs_cats_small/validation'\n",
        "test_dir ='./data/dogs_vs_cats_small/test'"
      ]
    },
    {
      "cell_type": "code",
      "execution_count": 39,
      "metadata": {},
      "outputs": [
        {
          "name": "stdout",
          "output_type": "stream",
          "text": [
            "2\n",
            "2\n",
            "2\n"
          ]
        }
      ],
      "source": [
        "import os\n",
        "print(len(os.listdir(train_dir)))\n",
        "print(len(os.listdir(val_dir)))\n",
        "print(len(os.listdir(test_dir)))"
      ]
    },
    {
      "cell_type": "markdown",
      "metadata": {},
      "source": [
        "#### 하나의 변수에 이미지파일 전부다 합치기\n",
        "- 픽셀값 0~255 > 0~1\n",
        "- 이미지 크기 동일하게 만들어주기 (150,150)"
      ]
    },
    {
      "cell_type": "code",
      "execution_count": 40,
      "metadata": {},
      "outputs": [],
      "source": [
        "# 라벨링\n",
        "from tensorflow.keras.preprocessing.image import ImageDataGenerator\n",
        "# 픽셀값 변환\n",
        "train_gen = ImageDataGenerator(rescale = 1./255)\n",
        "test_gen = ImageDataGenerator(rescale = 1./255)\n",
        "val_gen = ImageDataGenerator(rescale = 1./255)"
      ]
    },
    {
      "cell_type": "code",
      "execution_count": 41,
      "metadata": {},
      "outputs": [
        {
          "name": "stdout",
          "output_type": "stream",
          "text": [
            "Found 2000 images belonging to 2 classes.\n"
          ]
        }
      ],
      "source": [
        "# flow_from_directory()\n",
        "train_generator = train_gen.flow_from_directory(\n",
        "    train_dir, # train 이미지 경로    \n",
        "    target_size = (150,150), # 변환할 이미지의 크기\n",
        "    batch_size = 100, # 한번에 변환할 이미지 갯수\n",
        "    class_mode = 'binary' # 라벨링 진행, categorical : 다중분류\n",
        "    # 폴더별로 라벨링을 진행 cats(0) , dogs(1)\n",
        ")"
      ]
    },
    {
      "cell_type": "code",
      "execution_count": 42,
      "metadata": {},
      "outputs": [
        {
          "name": "stdout",
          "output_type": "stream",
          "text": [
            "Found 1000 images belonging to 2 classes.\n"
          ]
        }
      ],
      "source": [
        "val_generator = val_gen.flow_from_directory(\n",
        "    val_dir, # train 이미지 경로    \n",
        "    target_size = (150,150), # 변환할 이미지의 크기\n",
        "    batch_size = 100, # 한번에 변환할 이미지 갯수\n",
        "    class_mode = 'binary' # 라벨링 진행, categorical : 다중분류\n",
        "    # 폴더별로 라벨링을 진행 cats(0) , dogs(1)\n",
        ")"
      ]
    },
    {
      "cell_type": "code",
      "execution_count": 43,
      "metadata": {},
      "outputs": [
        {
          "name": "stdout",
          "output_type": "stream",
          "text": [
            "Found 22 images belonging to 2 classes.\n"
          ]
        }
      ],
      "source": [
        "test_generator = test_gen.flow_from_directory(\n",
        "    test_dir, # train 이미지 경로    \n",
        "    target_size = (150,150), # 변환할 이미지의 크기\n",
        "    batch_size = 100, # 한번에 변환할 이미지 갯수\n",
        "    class_mode = 'binary' # 라벨링 진행, categorical : 다중분류\n",
        "    # 폴더별로 라벨링을 진행 cats(0) , dogs(1)\n",
        ")"
      ]
    },
    {
      "cell_type": "code",
      "execution_count": 44,
      "metadata": {},
      "outputs": [
        {
          "name": "stdout",
          "output_type": "stream",
          "text": [
            "{'cats': 0, 'dogs': 1}\n"
          ]
        }
      ],
      "source": [
        "# 라벨링 결과 확인\n",
        "print(train_generator.class_indices)"
      ]
    },
    {
      "attachments": {},
      "cell_type": "markdown",
      "metadata": {},
      "source": [
        "## 모델 정의"
      ]
    },
    {
      "cell_type": "code",
      "execution_count": 45,
      "metadata": {},
      "outputs": [],
      "source": [
        "# CNN 모델 설계\n",
        "from tensorflow.keras.models import Sequential\n",
        "from tensorflow.keras.layers import Dense, Conv2D, MaxPool2D, Flatten\n",
        "\n",
        "# 딥러닝 모델 생성\n",
        "model1 = Sequential()\n",
        "\n",
        "# 입력층, 특징추출부\n",
        "model1.add(Conv2D(\n",
        "    filters = 32, # 특징의 갯수\n",
        "    kernel_size = (3,3), # 특징의 크기\n",
        "    input_shape = (150,150,3), # 입력 데이터의 모양\n",
        "    padding = 'same', # 입력이미지와 출력이미지의 크기를 동일하게\n",
        "    activation = 'relu'\n",
        "))\n",
        "\n",
        "model1.add(MaxPool2D(\n",
        "    pool_size = (2,2)\n",
        "))\n",
        "\n",
        "model1.add(Conv2D(\n",
        "    filters = 64, # 특징의 갯수\n",
        "    kernel_size = (3,3), # 특징의 크기\n",
        "    input_shape = (150,150,3), # 입력 데이터의 모양\n",
        "    padding = 'same', # 입력이미지와 출력이미지의 크기를 동일하게\n",
        "    activation = 'relu'\n",
        "))\n",
        "\n",
        "model1.add(MaxPool2D(\n",
        "    pool_size = (2,2)\n",
        "))\n",
        "################특징 추출부 끝###############\n",
        "model1.add(Flatten())\n",
        "################분류부 시작#################\n",
        "# 위에서 특징을 추출했기때문에 층을 깊게 쌓지 않아도됨\n",
        "model1.add(Dense(units = 256, activation = 'relu'))\n",
        "\n",
        "# 출력층\n",
        "model1.add(Dense(units = 1, activation = 'sigmoid'))"
      ]
    },
    {
      "cell_type": "code",
      "execution_count": 46,
      "metadata": {},
      "outputs": [],
      "source": [
        "model1.compile(\n",
        "    loss = 'binary_crossentropy',\n",
        "    optimizer = 'adam',\n",
        "    metrics = ['accuracy']\n",
        ")"
      ]
    },
    {
      "cell_type": "code",
      "execution_count": 47,
      "metadata": {},
      "outputs": [
        {
          "name": "stderr",
          "output_type": "stream",
          "text": [
            "/opt/homebrew/Caskroom/miniforge/base/envs/dl/lib/python3.8/site-packages/tensorflow/python/keras/engine/training.py:1940: UserWarning: `Model.fit_generator` is deprecated and will be removed in a future version. Please use `Model.fit`, which supports generators.\n",
            "  warnings.warn('`Model.fit_generator` is deprecated and '\n"
          ]
        },
        {
          "name": "stdout",
          "output_type": "stream",
          "text": [
            "Epoch 1/20\n"
          ]
        },
        {
          "name": "stderr",
          "output_type": "stream",
          "text": [
            "2023-02-14 02:52:52.028570: I tensorflow/core/grappler/optimizers/custom_graph_optimizer_registry.cc:112] Plugin optimizer for device_type GPU is enabled.\n"
          ]
        },
        {
          "name": "stdout",
          "output_type": "stream",
          "text": [
            "20/20 [==============================] - ETA: 0s - loss: 1.3277 - accuracy: 0.5430"
          ]
        },
        {
          "name": "stderr",
          "output_type": "stream",
          "text": [
            "2023-02-14 02:52:56.005214: I tensorflow/core/grappler/optimizers/custom_graph_optimizer_registry.cc:112] Plugin optimizer for device_type GPU is enabled.\n"
          ]
        },
        {
          "name": "stdout",
          "output_type": "stream",
          "text": [
            "20/20 [==============================] - 6s 237ms/step - loss: 1.3277 - accuracy: 0.5430 - val_loss: 0.6914 - val_accuracy: 0.5340\n",
            "Epoch 2/20\n",
            "20/20 [==============================] - 4s 200ms/step - loss: 0.6776 - accuracy: 0.5880 - val_loss: 0.6713 - val_accuracy: 0.6140\n",
            "Epoch 3/20\n",
            "20/20 [==============================] - 4s 192ms/step - loss: 0.6280 - accuracy: 0.6665 - val_loss: 0.6362 - val_accuracy: 0.6460\n",
            "Epoch 4/20\n",
            "20/20 [==============================] - 4s 190ms/step - loss: 0.5304 - accuracy: 0.7440 - val_loss: 0.6193 - val_accuracy: 0.6610\n",
            "Epoch 5/20\n",
            "20/20 [==============================] - 4s 192ms/step - loss: 0.4356 - accuracy: 0.8050 - val_loss: 0.6496 - val_accuracy: 0.6400\n",
            "Epoch 6/20\n",
            "20/20 [==============================] - 4s 190ms/step - loss: 0.3436 - accuracy: 0.8570 - val_loss: 0.6527 - val_accuracy: 0.6820\n",
            "Epoch 7/20\n",
            "20/20 [==============================] - 4s 191ms/step - loss: 0.2388 - accuracy: 0.9110 - val_loss: 0.7975 - val_accuracy: 0.6600\n",
            "Epoch 8/20\n",
            "20/20 [==============================] - 4s 191ms/step - loss: 0.1752 - accuracy: 0.9380 - val_loss: 0.8373 - val_accuracy: 0.6800\n",
            "Epoch 9/20\n",
            "20/20 [==============================] - 4s 192ms/step - loss: 0.1021 - accuracy: 0.9720 - val_loss: 0.8895 - val_accuracy: 0.7080\n",
            "Epoch 10/20\n",
            "20/20 [==============================] - 4s 193ms/step - loss: 0.0516 - accuracy: 0.9910 - val_loss: 1.0861 - val_accuracy: 0.7130\n",
            "Epoch 11/20\n",
            "20/20 [==============================] - 4s 193ms/step - loss: 0.0349 - accuracy: 0.9955 - val_loss: 1.1690 - val_accuracy: 0.6930\n",
            "Epoch 12/20\n",
            "20/20 [==============================] - 4s 193ms/step - loss: 0.0224 - accuracy: 0.9975 - val_loss: 1.2710 - val_accuracy: 0.7090\n",
            "Epoch 13/20\n",
            "20/20 [==============================] - 4s 192ms/step - loss: 0.0117 - accuracy: 0.9995 - val_loss: 1.2639 - val_accuracy: 0.7110\n",
            "Epoch 14/20\n",
            "20/20 [==============================] - 4s 193ms/step - loss: 0.0068 - accuracy: 0.9995 - val_loss: 1.3826 - val_accuracy: 0.7070\n",
            "Epoch 15/20\n",
            "20/20 [==============================] - 4s 192ms/step - loss: 0.0056 - accuracy: 1.0000 - val_loss: 1.3907 - val_accuracy: 0.6990\n",
            "Epoch 16/20\n",
            "20/20 [==============================] - 4s 194ms/step - loss: 0.0036 - accuracy: 1.0000 - val_loss: 1.4543 - val_accuracy: 0.7010\n",
            "Epoch 17/20\n",
            "20/20 [==============================] - 4s 195ms/step - loss: 0.0020 - accuracy: 1.0000 - val_loss: 1.4974 - val_accuracy: 0.7060\n",
            "Epoch 18/20\n",
            "20/20 [==============================] - 4s 194ms/step - loss: 0.0014 - accuracy: 1.0000 - val_loss: 1.5320 - val_accuracy: 0.7050\n",
            "Epoch 19/20\n",
            "20/20 [==============================] - 4s 192ms/step - loss: 0.0011 - accuracy: 1.0000 - val_loss: 1.5742 - val_accuracy: 0.7040\n",
            "Epoch 20/20\n",
            "20/20 [==============================] - 4s 192ms/step - loss: 9.5805e-04 - accuracy: 1.0000 - val_loss: 1.5999 - val_accuracy: 0.7010\n"
          ]
        },
        {
          "data": {
            "text/plain": [
              "<tensorflow.python.keras.callbacks.History at 0x17ac38460>"
            ]
          },
          "execution_count": 47,
          "metadata": {},
          "output_type": "execute_result"
        }
      ],
      "source": [
        "model1.fit_generator(\n",
        "    generator = train_generator,\n",
        "    epochs = 20,\n",
        "    validation_data = val_generator\n",
        ")"
      ]
    },
    {
      "attachments": {},
      "cell_type": "markdown",
      "metadata": {},
      "source": [
        "### 과대적합이 관찰에 따른 해법\n",
        "- 학습데이터 증가 2000 -> 3000\n",
        "- 딥러닝 모델 재설계 -> dropout()\n",
        "- 학습데이터 augmentation(확장) : 기존의 이미지에 변환을 줘서 이미지를 사용"
      ]
    },
    {
      "cell_type": "markdown",
      "metadata": {},
      "source": [
        "#### 이미지 증식"
      ]
    },
    {
      "cell_type": "code",
      "execution_count": 48,
      "metadata": {},
      "outputs": [
        {
          "name": "stdout",
          "output_type": "stream",
          "text": [
            "Found 2000 images belonging to 2 classes.\n"
          ]
        }
      ],
      "source": [
        "# 이미지 확장(증식)\n",
        "train_aug = ImageDataGenerator(\n",
        "    rescale = 1./255,\n",
        "    rotation_range = 20,\n",
        "    width_shift_range = 0.1,\n",
        "    height_shift_range = 0.1,\n",
        "    shear_range = 0.1,\n",
        "    zoom_range = 0.1,\n",
        "    horizontal_flip = True,\n",
        "    fill_mode = 'nearest' # 비어있는 부분을 가장 가까이에 있는 값으로 채움\n",
        ")\n",
        "\n",
        "train_aug_generator = train_aug.flow_from_directory(\n",
        "    train_dir,\n",
        "    target_size = (150,150),\n",
        "    batch_size = 100,\n",
        "    class_mode = 'binary'\n",
        ")"
      ]
    },
    {
      "attachments": {},
      "cell_type": "markdown",
      "metadata": {},
      "source": [
        "#### 드롭아웃"
      ]
    },
    {
      "cell_type": "code",
      "execution_count": 49,
      "metadata": {},
      "outputs": [],
      "source": [
        "# CNN 모델 설계\n",
        "from tensorflow.keras.models import Sequential\n",
        "from tensorflow.keras.layers import Dense, Conv2D, MaxPool2D, Flatten, Dropout\n",
        "\n",
        "# 딥러닝 모델 생성\n",
        "model1 = Sequential()\n",
        "\n",
        "# 입력층, 특징추출부\n",
        "model1.add(Conv2D(\n",
        "    filters = 32, # 특징의 갯수\n",
        "    kernel_size = (3,3), # 특징의 크기\n",
        "    input_shape = (150,150,3), # 입력 데이터의 모양\n",
        "    padding = 'same', # 입력이미지와 출력이미지의 크기를 동일하게\n",
        "    activation = 'relu'\n",
        "))\n",
        "\n",
        "model1.add(MaxPool2D(\n",
        "    pool_size = (2,2)\n",
        "))\n",
        "\n",
        "model1.add(Conv2D(\n",
        "    filters = 64, # 특징의 갯수\n",
        "    kernel_size = (3,3), # 특징의 크기\n",
        "    input_shape = (150,150,3), # 입력 데이터의 모양\n",
        "    padding = 'same', # 입력이미지와 출력이미지의 크기를 동일하게\n",
        "    activation = 'relu'\n",
        "))\n",
        "\n",
        "model1.add(MaxPool2D(\n",
        "    pool_size = (2,2)\n",
        "))\n",
        "\n",
        "################특징 추출부 끝###############\n",
        "model1.add(Flatten())\n",
        "################분류부 시작#################\n",
        "# 위에서 특징을 추출했기때문에 층을 깊게 쌓지 않아도됨\n",
        "model1.add(Dense(units = 256, activation = 'relu'))\n",
        "\n",
        "model1.add(Dropout(0.4))\n",
        "\n",
        "# 출력층\n",
        "model1.add(Dense(units = 1, activation = 'sigmoid'))"
      ]
    },
    {
      "cell_type": "code",
      "execution_count": 50,
      "metadata": {},
      "outputs": [],
      "source": [
        "model1.compile(\n",
        "    loss = 'binary_crossentropy',\n",
        "    optimizer = 'adam',\n",
        "    metrics = ['accuracy']\n",
        ")"
      ]
    },
    {
      "cell_type": "code",
      "execution_count": 51,
      "metadata": {},
      "outputs": [
        {
          "name": "stdout",
          "output_type": "stream",
          "text": [
            "Epoch 1/20\n"
          ]
        },
        {
          "name": "stderr",
          "output_type": "stream",
          "text": [
            "2023-02-14 02:56:52.830142: I tensorflow/core/grappler/optimizers/custom_graph_optimizer_registry.cc:112] Plugin optimizer for device_type GPU is enabled.\n"
          ]
        },
        {
          "name": "stdout",
          "output_type": "stream",
          "text": [
            "20/20 [==============================] - ETA: 0s - loss: 1.1869 - accuracy: 0.5035"
          ]
        },
        {
          "name": "stderr",
          "output_type": "stream",
          "text": [
            "2023-02-14 02:57:00.278884: I tensorflow/core/grappler/optimizers/custom_graph_optimizer_registry.cc:112] Plugin optimizer for device_type GPU is enabled.\n"
          ]
        },
        {
          "name": "stdout",
          "output_type": "stream",
          "text": [
            "20/20 [==============================] - 9s 439ms/step - loss: 1.1869 - accuracy: 0.5035 - val_loss: 0.6850 - val_accuracy: 0.5100\n",
            "Epoch 2/20\n",
            "20/20 [==============================] - 9s 426ms/step - loss: 0.6711 - accuracy: 0.5465 - val_loss: 0.6912 - val_accuracy: 0.5180\n",
            "Epoch 3/20\n",
            "20/20 [==============================] - 8s 402ms/step - loss: 0.6444 - accuracy: 0.6135 - val_loss: 0.6325 - val_accuracy: 0.6300\n",
            "Epoch 4/20\n",
            "20/20 [==============================] - 8s 403ms/step - loss: 0.6154 - accuracy: 0.6500 - val_loss: 0.6196 - val_accuracy: 0.6520\n",
            "Epoch 5/20\n",
            "20/20 [==============================] - 8s 396ms/step - loss: 0.5904 - accuracy: 0.6890 - val_loss: 0.5821 - val_accuracy: 0.6830\n",
            "Epoch 6/20\n",
            "20/20 [==============================] - 8s 392ms/step - loss: 0.5700 - accuracy: 0.6960 - val_loss: 0.5644 - val_accuracy: 0.7080\n",
            "Epoch 7/20\n",
            "20/20 [==============================] - 8s 393ms/step - loss: 0.5704 - accuracy: 0.6990 - val_loss: 0.5822 - val_accuracy: 0.6870\n",
            "Epoch 8/20\n",
            "20/20 [==============================] - 8s 393ms/step - loss: 0.5450 - accuracy: 0.7180 - val_loss: 0.5989 - val_accuracy: 0.6850\n",
            "Epoch 9/20\n",
            "20/20 [==============================] - 8s 393ms/step - loss: 0.5578 - accuracy: 0.7195 - val_loss: 0.5455 - val_accuracy: 0.7130\n",
            "Epoch 10/20\n",
            "20/20 [==============================] - 8s 394ms/step - loss: 0.5540 - accuracy: 0.7270 - val_loss: 0.5257 - val_accuracy: 0.7320\n",
            "Epoch 11/20\n",
            "20/20 [==============================] - 8s 394ms/step - loss: 0.5176 - accuracy: 0.7335 - val_loss: 0.5152 - val_accuracy: 0.7450\n",
            "Epoch 12/20\n",
            "20/20 [==============================] - 8s 394ms/step - loss: 0.5105 - accuracy: 0.7540 - val_loss: 0.5142 - val_accuracy: 0.7360\n",
            "Epoch 13/20\n",
            "20/20 [==============================] - 8s 395ms/step - loss: 0.4965 - accuracy: 0.7660 - val_loss: 0.5016 - val_accuracy: 0.7350\n",
            "Epoch 14/20\n",
            "20/20 [==============================] - 8s 406ms/step - loss: 0.5046 - accuracy: 0.7560 - val_loss: 0.5207 - val_accuracy: 0.7260\n",
            "Epoch 15/20\n",
            "20/20 [==============================] - 8s 409ms/step - loss: 0.4833 - accuracy: 0.7620 - val_loss: 0.5165 - val_accuracy: 0.7390\n",
            "Epoch 16/20\n",
            "20/20 [==============================] - 8s 422ms/step - loss: 0.4818 - accuracy: 0.7640 - val_loss: 0.5047 - val_accuracy: 0.7470\n",
            "Epoch 17/20\n",
            "20/20 [==============================] - 9s 440ms/step - loss: 0.4705 - accuracy: 0.7720 - val_loss: 0.5170 - val_accuracy: 0.7440\n",
            "Epoch 18/20\n",
            "20/20 [==============================] - 8s 403ms/step - loss: 0.4607 - accuracy: 0.7855 - val_loss: 0.5296 - val_accuracy: 0.7370\n",
            "Epoch 19/20\n",
            "20/20 [==============================] - 8s 396ms/step - loss: 0.4922 - accuracy: 0.7460 - val_loss: 0.5014 - val_accuracy: 0.7570\n",
            "Epoch 20/20\n",
            "20/20 [==============================] - 8s 396ms/step - loss: 0.4589 - accuracy: 0.7770 - val_loss: 0.4828 - val_accuracy: 0.7640\n"
          ]
        },
        {
          "data": {
            "text/plain": [
              "<tensorflow.python.keras.callbacks.History at 0x2937726a0>"
            ]
          },
          "execution_count": 51,
          "metadata": {},
          "output_type": "execute_result"
        }
      ],
      "source": [
        "model1.fit_generator(\n",
        "    generator = train_aug_generator,\n",
        "    epochs = 20,\n",
        "    validation_data = val_generator\n",
        ")"
      ]
    },
    {
      "cell_type": "code",
      "execution_count": null,
      "metadata": {},
      "outputs": [],
      "source": []
    },
    {
      "cell_type": "code",
      "execution_count": null,
      "metadata": {},
      "outputs": [],
      "source": []
    },
    {
      "cell_type": "code",
      "execution_count": null,
      "metadata": {},
      "outputs": [],
      "source": []
    }
  ],
  "metadata": {
    "accelerator": "GPU",
    "colab": {
      "provenance": [],
      "toc_visible": true
    },
    "kernelspec": {
      "display_name": "dl",
      "language": "python",
      "name": "python3"
    },
    "language_info": {
      "codemirror_mode": {
        "name": "ipython",
        "version": 3
      },
      "file_extension": ".py",
      "mimetype": "text/x-python",
      "name": "python",
      "nbconvert_exporter": "python",
      "pygments_lexer": "ipython3",
      "version": "3.8.15"
    },
    "vscode": {
      "interpreter": {
        "hash": "46e27ede752268be201d36b7fbc2802b29a11b0bb095abacecc6c0428b93624a"
      }
    }
  },
  "nbformat": 4,
  "nbformat_minor": 0
}
