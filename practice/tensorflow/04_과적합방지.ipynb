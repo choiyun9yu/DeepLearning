{
  "cells": [
    {
      "cell_type": "markdown",
      "metadata": {},
      "source": [
        "# 과적합 방지"
      ]
    },
    {
      "attachments": {},
      "cell_type": "markdown",
      "metadata": {},
      "source": [
        "## 데이터 로드"
      ]
    },
    {
      "cell_type": "code",
      "execution_count": 4,
      "metadata": {},
      "outputs": [
        {
          "name": "stdout",
          "output_type": "stream",
          "text": [
            "1.0.2\n"
          ]
        }
      ],
      "source": [
        "import sklearn\n",
        "print(sklearn.__version__)"
      ]
    },
    {
      "cell_type": "code",
      "execution_count": 2,
      "metadata": {
        "colab": {
          "base_uri": "https://localhost:8080/",
          "height": 299
        },
        "id": "BxhwIWglNlTO",
        "outputId": "47d744ed-92b8-4421-f946-4db8228c1f9b"
      },
      "outputs": [
        {
          "data": {
            "text/html": [
              "<div>\n",
              "<style scoped>\n",
              "    .dataframe tbody tr th:only-of-type {\n",
              "        vertical-align: middle;\n",
              "    }\n",
              "\n",
              "    .dataframe tbody tr th {\n",
              "        vertical-align: top;\n",
              "    }\n",
              "\n",
              "    .dataframe thead th {\n",
              "        text-align: right;\n",
              "    }\n",
              "</style>\n",
              "<table border=\"1\" class=\"dataframe\">\n",
              "  <thead>\n",
              "    <tr style=\"text-align: right;\">\n",
              "      <th></th>\n",
              "      <th>0</th>\n",
              "      <th>1</th>\n",
              "      <th>2</th>\n",
              "      <th>3</th>\n",
              "      <th>4</th>\n",
              "      <th>5</th>\n",
              "      <th>6</th>\n",
              "      <th>7</th>\n",
              "      <th>8</th>\n",
              "      <th>9</th>\n",
              "      <th>...</th>\n",
              "      <th>51</th>\n",
              "      <th>52</th>\n",
              "      <th>53</th>\n",
              "      <th>54</th>\n",
              "      <th>55</th>\n",
              "      <th>56</th>\n",
              "      <th>57</th>\n",
              "      <th>58</th>\n",
              "      <th>59</th>\n",
              "      <th>60</th>\n",
              "    </tr>\n",
              "  </thead>\n",
              "  <tbody>\n",
              "    <tr>\n",
              "      <th>0</th>\n",
              "      <td>0.0200</td>\n",
              "      <td>0.0371</td>\n",
              "      <td>0.0428</td>\n",
              "      <td>0.0207</td>\n",
              "      <td>0.0954</td>\n",
              "      <td>0.0986</td>\n",
              "      <td>0.1539</td>\n",
              "      <td>0.1601</td>\n",
              "      <td>0.3109</td>\n",
              "      <td>0.2111</td>\n",
              "      <td>...</td>\n",
              "      <td>0.0027</td>\n",
              "      <td>0.0065</td>\n",
              "      <td>0.0159</td>\n",
              "      <td>0.0072</td>\n",
              "      <td>0.0167</td>\n",
              "      <td>0.0180</td>\n",
              "      <td>0.0084</td>\n",
              "      <td>0.0090</td>\n",
              "      <td>0.0032</td>\n",
              "      <td>R</td>\n",
              "    </tr>\n",
              "    <tr>\n",
              "      <th>1</th>\n",
              "      <td>0.0453</td>\n",
              "      <td>0.0523</td>\n",
              "      <td>0.0843</td>\n",
              "      <td>0.0689</td>\n",
              "      <td>0.1183</td>\n",
              "      <td>0.2583</td>\n",
              "      <td>0.2156</td>\n",
              "      <td>0.3481</td>\n",
              "      <td>0.3337</td>\n",
              "      <td>0.2872</td>\n",
              "      <td>...</td>\n",
              "      <td>0.0084</td>\n",
              "      <td>0.0089</td>\n",
              "      <td>0.0048</td>\n",
              "      <td>0.0094</td>\n",
              "      <td>0.0191</td>\n",
              "      <td>0.0140</td>\n",
              "      <td>0.0049</td>\n",
              "      <td>0.0052</td>\n",
              "      <td>0.0044</td>\n",
              "      <td>R</td>\n",
              "    </tr>\n",
              "    <tr>\n",
              "      <th>2</th>\n",
              "      <td>0.0262</td>\n",
              "      <td>0.0582</td>\n",
              "      <td>0.1099</td>\n",
              "      <td>0.1083</td>\n",
              "      <td>0.0974</td>\n",
              "      <td>0.2280</td>\n",
              "      <td>0.2431</td>\n",
              "      <td>0.3771</td>\n",
              "      <td>0.5598</td>\n",
              "      <td>0.6194</td>\n",
              "      <td>...</td>\n",
              "      <td>0.0232</td>\n",
              "      <td>0.0166</td>\n",
              "      <td>0.0095</td>\n",
              "      <td>0.0180</td>\n",
              "      <td>0.0244</td>\n",
              "      <td>0.0316</td>\n",
              "      <td>0.0164</td>\n",
              "      <td>0.0095</td>\n",
              "      <td>0.0078</td>\n",
              "      <td>R</td>\n",
              "    </tr>\n",
              "    <tr>\n",
              "      <th>3</th>\n",
              "      <td>0.0100</td>\n",
              "      <td>0.0171</td>\n",
              "      <td>0.0623</td>\n",
              "      <td>0.0205</td>\n",
              "      <td>0.0205</td>\n",
              "      <td>0.0368</td>\n",
              "      <td>0.1098</td>\n",
              "      <td>0.1276</td>\n",
              "      <td>0.0598</td>\n",
              "      <td>0.1264</td>\n",
              "      <td>...</td>\n",
              "      <td>0.0121</td>\n",
              "      <td>0.0036</td>\n",
              "      <td>0.0150</td>\n",
              "      <td>0.0085</td>\n",
              "      <td>0.0073</td>\n",
              "      <td>0.0050</td>\n",
              "      <td>0.0044</td>\n",
              "      <td>0.0040</td>\n",
              "      <td>0.0117</td>\n",
              "      <td>R</td>\n",
              "    </tr>\n",
              "    <tr>\n",
              "      <th>4</th>\n",
              "      <td>0.0762</td>\n",
              "      <td>0.0666</td>\n",
              "      <td>0.0481</td>\n",
              "      <td>0.0394</td>\n",
              "      <td>0.0590</td>\n",
              "      <td>0.0649</td>\n",
              "      <td>0.1209</td>\n",
              "      <td>0.2467</td>\n",
              "      <td>0.3564</td>\n",
              "      <td>0.4459</td>\n",
              "      <td>...</td>\n",
              "      <td>0.0031</td>\n",
              "      <td>0.0054</td>\n",
              "      <td>0.0105</td>\n",
              "      <td>0.0110</td>\n",
              "      <td>0.0015</td>\n",
              "      <td>0.0072</td>\n",
              "      <td>0.0048</td>\n",
              "      <td>0.0107</td>\n",
              "      <td>0.0094</td>\n",
              "      <td>R</td>\n",
              "    </tr>\n",
              "  </tbody>\n",
              "</table>\n",
              "<p>5 rows × 61 columns</p>\n",
              "</div>"
            ],
            "text/plain": [
              "       0       1       2       3       4       5       6       7       8   \\\n",
              "0  0.0200  0.0371  0.0428  0.0207  0.0954  0.0986  0.1539  0.1601  0.3109   \n",
              "1  0.0453  0.0523  0.0843  0.0689  0.1183  0.2583  0.2156  0.3481  0.3337   \n",
              "2  0.0262  0.0582  0.1099  0.1083  0.0974  0.2280  0.2431  0.3771  0.5598   \n",
              "3  0.0100  0.0171  0.0623  0.0205  0.0205  0.0368  0.1098  0.1276  0.0598   \n",
              "4  0.0762  0.0666  0.0481  0.0394  0.0590  0.0649  0.1209  0.2467  0.3564   \n",
              "\n",
              "       9   ...      51      52      53      54      55      56      57  \\\n",
              "0  0.2111  ...  0.0027  0.0065  0.0159  0.0072  0.0167  0.0180  0.0084   \n",
              "1  0.2872  ...  0.0084  0.0089  0.0048  0.0094  0.0191  0.0140  0.0049   \n",
              "2  0.6194  ...  0.0232  0.0166  0.0095  0.0180  0.0244  0.0316  0.0164   \n",
              "3  0.1264  ...  0.0121  0.0036  0.0150  0.0085  0.0073  0.0050  0.0044   \n",
              "4  0.4459  ...  0.0031  0.0054  0.0105  0.0110  0.0015  0.0072  0.0048   \n",
              "\n",
              "       58      59  60  \n",
              "0  0.0090  0.0032   R  \n",
              "1  0.0052  0.0044   R  \n",
              "2  0.0095  0.0078   R  \n",
              "3  0.0040  0.0117   R  \n",
              "4  0.0107  0.0094   R  \n",
              "\n",
              "[5 rows x 61 columns]"
            ]
          },
          "execution_count": 2,
          "metadata": {},
          "output_type": "execute_result"
        }
      ],
      "source": [
        "#데이터 로드\n",
        "import pandas as pd\n",
        "sonar = pd.read_csv('./data/sonar.csv', header = None)\n",
        "sonar.head()"
      ]
    },
    {
      "cell_type": "code",
      "execution_count": 3,
      "metadata": {
        "id": "ZSnbEzuhNxvF"
      },
      "outputs": [],
      "source": [
        "# 데이터 분리\n",
        "datasets = sonar.values\n",
        "X = datasets[:,:60]\n",
        "y = datasets[:,60]"
      ]
    },
    {
      "cell_type": "code",
      "execution_count": 5,
      "metadata": {
        "colab": {
          "base_uri": "https://localhost:8080/"
        },
        "id": "ClctwsOlONXI",
        "outputId": "9ab4aaff-4c35-479c-9be1-06dc4722eea2"
      },
      "outputs": [
        {
          "data": {
            "text/plain": [
              "array([1, 1, 1, 1, 1, 1, 1, 1, 1, 1, 1, 1, 1, 1, 1, 1, 1, 1, 1, 1, 1, 1,\n",
              "       1, 1, 1, 1, 1, 1, 1, 1, 1, 1, 1, 1, 1, 1, 1, 1, 1, 1, 1, 1, 1, 1,\n",
              "       1, 1, 1, 1, 1, 1, 1, 1, 1, 1, 1, 1, 1, 1, 1, 1, 1, 1, 1, 1, 1, 1,\n",
              "       1, 1, 1, 1, 1, 1, 1, 1, 1, 1, 1, 1, 1, 1, 1, 1, 1, 1, 1, 1, 1, 1,\n",
              "       1, 1, 1, 1, 1, 1, 1, 1, 1, 0, 0, 0, 0, 0, 0, 0, 0, 0, 0, 0, 0, 0,\n",
              "       0, 0, 0, 0, 0, 0, 0, 0, 0, 0, 0, 0, 0, 0, 0, 0, 0, 0, 0, 0, 0, 0,\n",
              "       0, 0, 0, 0, 0, 0, 0, 0, 0, 0, 0, 0, 0, 0, 0, 0, 0, 0, 0, 0, 0, 0,\n",
              "       0, 0, 0, 0, 0, 0, 0, 0, 0, 0, 0, 0, 0, 0, 0, 0, 0, 0, 0, 0, 0, 0,\n",
              "       0, 0, 0, 0, 0, 0, 0, 0, 0, 0, 0, 0, 0, 0, 0, 0, 0, 0, 0, 0, 0, 0,\n",
              "       0, 0, 0, 0, 0, 0, 0, 0, 0, 0])"
            ]
          },
          "execution_count": 5,
          "metadata": {},
          "output_type": "execute_result"
        }
      ],
      "source": [
        "# 라벨 인코딩 : 문자열로 된 데이터를 숫자로 변경\n",
        "from sklearn.preprocessing import LabelEncoder\n",
        "\n",
        "e = LabelEncoder()\n",
        "e.fit(y)\n",
        "y = e.transform(y)\n",
        "y"
      ]
    },
    {
      "cell_type": "code",
      "execution_count": 6,
      "metadata": {
        "colab": {
          "base_uri": "https://localhost:8080/"
        },
        "id": "mjEVENj7OrDL",
        "outputId": "c75ed8f4-0ea6-4030-89f3-13ee3d335f61"
      },
      "outputs": [
        {
          "data": {
            "text/plain": [
              "((145, 60), (63, 60), (145,), (63,))"
            ]
          },
          "execution_count": 6,
          "metadata": {},
          "output_type": "execute_result"
        }
      ],
      "source": [
        "# 훈련과 테스트셋을 분리, 데이터 섞어주기\n",
        "from sklearn.model_selection import train_test_split\n",
        "X_train, X_test, y_train, y_test = train_test_split(X, y, test_size=0.3, random_state = 2022)\n",
        "\n",
        "X_train.shape, X_test.shape, y_train.shape, y_test.shape"
      ]
    },
    {
      "cell_type": "code",
      "execution_count": 10,
      "metadata": {},
      "outputs": [],
      "source": [
        "# 넘파이 배열을 텐서타입으로 바꿔줘야한다 (object to array)\n",
        "import numpy as np\n",
        "X_train = X_train.astype(np.float32)\n",
        "y_train = y_train.astype(np.float32)\n",
        "X_test = X_test.astype(np.float32)\n",
        "y_test = y_test.astype(np.float32)"
      ]
    },
    {
      "cell_type": "markdown",
      "metadata": {},
      "source": [
        "## 모델 정의"
      ]
    },
    {
      "cell_type": "code",
      "execution_count": 7,
      "metadata": {
        "colab": {
          "base_uri": "https://localhost:8080/"
        },
        "id": "Pxib2tNzPSNU",
        "outputId": "c0ef94ac-0295-4812-87d8-a73eaef88bfa"
      },
      "outputs": [
        {
          "name": "stdout",
          "output_type": "stream",
          "text": [
            "Init Plugin\n",
            "Init Graph Optimizer\n",
            "Init Kernel\n",
            "Metal device set to: Apple M1 Pro\n",
            "\n",
            "systemMemory: 16.00 GB\n",
            "maxCacheSize: 5.33 GB\n",
            "\n"
          ]
        },
        {
          "name": "stderr",
          "output_type": "stream",
          "text": [
            "2023-02-14 01:55:04.593989: I tensorflow/core/common_runtime/pluggable_device/pluggable_device_factory.cc:305] Could not identify NUMA node of platform GPU ID 0, defaulting to 0. Your kernel may not have been built with NUMA support.\n",
            "2023-02-14 01:55:04.594084: I tensorflow/core/common_runtime/pluggable_device/pluggable_device_factory.cc:271] Created TensorFlow device (/job:localhost/replica:0/task:0/device:GPU:0 with 0 MB memory) -> physical PluggableDevice (device: 0, name: METAL, pci bus id: <undefined>)\n"
          ]
        },
        {
          "name": "stdout",
          "output_type": "stream",
          "text": [
            "Model: \"sequential\"\n",
            "_________________________________________________________________\n",
            "Layer (type)                 Output Shape              Param #   \n",
            "=================================================================\n",
            "dense (Dense)                (None, 64)                3904      \n",
            "_________________________________________________________________\n",
            "dense_1 (Dense)              (None, 120)               7800      \n",
            "_________________________________________________________________\n",
            "dense_2 (Dense)              (None, 60)                7260      \n",
            "_________________________________________________________________\n",
            "dense_3 (Dense)              (None, 30)                1830      \n",
            "_________________________________________________________________\n",
            "dense_4 (Dense)              (None, 1)                 31        \n",
            "=================================================================\n",
            "Total params: 20,825\n",
            "Trainable params: 20,825\n",
            "Non-trainable params: 0\n",
            "_________________________________________________________________\n"
          ]
        }
      ],
      "source": [
        "from tensorflow.keras.models import Sequential\n",
        "from tensorflow.keras.layers import Dense, Dropout\n",
        "\n",
        "# 모델 설계\n",
        "model1 = Sequential()\n",
        "\n",
        "# 입력층\n",
        "model1.add(Dense(units=64, input_dim=60, activation = 'relu'))\n",
        "# 은닉층\n",
        "model1.add(Dense(units=120, activation = 'relu'))\n",
        "model1.add(Dense(units=60, activation = 'relu'))\n",
        "model1.add(Dense(units=30, activation = 'relu'))\n",
        "# 출력층\n",
        "model1.add(Dense(units=1, activation = 'sigmoid'))\n",
        "\n",
        "#  모델 정보 요약\n",
        "model1.summary()"
      ]
    },
    {
      "cell_type": "code",
      "execution_count": 8,
      "metadata": {
        "id": "ZgSqm_mzQZeS"
      },
      "outputs": [],
      "source": [
        "# 실행방법 설정\n",
        "model1.compile(loss='binary_crossentropy', optimizer='adam', metrics = [\"accuracy\"])"
      ]
    },
    {
      "attachments": {},
      "cell_type": "markdown",
      "metadata": {},
      "source": [
        "## 모델 학습"
      ]
    },
    {
      "attachments": {},
      "cell_type": "markdown",
      "metadata": {
        "id": "OQ5v1hbkSm8Q"
      },
      "source": [
        "### 벨리데이션이 없는데 벨리데이션이 있는 것 처럼 하는 방법 \n",
        "- 과적합 되는지 학습하면서 확인하는 방법(벨리데이션 줘서 비교)  \n",
        "     h = model1.fit(X_train, y_train, epochs=100, batch_size=20, validation_split = 0.3)  # 과적합 방지보다는 과적합 되는지 확인하는 용도 "
      ]
    },
    {
      "cell_type": "code",
      "execution_count": 11,
      "metadata": {
        "colab": {
          "base_uri": "https://localhost:8080/"
        },
        "id": "lLYcqYaTSjOf",
        "outputId": "70c14b1e-06a2-4c06-863c-b074d1218525"
      },
      "outputs": [
        {
          "name": "stderr",
          "output_type": "stream",
          "text": [
            "2023-02-14 01:59:50.686360: I tensorflow/compiler/mlir/mlir_graph_optimization_pass.cc:176] None of the MLIR Optimization Passes are enabled (registered 2)\n",
            "2023-02-14 01:59:50.686555: W tensorflow/core/platform/profile_utils/cpu_utils.cc:128] Failed to get CPU frequency: 0 Hz\n",
            "2023-02-14 01:59:50.843946: I tensorflow/core/grappler/optimizers/custom_graph_optimizer_registry.cc:112] Plugin optimizer for device_type GPU is enabled.\n"
          ]
        },
        {
          "name": "stdout",
          "output_type": "stream",
          "text": [
            "Epoch 1/100\n",
            "8/8 [==============================] - ETA: 0s - loss: 0.6961 - accuracy: 0.4690"
          ]
        },
        {
          "name": "stderr",
          "output_type": "stream",
          "text": [
            "2023-02-14 01:59:53.487740: I tensorflow/core/grappler/optimizers/custom_graph_optimizer_registry.cc:112] Plugin optimizer for device_type GPU is enabled.\n"
          ]
        },
        {
          "name": "stdout",
          "output_type": "stream",
          "text": [
            "8/8 [==============================] - 3s 106ms/step - loss: 0.6961 - accuracy: 0.4690 - val_loss: 0.6857 - val_accuracy: 0.6032\n",
            "Epoch 2/100\n",
            "8/8 [==============================] - 0s 12ms/step - loss: 0.6777 - accuracy: 0.6828 - val_loss: 0.6770 - val_accuracy: 0.6032\n",
            "Epoch 3/100\n",
            "8/8 [==============================] - 0s 12ms/step - loss: 0.6690 - accuracy: 0.6414 - val_loss: 0.6433 - val_accuracy: 0.7619\n",
            "Epoch 4/100\n",
            "8/8 [==============================] - 0s 13ms/step - loss: 0.6500 - accuracy: 0.6897 - val_loss: 0.6470 - val_accuracy: 0.6984\n",
            "Epoch 5/100\n",
            "8/8 [==============================] - 0s 12ms/step - loss: 0.6281 - accuracy: 0.6966 - val_loss: 0.6055 - val_accuracy: 0.7778\n",
            "Epoch 6/100\n",
            "8/8 [==============================] - 0s 12ms/step - loss: 0.5952 - accuracy: 0.7931 - val_loss: 0.6040 - val_accuracy: 0.7143\n",
            "Epoch 7/100\n",
            "8/8 [==============================] - 0s 12ms/step - loss: 0.5652 - accuracy: 0.7241 - val_loss: 0.5316 - val_accuracy: 0.8254\n",
            "Epoch 8/100\n",
            "8/8 [==============================] - 0s 12ms/step - loss: 0.5169 - accuracy: 0.8138 - val_loss: 0.5337 - val_accuracy: 0.7302\n",
            "Epoch 9/100\n",
            "8/8 [==============================] - 0s 13ms/step - loss: 0.4737 - accuracy: 0.8069 - val_loss: 0.4520 - val_accuracy: 0.8095\n",
            "Epoch 10/100\n",
            "8/8 [==============================] - 0s 14ms/step - loss: 0.4668 - accuracy: 0.7448 - val_loss: 0.5008 - val_accuracy: 0.6984\n",
            "Epoch 11/100\n",
            "8/8 [==============================] - 0s 15ms/step - loss: 0.4147 - accuracy: 0.8207 - val_loss: 0.4651 - val_accuracy: 0.7937\n",
            "Epoch 12/100\n",
            "8/8 [==============================] - 0s 14ms/step - loss: 0.3974 - accuracy: 0.8414 - val_loss: 0.4188 - val_accuracy: 0.8254\n",
            "Epoch 13/100\n",
            "8/8 [==============================] - 0s 13ms/step - loss: 0.3798 - accuracy: 0.8414 - val_loss: 0.4337 - val_accuracy: 0.7937\n",
            "Epoch 14/100\n",
            "8/8 [==============================] - 0s 13ms/step - loss: 0.3377 - accuracy: 0.8690 - val_loss: 0.4871 - val_accuracy: 0.7143\n",
            "Epoch 15/100\n",
            "8/8 [==============================] - 0s 13ms/step - loss: 0.3200 - accuracy: 0.8690 - val_loss: 0.4249 - val_accuracy: 0.7937\n",
            "Epoch 16/100\n",
            "8/8 [==============================] - 0s 13ms/step - loss: 0.2950 - accuracy: 0.8897 - val_loss: 0.4180 - val_accuracy: 0.8095\n",
            "Epoch 17/100\n",
            "8/8 [==============================] - 0s 13ms/step - loss: 0.2855 - accuracy: 0.8759 - val_loss: 0.4191 - val_accuracy: 0.8095\n",
            "Epoch 18/100\n",
            "8/8 [==============================] - 0s 14ms/step - loss: 0.3169 - accuracy: 0.8621 - val_loss: 0.4628 - val_accuracy: 0.7778\n",
            "Epoch 19/100\n",
            "8/8 [==============================] - 0s 12ms/step - loss: 0.2597 - accuracy: 0.9034 - val_loss: 0.4000 - val_accuracy: 0.7460\n",
            "Epoch 20/100\n",
            "8/8 [==============================] - 0s 13ms/step - loss: 0.2787 - accuracy: 0.8621 - val_loss: 0.4807 - val_accuracy: 0.7778\n",
            "Epoch 21/100\n",
            "8/8 [==============================] - 0s 12ms/step - loss: 0.2271 - accuracy: 0.9310 - val_loss: 0.4252 - val_accuracy: 0.7778\n",
            "Epoch 22/100\n",
            "8/8 [==============================] - 0s 12ms/step - loss: 0.2130 - accuracy: 0.9448 - val_loss: 0.3920 - val_accuracy: 0.7778\n",
            "Epoch 23/100\n",
            "8/8 [==============================] - 0s 12ms/step - loss: 0.2041 - accuracy: 0.9379 - val_loss: 0.5806 - val_accuracy: 0.6984\n",
            "Epoch 24/100\n",
            "8/8 [==============================] - 0s 12ms/step - loss: 0.1833 - accuracy: 0.9379 - val_loss: 0.4605 - val_accuracy: 0.7937\n",
            "Epoch 25/100\n",
            "8/8 [==============================] - 0s 12ms/step - loss: 0.2024 - accuracy: 0.9103 - val_loss: 0.3852 - val_accuracy: 0.7937\n",
            "Epoch 26/100\n",
            "8/8 [==============================] - 0s 12ms/step - loss: 0.2028 - accuracy: 0.9172 - val_loss: 0.8198 - val_accuracy: 0.7143\n",
            "Epoch 27/100\n",
            "8/8 [==============================] - 0s 12ms/step - loss: 0.1964 - accuracy: 0.8966 - val_loss: 0.4169 - val_accuracy: 0.8254\n",
            "Epoch 28/100\n",
            "8/8 [==============================] - 0s 12ms/step - loss: 0.1779 - accuracy: 0.9310 - val_loss: 0.5510 - val_accuracy: 0.7302\n",
            "Epoch 29/100\n",
            "8/8 [==============================] - 0s 12ms/step - loss: 0.1632 - accuracy: 0.9517 - val_loss: 0.5249 - val_accuracy: 0.7460\n",
            "Epoch 30/100\n",
            "8/8 [==============================] - 0s 12ms/step - loss: 0.1525 - accuracy: 0.9517 - val_loss: 0.4486 - val_accuracy: 0.7778\n",
            "Epoch 31/100\n",
            "8/8 [==============================] - 0s 13ms/step - loss: 0.1332 - accuracy: 0.9448 - val_loss: 0.6222 - val_accuracy: 0.7460\n",
            "Epoch 32/100\n",
            "8/8 [==============================] - 0s 12ms/step - loss: 0.0994 - accuracy: 0.9793 - val_loss: 0.4602 - val_accuracy: 0.8254\n",
            "Epoch 33/100\n",
            "8/8 [==============================] - 0s 12ms/step - loss: 0.1032 - accuracy: 0.9724 - val_loss: 0.5619 - val_accuracy: 0.7619\n",
            "Epoch 34/100\n",
            "8/8 [==============================] - 0s 12ms/step - loss: 0.0922 - accuracy: 0.9862 - val_loss: 0.5581 - val_accuracy: 0.7619\n",
            "Epoch 35/100\n",
            "8/8 [==============================] - 0s 12ms/step - loss: 0.0834 - accuracy: 0.9862 - val_loss: 0.5379 - val_accuracy: 0.7937\n",
            "Epoch 36/100\n",
            "8/8 [==============================] - 0s 12ms/step - loss: 0.0692 - accuracy: 0.9931 - val_loss: 0.5728 - val_accuracy: 0.7778\n",
            "Epoch 37/100\n",
            "8/8 [==============================] - 0s 12ms/step - loss: 0.0577 - accuracy: 1.0000 - val_loss: 0.6143 - val_accuracy: 0.7619\n",
            "Epoch 38/100\n",
            "8/8 [==============================] - 0s 12ms/step - loss: 0.0547 - accuracy: 1.0000 - val_loss: 0.5700 - val_accuracy: 0.7778\n",
            "Epoch 39/100\n",
            "8/8 [==============================] - 0s 14ms/step - loss: 0.0452 - accuracy: 1.0000 - val_loss: 0.6549 - val_accuracy: 0.7778\n",
            "Epoch 40/100\n",
            "8/8 [==============================] - 0s 12ms/step - loss: 0.0464 - accuracy: 0.9862 - val_loss: 0.6215 - val_accuracy: 0.8413\n",
            "Epoch 41/100\n",
            "8/8 [==============================] - 0s 12ms/step - loss: 0.0477 - accuracy: 0.9931 - val_loss: 0.6686 - val_accuracy: 0.7460\n",
            "Epoch 42/100\n",
            "8/8 [==============================] - 0s 12ms/step - loss: 0.0349 - accuracy: 1.0000 - val_loss: 0.6202 - val_accuracy: 0.7778\n",
            "Epoch 43/100\n",
            "8/8 [==============================] - 0s 12ms/step - loss: 0.0276 - accuracy: 1.0000 - val_loss: 0.6558 - val_accuracy: 0.7619\n",
            "Epoch 44/100\n",
            "8/8 [==============================] - 0s 12ms/step - loss: 0.0234 - accuracy: 1.0000 - val_loss: 0.6777 - val_accuracy: 0.7937\n",
            "Epoch 45/100\n",
            "8/8 [==============================] - 0s 12ms/step - loss: 0.0209 - accuracy: 1.0000 - val_loss: 0.7205 - val_accuracy: 0.7619\n",
            "Epoch 46/100\n",
            "8/8 [==============================] - 0s 13ms/step - loss: 0.0177 - accuracy: 1.0000 - val_loss: 0.6693 - val_accuracy: 0.8095\n",
            "Epoch 47/100\n",
            "8/8 [==============================] - 0s 12ms/step - loss: 0.0186 - accuracy: 1.0000 - val_loss: 0.7531 - val_accuracy: 0.7619\n",
            "Epoch 48/100\n",
            "8/8 [==============================] - 0s 12ms/step - loss: 0.0153 - accuracy: 1.0000 - val_loss: 0.6772 - val_accuracy: 0.7937\n",
            "Epoch 49/100\n",
            "8/8 [==============================] - 0s 13ms/step - loss: 0.0159 - accuracy: 1.0000 - val_loss: 0.8153 - val_accuracy: 0.7460\n",
            "Epoch 50/100\n",
            "8/8 [==============================] - 0s 13ms/step - loss: 0.0160 - accuracy: 1.0000 - val_loss: 0.7423 - val_accuracy: 0.7937\n",
            "Epoch 51/100\n",
            "8/8 [==============================] - 0s 12ms/step - loss: 0.0103 - accuracy: 1.0000 - val_loss: 0.8261 - val_accuracy: 0.7778\n",
            "Epoch 52/100\n",
            "8/8 [==============================] - 0s 12ms/step - loss: 0.0136 - accuracy: 1.0000 - val_loss: 0.7157 - val_accuracy: 0.8095\n",
            "Epoch 53/100\n",
            "8/8 [==============================] - 0s 12ms/step - loss: 0.0107 - accuracy: 1.0000 - val_loss: 0.7487 - val_accuracy: 0.7778\n",
            "Epoch 54/100\n",
            "8/8 [==============================] - 0s 12ms/step - loss: 0.0077 - accuracy: 1.0000 - val_loss: 0.7517 - val_accuracy: 0.7937\n",
            "Epoch 55/100\n",
            "8/8 [==============================] - 0s 13ms/step - loss: 0.0072 - accuracy: 1.0000 - val_loss: 0.8240 - val_accuracy: 0.7619\n",
            "Epoch 56/100\n",
            "8/8 [==============================] - 0s 12ms/step - loss: 0.0072 - accuracy: 1.0000 - val_loss: 0.8161 - val_accuracy: 0.7937\n",
            "Epoch 57/100\n",
            "8/8 [==============================] - 0s 12ms/step - loss: 0.0057 - accuracy: 1.0000 - val_loss: 0.8300 - val_accuracy: 0.7778\n",
            "Epoch 58/100\n",
            "8/8 [==============================] - 0s 13ms/step - loss: 0.0056 - accuracy: 1.0000 - val_loss: 0.8021 - val_accuracy: 0.7937\n",
            "Epoch 59/100\n",
            "8/8 [==============================] - 0s 13ms/step - loss: 0.0056 - accuracy: 1.0000 - val_loss: 0.8435 - val_accuracy: 0.7778\n",
            "Epoch 60/100\n",
            "8/8 [==============================] - 0s 13ms/step - loss: 0.0052 - accuracy: 1.0000 - val_loss: 0.8500 - val_accuracy: 0.7937\n",
            "Epoch 61/100\n",
            "8/8 [==============================] - 0s 12ms/step - loss: 0.0044 - accuracy: 1.0000 - val_loss: 0.8676 - val_accuracy: 0.7937\n",
            "Epoch 62/100\n",
            "8/8 [==============================] - 0s 12ms/step - loss: 0.0042 - accuracy: 1.0000 - val_loss: 0.8839 - val_accuracy: 0.7937\n",
            "Epoch 63/100\n",
            "8/8 [==============================] - 0s 12ms/step - loss: 0.0040 - accuracy: 1.0000 - val_loss: 0.8832 - val_accuracy: 0.7937\n",
            "Epoch 64/100\n",
            "8/8 [==============================] - 0s 12ms/step - loss: 0.0033 - accuracy: 1.0000 - val_loss: 0.9104 - val_accuracy: 0.7619\n",
            "Epoch 65/100\n",
            "8/8 [==============================] - 0s 12ms/step - loss: 0.0031 - accuracy: 1.0000 - val_loss: 0.9084 - val_accuracy: 0.7778\n",
            "Epoch 66/100\n",
            "8/8 [==============================] - 0s 12ms/step - loss: 0.0028 - accuracy: 1.0000 - val_loss: 0.9146 - val_accuracy: 0.7937\n",
            "Epoch 67/100\n",
            "8/8 [==============================] - 0s 12ms/step - loss: 0.0026 - accuracy: 1.0000 - val_loss: 0.9380 - val_accuracy: 0.7778\n",
            "Epoch 68/100\n",
            "8/8 [==============================] - 0s 12ms/step - loss: 0.0024 - accuracy: 1.0000 - val_loss: 0.9370 - val_accuracy: 0.7937\n",
            "Epoch 69/100\n",
            "8/8 [==============================] - 0s 12ms/step - loss: 0.0022 - accuracy: 1.0000 - val_loss: 0.9418 - val_accuracy: 0.7937\n",
            "Epoch 70/100\n",
            "8/8 [==============================] - 0s 12ms/step - loss: 0.0021 - accuracy: 1.0000 - val_loss: 0.9529 - val_accuracy: 0.7937\n",
            "Epoch 71/100\n",
            "8/8 [==============================] - 0s 12ms/step - loss: 0.0021 - accuracy: 1.0000 - val_loss: 0.9632 - val_accuracy: 0.7937\n",
            "Epoch 72/100\n",
            "8/8 [==============================] - 0s 12ms/step - loss: 0.0019 - accuracy: 1.0000 - val_loss: 0.9569 - val_accuracy: 0.7937\n",
            "Epoch 73/100\n",
            "8/8 [==============================] - 0s 12ms/step - loss: 0.0017 - accuracy: 1.0000 - val_loss: 0.9751 - val_accuracy: 0.7937\n",
            "Epoch 74/100\n",
            "8/8 [==============================] - 0s 13ms/step - loss: 0.0016 - accuracy: 1.0000 - val_loss: 0.9824 - val_accuracy: 0.7937\n",
            "Epoch 75/100\n",
            "8/8 [==============================] - 0s 12ms/step - loss: 0.0015 - accuracy: 1.0000 - val_loss: 0.9987 - val_accuracy: 0.7937\n",
            "Epoch 76/100\n",
            "8/8 [==============================] - 0s 12ms/step - loss: 0.0014 - accuracy: 1.0000 - val_loss: 0.9972 - val_accuracy: 0.7937\n",
            "Epoch 77/100\n",
            "8/8 [==============================] - 0s 12ms/step - loss: 0.0013 - accuracy: 1.0000 - val_loss: 1.0112 - val_accuracy: 0.7937\n",
            "Epoch 78/100\n",
            "8/8 [==============================] - 0s 13ms/step - loss: 0.0014 - accuracy: 1.0000 - val_loss: 1.0241 - val_accuracy: 0.7778\n",
            "Epoch 79/100\n",
            "8/8 [==============================] - 0s 12ms/step - loss: 0.0012 - accuracy: 1.0000 - val_loss: 1.0221 - val_accuracy: 0.7937\n",
            "Epoch 80/100\n",
            "8/8 [==============================] - 0s 12ms/step - loss: 0.0011 - accuracy: 1.0000 - val_loss: 1.0332 - val_accuracy: 0.7937\n",
            "Epoch 81/100\n",
            "8/8 [==============================] - 0s 12ms/step - loss: 0.0011 - accuracy: 1.0000 - val_loss: 1.0321 - val_accuracy: 0.7937\n",
            "Epoch 82/100\n",
            "8/8 [==============================] - 0s 12ms/step - loss: 0.0010 - accuracy: 1.0000 - val_loss: 1.0469 - val_accuracy: 0.7937\n",
            "Epoch 83/100\n",
            "8/8 [==============================] - 0s 12ms/step - loss: 0.0010 - accuracy: 1.0000 - val_loss: 1.0563 - val_accuracy: 0.7937\n",
            "Epoch 84/100\n",
            "8/8 [==============================] - 0s 12ms/step - loss: 9.3679e-04 - accuracy: 1.0000 - val_loss: 1.0523 - val_accuracy: 0.7937\n",
            "Epoch 85/100\n",
            "8/8 [==============================] - 0s 12ms/step - loss: 9.1227e-04 - accuracy: 1.0000 - val_loss: 1.0721 - val_accuracy: 0.7937\n",
            "Epoch 86/100\n",
            "8/8 [==============================] - 0s 12ms/step - loss: 8.5519e-04 - accuracy: 1.0000 - val_loss: 1.0809 - val_accuracy: 0.7937\n",
            "Epoch 87/100\n",
            "8/8 [==============================] - 0s 12ms/step - loss: 8.1751e-04 - accuracy: 1.0000 - val_loss: 1.0814 - val_accuracy: 0.7937\n",
            "Epoch 88/100\n",
            "8/8 [==============================] - 0s 12ms/step - loss: 7.7146e-04 - accuracy: 1.0000 - val_loss: 1.0863 - val_accuracy: 0.7937\n",
            "Epoch 89/100\n",
            "8/8 [==============================] - 0s 12ms/step - loss: 7.5235e-04 - accuracy: 1.0000 - val_loss: 1.0876 - val_accuracy: 0.7937\n",
            "Epoch 90/100\n",
            "8/8 [==============================] - 0s 12ms/step - loss: 7.1498e-04 - accuracy: 1.0000 - val_loss: 1.0995 - val_accuracy: 0.7937\n",
            "Epoch 91/100\n",
            "8/8 [==============================] - 0s 12ms/step - loss: 6.8657e-04 - accuracy: 1.0000 - val_loss: 1.1004 - val_accuracy: 0.7937\n",
            "Epoch 92/100\n",
            "8/8 [==============================] - 0s 12ms/step - loss: 6.6036e-04 - accuracy: 1.0000 - val_loss: 1.1050 - val_accuracy: 0.7937\n",
            "Epoch 93/100\n",
            "8/8 [==============================] - 0s 12ms/step - loss: 6.3635e-04 - accuracy: 1.0000 - val_loss: 1.1169 - val_accuracy: 0.7937\n",
            "Epoch 94/100\n",
            "8/8 [==============================] - 0s 12ms/step - loss: 6.1287e-04 - accuracy: 1.0000 - val_loss: 1.1134 - val_accuracy: 0.7937\n",
            "Epoch 95/100\n",
            "8/8 [==============================] - 0s 12ms/step - loss: 5.8596e-04 - accuracy: 1.0000 - val_loss: 1.1183 - val_accuracy: 0.7937\n",
            "Epoch 96/100\n",
            "8/8 [==============================] - 0s 14ms/step - loss: 5.7606e-04 - accuracy: 1.0000 - val_loss: 1.1247 - val_accuracy: 0.7937\n",
            "Epoch 97/100\n",
            "8/8 [==============================] - 0s 12ms/step - loss: 5.4727e-04 - accuracy: 1.0000 - val_loss: 1.1383 - val_accuracy: 0.7937\n",
            "Epoch 98/100\n",
            "8/8 [==============================] - 0s 12ms/step - loss: 5.3614e-04 - accuracy: 1.0000 - val_loss: 1.1326 - val_accuracy: 0.7937\n",
            "Epoch 99/100\n",
            "8/8 [==============================] - 0s 12ms/step - loss: 5.1990e-04 - accuracy: 1.0000 - val_loss: 1.1392 - val_accuracy: 0.7937\n",
            "Epoch 100/100\n",
            "8/8 [==============================] - 0s 12ms/step - loss: 4.9710e-04 - accuracy: 1.0000 - val_loss: 1.1438 - val_accuracy: 0.7937\n"
          ]
        }
      ],
      "source": [
        "# 벨리데이션 넣은 모델 학습\n",
        "h = model1.fit(X_train, y_train, epochs=100, batch_size=20, validation_data=(X_test, y_test))"
      ]
    },
    {
      "attachments": {},
      "cell_type": "markdown",
      "metadata": {},
      "source": [
        "## 학습 모델 시각화"
      ]
    },
    {
      "cell_type": "code",
      "execution_count": 13,
      "metadata": {
        "colab": {
          "base_uri": "https://localhost:8080/",
          "height": 282
        },
        "id": "sKnkJiX9QZma",
        "outputId": "200e8567-d26f-4935-f33d-8a759d05d3fc"
      },
      "outputs": [
        {
          "data": {
            "image/png": "[encoded data removed]",
            "text/plain": [
              "<Figure size 640x480 with 1 Axes>"
            ]
          },
          "metadata": {},
          "output_type": "display_data"
        }
      ],
      "source": [
        "# 벨리데이션 넣은 경우 matplotlib으로 그래프 그리기\n",
        "import matplotlib.pyplot as plt\n",
        "\n",
        "# 학습 결과에서 accuracy 값들을 가져온다\n",
        "accuracy = h.history[\"accuracy\"]\n",
        "val_accuracy = h.history[\"val_accuracy\"]\n",
        "\n",
        "# 반복 수\n",
        "xaxis = range(1, len(accuracy)+1)\n",
        "plt.plot(xaxis, accuracy, \"r\", label=\"train_accuracy\")\n",
        "plt.plot(xaxis, val_accuracy, \"b\", label=\"test_accuracy\")\n",
        "plt.legend(loc='lower right')\n",
        "plt.show()"
      ]
    },
    {
      "cell_type": "code",
      "execution_count": 14,
      "metadata": {
        "colab": {
          "base_uri": "https://localhost:8080/"
        },
        "id": "zC7lR6uCQZoT",
        "outputId": "03ffba9e-e915-4f11-98b0-d8e874c64b38"
      },
      "outputs": [
        {
          "name": "stdout",
          "output_type": "stream",
          "text": [
            "5/5 [==============================] - 0s 11ms/step - loss: 4.8039e-04 - accuracy: 1.0000\n",
            "[0.00048039297689683735, 1.0]\n",
            "2/2 [==============================] - 0s 26ms/step - loss: 1.1438 - accuracy: 0.7937\n",
            "[1.1437594890594482, 0.7936508655548096]\n"
          ]
        }
      ],
      "source": [
        "print(model1.evaluate(X_train, y_train))\n",
        "print(model1.evaluate(X_test, y_test))"
      ]
    },
    {
      "attachments": {},
      "cell_type": "markdown",
      "metadata": {
        "id": "ssQJmhQcSIIs"
      },
      "source": [
        "## 과적합 방지"
      ]
    },
    {
      "attachments": {},
      "cell_type": "markdown",
      "metadata": {},
      "source": [
        "### 드롭아웃\n",
        "- Dropout : 특정 층에 dropout을 쓰면 특정 층에 있는 노드 중 해당 %만큼을 랜덤하게 사용하지 않도록 해서 학습의 방향을 강제로 틀어서 과적합 방지"
      ]
    },
    {
      "cell_type": "code",
      "execution_count": 15,
      "metadata": {
        "colab": {
          "base_uri": "https://localhost:8080/"
        },
        "id": "QPiWxCtGRvsV",
        "outputId": "d9b50630-ed3a-46fc-eec6-526fc026da93"
      },
      "outputs": [
        {
          "name": "stdout",
          "output_type": "stream",
          "text": [
            "Model: \"sequential_1\"\n",
            "_________________________________________________________________\n",
            "Layer (type)                 Output Shape              Param #   \n",
            "=================================================================\n",
            "dense_5 (Dense)              (None, 64)                3904      \n",
            "_________________________________________________________________\n",
            "dense_6 (Dense)              (None, 120)               7800      \n",
            "_________________________________________________________________\n",
            "dropout (Dropout)            (None, 120)               0         \n",
            "_________________________________________________________________\n",
            "dense_7 (Dense)              (None, 60)                7260      \n",
            "_________________________________________________________________\n",
            "dropout_1 (Dropout)          (None, 60)                0         \n",
            "_________________________________________________________________\n",
            "dense_8 (Dense)              (None, 30)                1830      \n",
            "_________________________________________________________________\n",
            "dropout_2 (Dropout)          (None, 30)                0         \n",
            "_________________________________________________________________\n",
            "dense_9 (Dense)              (None, 1)                 31        \n",
            "=================================================================\n",
            "Total params: 20,825\n",
            "Trainable params: 20,825\n",
            "Non-trainable params: 0\n",
            "_________________________________________________________________\n"
          ]
        }
      ],
      "source": [
        "from tensorflow.keras.models import Sequential\n",
        "from tensorflow.keras.layers import Dense, Dropout\n",
        "\n",
        "# 모델 설계\n",
        "model2 = Sequential()\n",
        "\n",
        "# 입력층\n",
        "model2.add(Dense(units=64, input_dim=60, activation = 'relu'))\n",
        "# 은닉층\n",
        "model2.add(Dense(units=120, activation = 'relu'))\n",
        "model2.add(Dropout(0.3))  # 드랍아웃은 선언 된 위 층에 정의 됨\n",
        "model2.add(Dense(units=60, activation = 'relu'))\n",
        "model2.add(Dropout(0.3)) \n",
        "model2.add(Dense(units=30, activation = 'relu'))\n",
        "model2.add(Dropout(0.3)) \n",
        "# 출력층\n",
        "model2.add(Dense(units=1, activation = 'sigmoid'))\n",
        "\n",
        "#  모델 정보 요약\n",
        "model2.summary()"
      ]
    },
    {
      "cell_type": "code",
      "execution_count": 16,
      "metadata": {
        "id": "-gHXb0WERvua"
      },
      "outputs": [],
      "source": [
        "# 실행방법 설정\n",
        "model2.compile(loss='binary_crossentropy', optimizer='adam', metrics = [\"accuracy\"])"
      ]
    },
    {
      "cell_type": "code",
      "execution_count": 17,
      "metadata": {
        "id": "ZmqrabldRvwn"
      },
      "outputs": [
        {
          "name": "stdout",
          "output_type": "stream",
          "text": [
            "Epoch 1/100\n"
          ]
        },
        {
          "name": "stderr",
          "output_type": "stream",
          "text": [
            "2023-02-14 02:03:18.180463: I tensorflow/core/grappler/optimizers/custom_graph_optimizer_registry.cc:112] Plugin optimizer for device_type GPU is enabled.\n"
          ]
        },
        {
          "name": "stdout",
          "output_type": "stream",
          "text": [
            "8/8 [==============================] - 1s 45ms/step - loss: 0.7118 - accuracy: 0.4621 - val_loss: 0.6886 - val_accuracy: 0.6349\n",
            "Epoch 2/100\n",
            "8/8 [==============================] - 0s 15ms/step - loss: 0.6885 - accuracy: 0.5379 - val_loss: 0.6912 - val_accuracy: 0.6825\n"
          ]
        },
        {
          "name": "stderr",
          "output_type": "stream",
          "text": [
            "2023-02-14 02:03:18.643170: I tensorflow/core/grappler/optimizers/custom_graph_optimizer_registry.cc:112] Plugin optimizer for device_type GPU is enabled.\n"
          ]
        },
        {
          "name": "stdout",
          "output_type": "stream",
          "text": [
            "Epoch 3/100\n",
            "8/8 [==============================] - 0s 15ms/step - loss: 0.6850 - accuracy: 0.5448 - val_loss: 0.6918 - val_accuracy: 0.5397\n",
            "Epoch 4/100\n",
            "8/8 [==============================] - 0s 14ms/step - loss: 0.6900 - accuracy: 0.5517 - val_loss: 0.6966 - val_accuracy: 0.4127\n",
            "Epoch 5/100\n",
            "8/8 [==============================] - 0s 14ms/step - loss: 0.6825 - accuracy: 0.5724 - val_loss: 0.7060 - val_accuracy: 0.3492\n",
            "Epoch 6/100\n",
            "8/8 [==============================] - 0s 14ms/step - loss: 0.6687 - accuracy: 0.6000 - val_loss: 0.7051 - val_accuracy: 0.3651\n",
            "Epoch 7/100\n",
            "8/8 [==============================] - 0s 14ms/step - loss: 0.6674 - accuracy: 0.5655 - val_loss: 0.6844 - val_accuracy: 0.5714\n",
            "Epoch 8/100\n",
            "8/8 [==============================] - 0s 14ms/step - loss: 0.6408 - accuracy: 0.6414 - val_loss: 0.6896 - val_accuracy: 0.5238\n",
            "Epoch 9/100\n",
            "8/8 [==============================] - 0s 13ms/step - loss: 0.6530 - accuracy: 0.6621 - val_loss: 0.6253 - val_accuracy: 0.7302\n",
            "Epoch 10/100\n",
            "8/8 [==============================] - 0s 22ms/step - loss: 0.6365 - accuracy: 0.6276 - val_loss: 0.6266 - val_accuracy: 0.7143\n",
            "Epoch 11/100\n",
            "8/8 [==============================] - 0s 16ms/step - loss: 0.6049 - accuracy: 0.7172 - val_loss: 0.5975 - val_accuracy: 0.7302\n",
            "Epoch 12/100\n",
            "8/8 [==============================] - 0s 16ms/step - loss: 0.5875 - accuracy: 0.7172 - val_loss: 0.5984 - val_accuracy: 0.6984\n",
            "Epoch 13/100\n",
            "8/8 [==============================] - 0s 15ms/step - loss: 0.5354 - accuracy: 0.7448 - val_loss: 0.5617 - val_accuracy: 0.6984\n",
            "Epoch 14/100\n",
            "8/8 [==============================] - 0s 15ms/step - loss: 0.5160 - accuracy: 0.7655 - val_loss: 0.5221 - val_accuracy: 0.7302\n",
            "Epoch 15/100\n",
            "8/8 [==============================] - 0s 16ms/step - loss: 0.4847 - accuracy: 0.7793 - val_loss: 0.5090 - val_accuracy: 0.6825\n",
            "Epoch 16/100\n",
            "8/8 [==============================] - 0s 13ms/step - loss: 0.4725 - accuracy: 0.7655 - val_loss: 0.4576 - val_accuracy: 0.7937\n",
            "Epoch 17/100\n",
            "8/8 [==============================] - 0s 15ms/step - loss: 0.4655 - accuracy: 0.8000 - val_loss: 0.5071 - val_accuracy: 0.6825\n",
            "Epoch 18/100\n",
            "8/8 [==============================] - 0s 13ms/step - loss: 0.4175 - accuracy: 0.7931 - val_loss: 0.4879 - val_accuracy: 0.6984\n",
            "Epoch 19/100\n",
            "8/8 [==============================] - 0s 13ms/step - loss: 0.3923 - accuracy: 0.8621 - val_loss: 0.5006 - val_accuracy: 0.6667\n",
            "Epoch 20/100\n",
            "8/8 [==============================] - 0s 13ms/step - loss: 0.3512 - accuracy: 0.8621 - val_loss: 0.4233 - val_accuracy: 0.7937\n",
            "Epoch 21/100\n",
            "8/8 [==============================] - 0s 13ms/step - loss: 0.3509 - accuracy: 0.8345 - val_loss: 0.5023 - val_accuracy: 0.7302\n",
            "Epoch 22/100\n",
            "8/8 [==============================] - 0s 15ms/step - loss: 0.3244 - accuracy: 0.8621 - val_loss: 0.5640 - val_accuracy: 0.7143\n",
            "Epoch 23/100\n",
            "8/8 [==============================] - 0s 18ms/step - loss: 0.3318 - accuracy: 0.8621 - val_loss: 0.4019 - val_accuracy: 0.7778\n",
            "Epoch 24/100\n",
            "8/8 [==============================] - 0s 15ms/step - loss: 0.3016 - accuracy: 0.8690 - val_loss: 0.6375 - val_accuracy: 0.6667\n",
            "Epoch 25/100\n",
            "8/8 [==============================] - 0s 14ms/step - loss: 0.3028 - accuracy: 0.8966 - val_loss: 0.3995 - val_accuracy: 0.7778\n",
            "Epoch 26/100\n",
            "8/8 [==============================] - 0s 14ms/step - loss: 0.2609 - accuracy: 0.9172 - val_loss: 0.4530 - val_accuracy: 0.7778\n",
            "Epoch 27/100\n",
            "8/8 [==============================] - 0s 14ms/step - loss: 0.2725 - accuracy: 0.8966 - val_loss: 0.5681 - val_accuracy: 0.7143\n",
            "Epoch 28/100\n",
            "8/8 [==============================] - 0s 14ms/step - loss: 0.2934 - accuracy: 0.8828 - val_loss: 0.3836 - val_accuracy: 0.7778\n",
            "Epoch 29/100\n",
            "8/8 [==============================] - 0s 15ms/step - loss: 0.2379 - accuracy: 0.8897 - val_loss: 0.5626 - val_accuracy: 0.7302\n",
            "Epoch 30/100\n",
            "8/8 [==============================] - 0s 16ms/step - loss: 0.1973 - accuracy: 0.9448 - val_loss: 0.4047 - val_accuracy: 0.7937\n",
            "Epoch 31/100\n",
            "8/8 [==============================] - 0s 17ms/step - loss: 0.2381 - accuracy: 0.9034 - val_loss: 0.4346 - val_accuracy: 0.7937\n",
            "Epoch 32/100\n",
            "8/8 [==============================] - 0s 16ms/step - loss: 0.2203 - accuracy: 0.9379 - val_loss: 0.4984 - val_accuracy: 0.7460\n",
            "Epoch 33/100\n",
            "8/8 [==============================] - 0s 16ms/step - loss: 0.1889 - accuracy: 0.9310 - val_loss: 0.4023 - val_accuracy: 0.7778\n",
            "Epoch 34/100\n",
            "8/8 [==============================] - 0s 15ms/step - loss: 0.2108 - accuracy: 0.9103 - val_loss: 0.6257 - val_accuracy: 0.7302\n",
            "Epoch 35/100\n",
            "8/8 [==============================] - 0s 14ms/step - loss: 0.1660 - accuracy: 0.9655 - val_loss: 0.3908 - val_accuracy: 0.7937\n",
            "Epoch 36/100\n",
            "8/8 [==============================] - 0s 14ms/step - loss: 0.1905 - accuracy: 0.9379 - val_loss: 0.5282 - val_accuracy: 0.7619\n",
            "Epoch 37/100\n",
            "8/8 [==============================] - 0s 14ms/step - loss: 0.1941 - accuracy: 0.9034 - val_loss: 0.6313 - val_accuracy: 0.7302\n",
            "Epoch 38/100\n",
            "8/8 [==============================] - 0s 14ms/step - loss: 0.1585 - accuracy: 0.9517 - val_loss: 0.4939 - val_accuracy: 0.8095\n",
            "Epoch 39/100\n",
            "8/8 [==============================] - 0s 14ms/step - loss: 0.1443 - accuracy: 0.9448 - val_loss: 0.5922 - val_accuracy: 0.7460\n",
            "Epoch 40/100\n",
            "8/8 [==============================] - 0s 13ms/step - loss: 0.1219 - accuracy: 0.9724 - val_loss: 0.4695 - val_accuracy: 0.7460\n",
            "Epoch 41/100\n",
            "8/8 [==============================] - 0s 14ms/step - loss: 0.1335 - accuracy: 0.9655 - val_loss: 0.5632 - val_accuracy: 0.7460\n",
            "Epoch 42/100\n",
            "8/8 [==============================] - 0s 14ms/step - loss: 0.1398 - accuracy: 0.9655 - val_loss: 0.5168 - val_accuracy: 0.7778\n",
            "Epoch 43/100\n",
            "8/8 [==============================] - 0s 15ms/step - loss: 0.1064 - accuracy: 0.9793 - val_loss: 0.5385 - val_accuracy: 0.7619\n",
            "Epoch 44/100\n",
            "8/8 [==============================] - 0s 13ms/step - loss: 0.0979 - accuracy: 0.9793 - val_loss: 0.5409 - val_accuracy: 0.7619\n",
            "Epoch 45/100\n",
            "8/8 [==============================] - 0s 13ms/step - loss: 0.1029 - accuracy: 0.9724 - val_loss: 0.5211 - val_accuracy: 0.7778\n",
            "Epoch 46/100\n",
            "8/8 [==============================] - 0s 14ms/step - loss: 0.0882 - accuracy: 0.9793 - val_loss: 0.4799 - val_accuracy: 0.7937\n",
            "Epoch 47/100\n",
            "8/8 [==============================] - 0s 14ms/step - loss: 0.0875 - accuracy: 0.9793 - val_loss: 0.6823 - val_accuracy: 0.7460\n",
            "Epoch 48/100\n",
            "8/8 [==============================] - 0s 15ms/step - loss: 0.0925 - accuracy: 0.9862 - val_loss: 0.4092 - val_accuracy: 0.8095\n",
            "Epoch 49/100\n",
            "8/8 [==============================] - 0s 14ms/step - loss: 0.0838 - accuracy: 0.9862 - val_loss: 0.6064 - val_accuracy: 0.7778\n",
            "Epoch 50/100\n",
            "8/8 [==============================] - 0s 13ms/step - loss: 0.0693 - accuracy: 0.9931 - val_loss: 0.4989 - val_accuracy: 0.7937\n",
            "Epoch 51/100\n",
            "8/8 [==============================] - 0s 13ms/step - loss: 0.0712 - accuracy: 0.9793 - val_loss: 0.4540 - val_accuracy: 0.8095\n",
            "Epoch 52/100\n",
            "8/8 [==============================] - 0s 13ms/step - loss: 0.0747 - accuracy: 0.9793 - val_loss: 0.6500 - val_accuracy: 0.7937\n",
            "Epoch 53/100\n",
            "8/8 [==============================] - 0s 13ms/step - loss: 0.0817 - accuracy: 0.9793 - val_loss: 0.4336 - val_accuracy: 0.7937\n",
            "Epoch 54/100\n",
            "8/8 [==============================] - 0s 13ms/step - loss: 0.0634 - accuracy: 0.9862 - val_loss: 0.5732 - val_accuracy: 0.7778\n",
            "Epoch 55/100\n",
            "8/8 [==============================] - 0s 13ms/step - loss: 0.0648 - accuracy: 0.9793 - val_loss: 0.4564 - val_accuracy: 0.7937\n",
            "Epoch 56/100\n",
            "8/8 [==============================] - 0s 13ms/step - loss: 0.0449 - accuracy: 0.9931 - val_loss: 0.5827 - val_accuracy: 0.7778\n",
            "Epoch 57/100\n",
            "8/8 [==============================] - 0s 13ms/step - loss: 0.0728 - accuracy: 0.9793 - val_loss: 0.5273 - val_accuracy: 0.8095\n",
            "Epoch 58/100\n",
            "8/8 [==============================] - 0s 13ms/step - loss: 0.0401 - accuracy: 0.9931 - val_loss: 0.5054 - val_accuracy: 0.7778\n",
            "Epoch 59/100\n",
            "8/8 [==============================] - 0s 13ms/step - loss: 0.0398 - accuracy: 1.0000 - val_loss: 0.5382 - val_accuracy: 0.7937\n",
            "Epoch 60/100\n",
            "8/8 [==============================] - 0s 14ms/step - loss: 0.0359 - accuracy: 1.0000 - val_loss: 0.5340 - val_accuracy: 0.7937\n",
            "Epoch 61/100\n",
            "8/8 [==============================] - 0s 13ms/step - loss: 0.0280 - accuracy: 1.0000 - val_loss: 0.5345 - val_accuracy: 0.7619\n",
            "Epoch 62/100\n",
            "8/8 [==============================] - 0s 13ms/step - loss: 0.0198 - accuracy: 1.0000 - val_loss: 0.5632 - val_accuracy: 0.7778\n",
            "Epoch 63/100\n",
            "8/8 [==============================] - 0s 13ms/step - loss: 0.0214 - accuracy: 1.0000 - val_loss: 0.5150 - val_accuracy: 0.8095\n",
            "Epoch 64/100\n",
            "8/8 [==============================] - 0s 13ms/step - loss: 0.0224 - accuracy: 1.0000 - val_loss: 0.6174 - val_accuracy: 0.7937\n",
            "Epoch 65/100\n",
            "8/8 [==============================] - 0s 13ms/step - loss: 0.0318 - accuracy: 0.9931 - val_loss: 0.5751 - val_accuracy: 0.8095\n",
            "Epoch 66/100\n",
            "8/8 [==============================] - 0s 13ms/step - loss: 0.0136 - accuracy: 1.0000 - val_loss: 0.5293 - val_accuracy: 0.7778\n",
            "Epoch 67/100\n",
            "8/8 [==============================] - 0s 15ms/step - loss: 0.0111 - accuracy: 1.0000 - val_loss: 0.5587 - val_accuracy: 0.7937\n",
            "Epoch 68/100\n",
            "8/8 [==============================] - 0s 16ms/step - loss: 0.0087 - accuracy: 1.0000 - val_loss: 0.5894 - val_accuracy: 0.7937\n",
            "Epoch 69/100\n",
            "8/8 [==============================] - 0s 14ms/step - loss: 0.0079 - accuracy: 1.0000 - val_loss: 0.5627 - val_accuracy: 0.7778\n",
            "Epoch 70/100\n",
            "8/8 [==============================] - 0s 14ms/step - loss: 0.0109 - accuracy: 1.0000 - val_loss: 0.5627 - val_accuracy: 0.7778\n",
            "Epoch 71/100\n",
            "8/8 [==============================] - 0s 14ms/step - loss: 0.0098 - accuracy: 1.0000 - val_loss: 0.6033 - val_accuracy: 0.7937\n",
            "Epoch 72/100\n",
            "8/8 [==============================] - 0s 14ms/step - loss: 0.0077 - accuracy: 1.0000 - val_loss: 0.6120 - val_accuracy: 0.7937\n",
            "Epoch 73/100\n",
            "8/8 [==============================] - 0s 14ms/step - loss: 0.0086 - accuracy: 1.0000 - val_loss: 0.6140 - val_accuracy: 0.7778\n",
            "Epoch 74/100\n",
            "8/8 [==============================] - 0s 14ms/step - loss: 0.0085 - accuracy: 1.0000 - val_loss: 0.5646 - val_accuracy: 0.7778\n",
            "Epoch 75/100\n",
            "8/8 [==============================] - 0s 14ms/step - loss: 0.0068 - accuracy: 1.0000 - val_loss: 0.5775 - val_accuracy: 0.7778\n",
            "Epoch 76/100\n",
            "8/8 [==============================] - 0s 14ms/step - loss: 0.0054 - accuracy: 1.0000 - val_loss: 0.6429 - val_accuracy: 0.7937\n",
            "Epoch 77/100\n",
            "8/8 [==============================] - 0s 15ms/step - loss: 0.0075 - accuracy: 1.0000 - val_loss: 0.5657 - val_accuracy: 0.7937\n",
            "Epoch 78/100\n",
            "8/8 [==============================] - 0s 14ms/step - loss: 0.0068 - accuracy: 1.0000 - val_loss: 0.6284 - val_accuracy: 0.7937\n",
            "Epoch 79/100\n",
            "8/8 [==============================] - 0s 13ms/step - loss: 0.0101 - accuracy: 1.0000 - val_loss: 0.5979 - val_accuracy: 0.7778\n",
            "Epoch 80/100\n",
            "8/8 [==============================] - 0s 14ms/step - loss: 0.0360 - accuracy: 0.9931 - val_loss: 1.0299 - val_accuracy: 0.7302\n",
            "Epoch 81/100\n",
            "8/8 [==============================] - 0s 13ms/step - loss: 0.0701 - accuracy: 0.9724 - val_loss: 0.6024 - val_accuracy: 0.8571\n",
            "Epoch 82/100\n",
            "8/8 [==============================] - 0s 13ms/step - loss: 0.0343 - accuracy: 0.9862 - val_loss: 1.0067 - val_accuracy: 0.7460\n",
            "Epoch 83/100\n",
            "8/8 [==============================] - 0s 14ms/step - loss: 0.0458 - accuracy: 0.9793 - val_loss: 0.6232 - val_accuracy: 0.8254\n",
            "Epoch 84/100\n",
            "8/8 [==============================] - 0s 14ms/step - loss: 0.0156 - accuracy: 1.0000 - val_loss: 0.8434 - val_accuracy: 0.7778\n",
            "Epoch 85/100\n",
            "8/8 [==============================] - 0s 13ms/step - loss: 0.0231 - accuracy: 0.9931 - val_loss: 0.6970 - val_accuracy: 0.8095\n",
            "Epoch 86/100\n",
            "8/8 [==============================] - 0s 13ms/step - loss: 0.0075 - accuracy: 1.0000 - val_loss: 0.6506 - val_accuracy: 0.8413\n",
            "Epoch 87/100\n",
            "8/8 [==============================] - 0s 13ms/step - loss: 0.0061 - accuracy: 1.0000 - val_loss: 0.5795 - val_accuracy: 0.8254\n",
            "Epoch 88/100\n",
            "8/8 [==============================] - 0s 13ms/step - loss: 0.0057 - accuracy: 1.0000 - val_loss: 0.6834 - val_accuracy: 0.8095\n",
            "Epoch 89/100\n",
            "8/8 [==============================] - 0s 13ms/step - loss: 0.0050 - accuracy: 1.0000 - val_loss: 0.6451 - val_accuracy: 0.8095\n",
            "Epoch 90/100\n",
            "8/8 [==============================] - 0s 13ms/step - loss: 0.0034 - accuracy: 1.0000 - val_loss: 0.6053 - val_accuracy: 0.8095\n",
            "Epoch 91/100\n",
            "8/8 [==============================] - 0s 14ms/step - loss: 0.0039 - accuracy: 1.0000 - val_loss: 0.6783 - val_accuracy: 0.8095\n",
            "Epoch 92/100\n",
            "8/8 [==============================] - 0s 14ms/step - loss: 0.0025 - accuracy: 1.0000 - val_loss: 0.6896 - val_accuracy: 0.8095\n",
            "Epoch 93/100\n",
            "8/8 [==============================] - 0s 14ms/step - loss: 0.0029 - accuracy: 1.0000 - val_loss: 0.6915 - val_accuracy: 0.8095\n",
            "Epoch 94/100\n",
            "8/8 [==============================] - 0s 14ms/step - loss: 0.0027 - accuracy: 1.0000 - val_loss: 0.6997 - val_accuracy: 0.8095\n",
            "Epoch 95/100\n",
            "8/8 [==============================] - 0s 14ms/step - loss: 0.0025 - accuracy: 1.0000 - val_loss: 0.7309 - val_accuracy: 0.7937\n",
            "Epoch 96/100\n",
            "8/8 [==============================] - 0s 15ms/step - loss: 0.0022 - accuracy: 1.0000 - val_loss: 0.6621 - val_accuracy: 0.8095\n",
            "Epoch 97/100\n",
            "8/8 [==============================] - 0s 14ms/step - loss: 0.0023 - accuracy: 1.0000 - val_loss: 0.6366 - val_accuracy: 0.8095\n",
            "Epoch 98/100\n",
            "8/8 [==============================] - 0s 13ms/step - loss: 0.0036 - accuracy: 1.0000 - val_loss: 0.6874 - val_accuracy: 0.8095\n",
            "Epoch 99/100\n",
            "8/8 [==============================] - 0s 13ms/step - loss: 0.0020 - accuracy: 1.0000 - val_loss: 0.6910 - val_accuracy: 0.8095\n",
            "Epoch 100/100\n",
            "8/8 [==============================] - 0s 14ms/step - loss: 0.0020 - accuracy: 1.0000 - val_loss: 0.6676 - val_accuracy: 0.8254\n"
          ]
        }
      ],
      "source": [
        "# 벨리데이션 넣은 모델 학습\n",
        "h2 = model2.fit(X_train, y_train, epochs=100, batch_size=20, validation_data=(X_test, y_test))"
      ]
    },
    {
      "cell_type": "code",
      "execution_count": 18,
      "metadata": {
        "colab": {
          "base_uri": "https://localhost:8080/",
          "height": 282
        },
        "id": "LymhEajWWdRu",
        "outputId": "1118f4af-5a5f-408e-96a1-46cb8e092477"
      },
      "outputs": [
        {
          "data": {
            "text/plain": [
              "<matplotlib.legend.Legend at 0x294b25b50>"
            ]
          },
          "execution_count": 18,
          "metadata": {},
          "output_type": "execute_result"
        },
        {
          "data": {
            "image/png": "[encoded data removed]",
            "text/plain": [
              "<Figure size 640x480 with 1 Axes>"
            ]
          },
          "metadata": {},
          "output_type": "display_data"
        }
      ],
      "source": [
        "# 벨리데이션 넣은 경우 matplotlib으로 그래프 그리기\n",
        "import matplotlib.pyplot as plt\n",
        "\n",
        "# 학습 결과에서 accuracy 값들을 가져온다\n",
        "accuracy = h2.history[\"accuracy\"]\n",
        "val_accuracy = h2.history[\"val_accuracy\"]\n",
        "\n",
        "# 반복 수\n",
        "\n",
        "xaxis = range(1, len(accuracy)+1)\n",
        "plt.plot(xaxis, accuracy, \"r\", label=\"train_accuracy\")\n",
        "plt.plot(xaxis, val_accuracy, \"b\", label=\"test_accuracy\")\n",
        "plt.legend(loc='lower right')"
      ]
    },
    {
      "cell_type": "code",
      "execution_count": 19,
      "metadata": {
        "colab": {
          "base_uri": "https://localhost:8080/"
        },
        "id": "Aa0gLFscWgTI",
        "outputId": "aed479ce-08a8-4494-da87-4a574cbf91b2"
      },
      "outputs": [
        {
          "name": "stdout",
          "output_type": "stream",
          "text": [
            "5/5 [==============================] - 0s 11ms/step - loss: 0.0015 - accuracy: 1.0000\n",
            "[0.0014507416635751724, 1.0]\n",
            "2/2 [==============================] - 0s 26ms/step - loss: 0.6676 - accuracy: 0.8254\n",
            "[0.6676496863365173, 0.8253968954086304]\n"
          ]
        }
      ],
      "source": [
        "print(model2.evaluate(X_train, y_train))\n",
        "print(model2.evaluate(X_test, y_test))"
      ]
    },
    {
      "attachments": {},
      "cell_type": "markdown",
      "metadata": {},
      "source": [
        "### (출력 직전의) 노드 수 줄이기"
      ]
    },
    {
      "cell_type": "code",
      "execution_count": 20,
      "metadata": {
        "id": "yj0qB7joW9Z-"
      },
      "outputs": [
        {
          "name": "stdout",
          "output_type": "stream",
          "text": [
            "Epoch 1/100\n",
            "7/8 [=========================>....] - ETA: 0s - loss: 0.6947 - accuracy: 0.5071"
          ]
        },
        {
          "name": "stderr",
          "output_type": "stream",
          "text": [
            "2023-02-14 02:04:03.461007: I tensorflow/core/grappler/optimizers/custom_graph_optimizer_registry.cc:112] Plugin optimizer for device_type GPU is enabled.\n"
          ]
        },
        {
          "name": "stdout",
          "output_type": "stream",
          "text": [
            "8/8 [==============================] - 1s 45ms/step - loss: 0.6947 - accuracy: 0.5034 - val_loss: 0.6807 - val_accuracy: 0.6667\n",
            "Epoch 2/100\n",
            "8/8 [==============================] - ETA: 0s - loss: 0.6795 - accuracy: 0.6138"
          ]
        },
        {
          "name": "stderr",
          "output_type": "stream",
          "text": [
            "2023-02-14 02:04:03.771550: I tensorflow/core/grappler/optimizers/custom_graph_optimizer_registry.cc:112] Plugin optimizer for device_type GPU is enabled.\n"
          ]
        },
        {
          "name": "stdout",
          "output_type": "stream",
          "text": [
            "8/8 [==============================] - 0s 12ms/step - loss: 0.6795 - accuracy: 0.6138 - val_loss: 0.6586 - val_accuracy: 0.7143\n",
            "Epoch 3/100\n",
            "8/8 [==============================] - 0s 12ms/step - loss: 0.6720 - accuracy: 0.6414 - val_loss: 0.6620 - val_accuracy: 0.7460\n",
            "Epoch 4/100\n",
            "8/8 [==============================] - 0s 12ms/step - loss: 0.6580 - accuracy: 0.6828 - val_loss: 0.6391 - val_accuracy: 0.7778\n",
            "Epoch 5/100\n",
            "8/8 [==============================] - 0s 12ms/step - loss: 0.6414 - accuracy: 0.6828 - val_loss: 0.6262 - val_accuracy: 0.8095\n",
            "Epoch 6/100\n",
            "8/8 [==============================] - 0s 12ms/step - loss: 0.6238 - accuracy: 0.7379 - val_loss: 0.6213 - val_accuracy: 0.7778\n",
            "Epoch 7/100\n",
            "8/8 [==============================] - 0s 12ms/step - loss: 0.5904 - accuracy: 0.7655 - val_loss: 0.5707 - val_accuracy: 0.7778\n",
            "Epoch 8/100\n",
            "8/8 [==============================] - 0s 14ms/step - loss: 0.5456 - accuracy: 0.8000 - val_loss: 0.6018 - val_accuracy: 0.6349\n",
            "Epoch 9/100\n",
            "8/8 [==============================] - 0s 12ms/step - loss: 0.5137 - accuracy: 0.7793 - val_loss: 0.4716 - val_accuracy: 0.7778\n",
            "Epoch 10/100\n",
            "8/8 [==============================] - 0s 12ms/step - loss: 0.5180 - accuracy: 0.7103 - val_loss: 0.5288 - val_accuracy: 0.7143\n",
            "Epoch 11/100\n",
            "8/8 [==============================] - 0s 12ms/step - loss: 0.4834 - accuracy: 0.7448 - val_loss: 0.5227 - val_accuracy: 0.6825\n",
            "Epoch 12/100\n",
            "8/8 [==============================] - 0s 12ms/step - loss: 0.4945 - accuracy: 0.7448 - val_loss: 0.4952 - val_accuracy: 0.7143\n",
            "Epoch 13/100\n",
            "8/8 [==============================] - 0s 13ms/step - loss: 0.4849 - accuracy: 0.7448 - val_loss: 0.4673 - val_accuracy: 0.7460\n",
            "Epoch 14/100\n",
            "8/8 [==============================] - 0s 14ms/step - loss: 0.4156 - accuracy: 0.8345 - val_loss: 0.5267 - val_accuracy: 0.6984\n",
            "Epoch 15/100\n",
            "8/8 [==============================] - 0s 13ms/step - loss: 0.4129 - accuracy: 0.8138 - val_loss: 0.4528 - val_accuracy: 0.7619\n",
            "Epoch 16/100\n",
            "8/8 [==============================] - 0s 13ms/step - loss: 0.3574 - accuracy: 0.8966 - val_loss: 0.5427 - val_accuracy: 0.6984\n",
            "Epoch 17/100\n",
            "8/8 [==============================] - 0s 13ms/step - loss: 0.3563 - accuracy: 0.8690 - val_loss: 0.4626 - val_accuracy: 0.6984\n",
            "Epoch 18/100\n",
            "8/8 [==============================] - 0s 14ms/step - loss: 0.3391 - accuracy: 0.8897 - val_loss: 0.4247 - val_accuracy: 0.7302\n",
            "Epoch 19/100\n",
            "8/8 [==============================] - 0s 14ms/step - loss: 0.3116 - accuracy: 0.8690 - val_loss: 0.5544 - val_accuracy: 0.6825\n",
            "Epoch 20/100\n",
            "8/8 [==============================] - 0s 12ms/step - loss: 0.3134 - accuracy: 0.8897 - val_loss: 0.4160 - val_accuracy: 0.7460\n",
            "Epoch 21/100\n",
            "8/8 [==============================] - 0s 13ms/step - loss: 0.3027 - accuracy: 0.8966 - val_loss: 0.4677 - val_accuracy: 0.7143\n",
            "Epoch 22/100\n",
            "8/8 [==============================] - 0s 13ms/step - loss: 0.2702 - accuracy: 0.8966 - val_loss: 0.4893 - val_accuracy: 0.7302\n",
            "Epoch 23/100\n",
            "8/8 [==============================] - 0s 14ms/step - loss: 0.2633 - accuracy: 0.9241 - val_loss: 0.4111 - val_accuracy: 0.7619\n",
            "Epoch 24/100\n",
            "8/8 [==============================] - 0s 14ms/step - loss: 0.2672 - accuracy: 0.9103 - val_loss: 0.5965 - val_accuracy: 0.7143\n",
            "Epoch 25/100\n",
            "8/8 [==============================] - 0s 14ms/step - loss: 0.2366 - accuracy: 0.9241 - val_loss: 0.4353 - val_accuracy: 0.7937\n",
            "Epoch 26/100\n",
            "8/8 [==============================] - 0s 13ms/step - loss: 0.2123 - accuracy: 0.9241 - val_loss: 0.6404 - val_accuracy: 0.6984\n",
            "Epoch 27/100\n",
            "8/8 [==============================] - 0s 13ms/step - loss: 0.2196 - accuracy: 0.9517 - val_loss: 0.4146 - val_accuracy: 0.7778\n",
            "Epoch 28/100\n",
            "8/8 [==============================] - 0s 12ms/step - loss: 0.1927 - accuracy: 0.9310 - val_loss: 0.4699 - val_accuracy: 0.7778\n",
            "Epoch 29/100\n",
            "8/8 [==============================] - 0s 13ms/step - loss: 0.1716 - accuracy: 0.9379 - val_loss: 0.4778 - val_accuracy: 0.7778\n",
            "Epoch 30/100\n",
            "8/8 [==============================] - 0s 12ms/step - loss: 0.1631 - accuracy: 0.9448 - val_loss: 0.4345 - val_accuracy: 0.7778\n",
            "Epoch 31/100\n",
            "8/8 [==============================] - 0s 12ms/step - loss: 0.1624 - accuracy: 0.9379 - val_loss: 0.3972 - val_accuracy: 0.7937\n",
            "Epoch 32/100\n",
            "8/8 [==============================] - 0s 12ms/step - loss: 0.1934 - accuracy: 0.9310 - val_loss: 0.4333 - val_accuracy: 0.7937\n",
            "Epoch 33/100\n",
            "8/8 [==============================] - 0s 12ms/step - loss: 0.1561 - accuracy: 0.9379 - val_loss: 0.7586 - val_accuracy: 0.6984\n",
            "Epoch 34/100\n",
            "8/8 [==============================] - 0s 12ms/step - loss: 0.1570 - accuracy: 0.9310 - val_loss: 0.3879 - val_accuracy: 0.7778\n",
            "Epoch 35/100\n",
            "8/8 [==============================] - 0s 13ms/step - loss: 0.1508 - accuracy: 0.9379 - val_loss: 0.5059 - val_accuracy: 0.7619\n",
            "Epoch 36/100\n",
            "8/8 [==============================] - 0s 14ms/step - loss: 0.1440 - accuracy: 0.9448 - val_loss: 0.5825 - val_accuracy: 0.7302\n",
            "Epoch 37/100\n",
            "8/8 [==============================] - 0s 14ms/step - loss: 0.1123 - accuracy: 0.9517 - val_loss: 0.4790 - val_accuracy: 0.7937\n",
            "Epoch 38/100\n",
            "8/8 [==============================] - 0s 16ms/step - loss: 0.1016 - accuracy: 0.9655 - val_loss: 0.4583 - val_accuracy: 0.7937\n",
            "Epoch 39/100\n",
            "8/8 [==============================] - 0s 13ms/step - loss: 0.0832 - accuracy: 0.9862 - val_loss: 0.5186 - val_accuracy: 0.7937\n",
            "Epoch 40/100\n",
            "8/8 [==============================] - 0s 13ms/step - loss: 0.0707 - accuracy: 0.9862 - val_loss: 0.4459 - val_accuracy: 0.8095\n",
            "Epoch 41/100\n",
            "8/8 [==============================] - 0s 13ms/step - loss: 0.0740 - accuracy: 0.9793 - val_loss: 0.4164 - val_accuracy: 0.8095\n",
            "Epoch 42/100\n",
            "8/8 [==============================] - 0s 14ms/step - loss: 0.0673 - accuracy: 0.9862 - val_loss: 0.7276 - val_accuracy: 0.7460\n",
            "Epoch 43/100\n",
            "8/8 [==============================] - 0s 14ms/step - loss: 0.0934 - accuracy: 0.9724 - val_loss: 0.4488 - val_accuracy: 0.8095\n",
            "Epoch 44/100\n",
            "8/8 [==============================] - 0s 14ms/step - loss: 0.1504 - accuracy: 0.9379 - val_loss: 0.4749 - val_accuracy: 0.8254\n",
            "Epoch 45/100\n",
            "8/8 [==============================] - 0s 13ms/step - loss: 0.0683 - accuracy: 0.9862 - val_loss: 0.6166 - val_accuracy: 0.7778\n",
            "Epoch 46/100\n",
            "8/8 [==============================] - 0s 13ms/step - loss: 0.0599 - accuracy: 0.9862 - val_loss: 0.4485 - val_accuracy: 0.8254\n",
            "Epoch 47/100\n",
            "8/8 [==============================] - 0s 13ms/step - loss: 0.0391 - accuracy: 1.0000 - val_loss: 0.6016 - val_accuracy: 0.7778\n",
            "Epoch 48/100\n",
            "8/8 [==============================] - 0s 15ms/step - loss: 0.0383 - accuracy: 1.0000 - val_loss: 0.4696 - val_accuracy: 0.8413\n",
            "Epoch 49/100\n",
            "8/8 [==============================] - 0s 13ms/step - loss: 0.0310 - accuracy: 1.0000 - val_loss: 0.6406 - val_accuracy: 0.7778\n",
            "Epoch 50/100\n",
            "8/8 [==============================] - 0s 14ms/step - loss: 0.0632 - accuracy: 0.9724 - val_loss: 0.4927 - val_accuracy: 0.8095\n",
            "Epoch 51/100\n",
            "8/8 [==============================] - 0s 14ms/step - loss: 0.0474 - accuracy: 0.9862 - val_loss: 0.7705 - val_accuracy: 0.7937\n",
            "Epoch 52/100\n",
            "8/8 [==============================] - 0s 13ms/step - loss: 0.0679 - accuracy: 0.9862 - val_loss: 0.4493 - val_accuracy: 0.8095\n",
            "Epoch 53/100\n",
            "8/8 [==============================] - 0s 12ms/step - loss: 0.0315 - accuracy: 1.0000 - val_loss: 0.5572 - val_accuracy: 0.7778\n",
            "Epoch 54/100\n",
            "8/8 [==============================] - 0s 12ms/step - loss: 0.0266 - accuracy: 1.0000 - val_loss: 0.4590 - val_accuracy: 0.8254\n",
            "Epoch 55/100\n",
            "8/8 [==============================] - 0s 12ms/step - loss: 0.0221 - accuracy: 0.9931 - val_loss: 0.4647 - val_accuracy: 0.8413\n",
            "Epoch 56/100\n",
            "8/8 [==============================] - 0s 12ms/step - loss: 0.0254 - accuracy: 1.0000 - val_loss: 0.5505 - val_accuracy: 0.7778\n",
            "Epoch 57/100\n",
            "8/8 [==============================] - 0s 12ms/step - loss: 0.0223 - accuracy: 1.0000 - val_loss: 0.5108 - val_accuracy: 0.8254\n",
            "Epoch 58/100\n",
            "8/8 [==============================] - 0s 14ms/step - loss: 0.0297 - accuracy: 1.0000 - val_loss: 0.5978 - val_accuracy: 0.7778\n",
            "Epoch 59/100\n",
            "8/8 [==============================] - 0s 14ms/step - loss: 0.0163 - accuracy: 1.0000 - val_loss: 0.5482 - val_accuracy: 0.8095\n",
            "Epoch 60/100\n",
            "8/8 [==============================] - 0s 14ms/step - loss: 0.0121 - accuracy: 1.0000 - val_loss: 0.6116 - val_accuracy: 0.8254\n",
            "Epoch 61/100\n",
            "8/8 [==============================] - 0s 14ms/step - loss: 0.0115 - accuracy: 1.0000 - val_loss: 0.5629 - val_accuracy: 0.8413\n",
            "Epoch 62/100\n",
            "8/8 [==============================] - 0s 13ms/step - loss: 0.0109 - accuracy: 1.0000 - val_loss: 0.5815 - val_accuracy: 0.8254\n",
            "Epoch 63/100\n",
            "8/8 [==============================] - 0s 12ms/step - loss: 0.0089 - accuracy: 1.0000 - val_loss: 0.5880 - val_accuracy: 0.8254\n",
            "Epoch 64/100\n",
            "8/8 [==============================] - 0s 12ms/step - loss: 0.0072 - accuracy: 1.0000 - val_loss: 0.5735 - val_accuracy: 0.8413\n",
            "Epoch 65/100\n",
            "8/8 [==============================] - 0s 11ms/step - loss: 0.0076 - accuracy: 1.0000 - val_loss: 0.6235 - val_accuracy: 0.8254\n",
            "Epoch 66/100\n",
            "8/8 [==============================] - 0s 12ms/step - loss: 0.0083 - accuracy: 1.0000 - val_loss: 0.5850 - val_accuracy: 0.8413\n",
            "Epoch 67/100\n",
            "8/8 [==============================] - 0s 12ms/step - loss: 0.0063 - accuracy: 1.0000 - val_loss: 0.5563 - val_accuracy: 0.8254\n",
            "Epoch 68/100\n",
            "8/8 [==============================] - 0s 16ms/step - loss: 0.0063 - accuracy: 1.0000 - val_loss: 0.6004 - val_accuracy: 0.8095\n",
            "Epoch 69/100\n",
            "8/8 [==============================] - 0s 13ms/step - loss: 0.0064 - accuracy: 1.0000 - val_loss: 0.6444 - val_accuracy: 0.8254\n",
            "Epoch 70/100\n",
            "8/8 [==============================] - 0s 12ms/step - loss: 0.0051 - accuracy: 1.0000 - val_loss: 0.6051 - val_accuracy: 0.8254\n",
            "Epoch 71/100\n",
            "8/8 [==============================] - 0s 12ms/step - loss: 0.0050 - accuracy: 1.0000 - val_loss: 0.6495 - val_accuracy: 0.8254\n",
            "Epoch 72/100\n",
            "8/8 [==============================] - 0s 12ms/step - loss: 0.0047 - accuracy: 1.0000 - val_loss: 0.6449 - val_accuracy: 0.8254\n",
            "Epoch 73/100\n",
            "8/8 [==============================] - 0s 14ms/step - loss: 0.0046 - accuracy: 1.0000 - val_loss: 0.6325 - val_accuracy: 0.8413\n",
            "Epoch 74/100\n",
            "8/8 [==============================] - 0s 14ms/step - loss: 0.0042 - accuracy: 1.0000 - val_loss: 0.6584 - val_accuracy: 0.8254\n",
            "Epoch 75/100\n",
            "8/8 [==============================] - 0s 14ms/step - loss: 0.0039 - accuracy: 1.0000 - val_loss: 0.6215 - val_accuracy: 0.8254\n",
            "Epoch 76/100\n",
            "8/8 [==============================] - 0s 12ms/step - loss: 0.0041 - accuracy: 1.0000 - val_loss: 0.6433 - val_accuracy: 0.8413\n",
            "Epoch 77/100\n",
            "8/8 [==============================] - 0s 12ms/step - loss: 0.0039 - accuracy: 1.0000 - val_loss: 0.6549 - val_accuracy: 0.8413\n",
            "Epoch 78/100\n",
            "8/8 [==============================] - 0s 11ms/step - loss: 0.0034 - accuracy: 1.0000 - val_loss: 0.6366 - val_accuracy: 0.8254\n",
            "Epoch 79/100\n",
            "8/8 [==============================] - 0s 12ms/step - loss: 0.0034 - accuracy: 1.0000 - val_loss: 0.6432 - val_accuracy: 0.8413\n",
            "Epoch 80/100\n",
            "8/8 [==============================] - 0s 12ms/step - loss: 0.0032 - accuracy: 1.0000 - val_loss: 0.6616 - val_accuracy: 0.8413\n",
            "Epoch 81/100\n",
            "8/8 [==============================] - 0s 12ms/step - loss: 0.0031 - accuracy: 1.0000 - val_loss: 0.6650 - val_accuracy: 0.8254\n",
            "Epoch 82/100\n",
            "8/8 [==============================] - 0s 11ms/step - loss: 0.0029 - accuracy: 1.0000 - val_loss: 0.6538 - val_accuracy: 0.8254\n",
            "Epoch 83/100\n",
            "8/8 [==============================] - 0s 11ms/step - loss: 0.0032 - accuracy: 1.0000 - val_loss: 0.6823 - val_accuracy: 0.8413\n",
            "Epoch 84/100\n",
            "8/8 [==============================] - 0s 11ms/step - loss: 0.0026 - accuracy: 1.0000 - val_loss: 0.6479 - val_accuracy: 0.8254\n",
            "Epoch 85/100\n",
            "8/8 [==============================] - 0s 11ms/step - loss: 0.0027 - accuracy: 1.0000 - val_loss: 0.6803 - val_accuracy: 0.8095\n",
            "Epoch 86/100\n",
            "8/8 [==============================] - 0s 11ms/step - loss: 0.0026 - accuracy: 1.0000 - val_loss: 0.6910 - val_accuracy: 0.8254\n",
            "Epoch 87/100\n",
            "8/8 [==============================] - 0s 11ms/step - loss: 0.0026 - accuracy: 1.0000 - val_loss: 0.6620 - val_accuracy: 0.8254\n",
            "Epoch 88/100\n",
            "8/8 [==============================] - 0s 13ms/step - loss: 0.0022 - accuracy: 1.0000 - val_loss: 0.6969 - val_accuracy: 0.8413\n",
            "Epoch 89/100\n",
            "8/8 [==============================] - 0s 11ms/step - loss: 0.0028 - accuracy: 1.0000 - val_loss: 0.7028 - val_accuracy: 0.8254\n",
            "Epoch 90/100\n",
            "8/8 [==============================] - 0s 11ms/step - loss: 0.0021 - accuracy: 1.0000 - val_loss: 0.6400 - val_accuracy: 0.8254\n",
            "Epoch 91/100\n",
            "8/8 [==============================] - 0s 11ms/step - loss: 0.0025 - accuracy: 1.0000 - val_loss: 0.6555 - val_accuracy: 0.8254\n",
            "Epoch 92/100\n",
            "8/8 [==============================] - 0s 11ms/step - loss: 0.0020 - accuracy: 1.0000 - val_loss: 0.7015 - val_accuracy: 0.8254\n",
            "Epoch 93/100\n",
            "8/8 [==============================] - 0s 11ms/step - loss: 0.0020 - accuracy: 1.0000 - val_loss: 0.6867 - val_accuracy: 0.8413\n",
            "Epoch 94/100\n",
            "8/8 [==============================] - 0s 12ms/step - loss: 0.0018 - accuracy: 1.0000 - val_loss: 0.6907 - val_accuracy: 0.8413\n",
            "Epoch 95/100\n",
            "8/8 [==============================] - 0s 11ms/step - loss: 0.0018 - accuracy: 1.0000 - val_loss: 0.6784 - val_accuracy: 0.8413\n",
            "Epoch 96/100\n",
            "8/8 [==============================] - 0s 12ms/step - loss: 0.0017 - accuracy: 1.0000 - val_loss: 0.6936 - val_accuracy: 0.8413\n",
            "Epoch 97/100\n",
            "8/8 [==============================] - 0s 11ms/step - loss: 0.0017 - accuracy: 1.0000 - val_loss: 0.6962 - val_accuracy: 0.8413\n",
            "Epoch 98/100\n",
            "8/8 [==============================] - 0s 12ms/step - loss: 0.0016 - accuracy: 1.0000 - val_loss: 0.7061 - val_accuracy: 0.8413\n",
            "Epoch 99/100\n",
            "8/8 [==============================] - 0s 12ms/step - loss: 0.0015 - accuracy: 1.0000 - val_loss: 0.6985 - val_accuracy: 0.8413\n",
            "Epoch 100/100\n",
            "8/8 [==============================] - 0s 11ms/step - loss: 0.0015 - accuracy: 1.0000 - val_loss: 0.7061 - val_accuracy: 0.8413\n"
          ]
        }
      ],
      "source": [
        "# 모델 설계\n",
        "model3 = Sequential()\n",
        "\n",
        "# 입력층\n",
        "model3.add(Dense(units=64, input_dim=60, activation = 'relu'))\n",
        "# 은닉층\n",
        "model3.add(Dense(units=84, activation = 'relu'))\n",
        "model3.add(Dense(units=42, activation = 'relu'))\n",
        "model3.add(Dense(units=21, activation = 'relu'))\n",
        "# 출력층\n",
        "model3.add(Dense(units=1, activation = 'sigmoid'))\n",
        "\n",
        "# 실행방법 설정\n",
        "model3.compile(loss='binary_crossentropy', optimizer='adam', metrics = [\"accuracy\"])\n",
        "\n",
        "# # 벨리데이션 넣은 모델 학습\n",
        "h3 = model3.fit(X_train, y_train, epochs=100, batch_size=20, validation_data=(X_test, y_test))"
      ]
    },
    {
      "cell_type": "code",
      "execution_count": 21,
      "metadata": {
        "colab": {
          "base_uri": "https://localhost:8080/",
          "height": 809
        },
        "id": "aiNu9-o6ZAX2",
        "outputId": "c4c16fd3-f8e7-44d3-d360-03b17ee55aa3"
      },
      "outputs": [
        {
          "data": {
            "image/png": "[encoded data removed]",
            "text/plain": [
              "<Figure size 640x480 with 1 Axes>"
            ]
          },
          "metadata": {},
          "output_type": "display_data"
        },
        {
          "data": {
            "image/png": "[encoded data removed]",
            "text/plain": [
              "<Figure size 640x480 with 1 Axes>"
            ]
          },
          "metadata": {},
          "output_type": "display_data"
        },
        {
          "data": {
            "image/png": "[encoded data removed]",
            "text/plain": [
              "<Figure size 640x480 with 1 Axes>"
            ]
          },
          "metadata": {},
          "output_type": "display_data"
        }
      ],
      "source": [
        "# 벨리데이션 넣은 경우 matplotlib으로 그래프 그리기\n",
        "import matplotlib.pyplot as plt\n",
        "\n",
        "# 학습 결과에서 accuracy 값들을 가져온다\n",
        "accuracy = h.history[\"accuracy\"]\n",
        "val_accuracy = h.history[\"val_accuracy\"]\n",
        "\n",
        "# 반복 수\n",
        "xaxis = range(1, len(accuracy)+1) \n",
        "plt.plot(xaxis, accuracy, \"r\", label=\"train_accuracy\")\n",
        "plt.plot(xaxis, val_accuracy, \"b\", label=\"test_accuracy\")\n",
        "plt.legend(loc='lower right')\n",
        "plt.title(\"overfitting\")\n",
        "plt.show()\n",
        "\n",
        "# 학습 결과에서 accuracy 값들을 가져온다\n",
        "accuracy2 = h2.history[\"accuracy\"]\n",
        "val_accuracy2 = h2.history[\"val_accuracy\"]\n",
        "\n",
        "# 반복 수\n",
        "xaxis = range(1, len(accuracy)+1)\n",
        "plt.plot(xaxis, accuracy2, \"r\", label=\"train_accuracy\")\n",
        "plt.plot(xaxis, val_accuracy2, \"b\", label=\"test_accuracy\")\n",
        "plt.legend(loc='lower right')\n",
        "plt.title(\"dropout\")\n",
        "plt.show()\n",
        "\n",
        "# 학습 결과에서 accuracy 값들을 가져온다\n",
        "accuracy3 = h3.history[\"accuracy\"]\n",
        "val_accuracy3 = h3.history[\"val_accuracy\"]\n",
        "\n",
        "# 반복 수\n",
        "xaxis = range(1, len(accuracy)+1)\n",
        "plt.plot(xaxis, accuracy3, \"r\", label=\"train_accuracy\")\n",
        "plt.plot(xaxis, val_accuracy3, \"b\", label=\"test_accuracy\")\n",
        "plt.legend(loc='lower right')\n",
        "plt.title(\"node * 0.3\")\n",
        "plt.show()\n"
      ]
    },
    {
      "cell_type": "markdown",
      "metadata": {},
      "source": [
        "# [실습] 패션데이터셋을 이용한 이미지 분류"
      ]
    },
    {
      "attachments": {},
      "cell_type": "markdown",
      "metadata": {},
      "source": [
        "- 패션 데이터셋  \n",
        "10가지의 패션 이미지 데이터로 구성  \n",
        "60000개의 데이터  \n",
        "이미지 크기 : 28 x 28\n",
        "\n",
        "- Xception 모델을 전이학습"
      ]
    },
    {
      "cell_type": "markdown",
      "metadata": {},
      "source": [
        "## 데이터 로드"
      ]
    },
    {
      "cell_type": "code",
      "execution_count": 2,
      "metadata": {},
      "outputs": [
        {
          "name": "stdout",
          "output_type": "stream",
          "text": [
            "Init Plugin\n",
            "Init Graph Optimizer\n",
            "Init Kernel\n",
            "Downloading data from https://storage.googleapis.com/tensorflow/tf-keras-datasets/train-labels-idx1-ubyte.gz\n",
            "32768/29515 [=================================] - 0s 1us/step\n",
            "Downloading data from https://storage.googleapis.com/tensorflow/tf-keras-datasets/train-images-idx3-ubyte.gz\n",
            "26427392/26421880 [==============================] - 4s 0us/step\n",
            "Downloading data from https://storage.googleapis.com/tensorflow/tf-keras-datasets/t10k-labels-idx1-ubyte.gz\n",
            "8192/5148 [===============================================] - 0s 0us/step\n",
            "Downloading data from https://storage.googleapis.com/tensorflow/tf-keras-datasets/t10k-images-idx3-ubyte.gz\n",
            "4423680/4422102 [==============================] - 1s 0us/step\n"
          ]
        },
        {
          "data": {
            "text/plain": [
              "((60000, 28, 28), (60000,), (10000, 28, 28), (10000,))"
            ]
          },
          "execution_count": 2,
          "metadata": {},
          "output_type": "execute_result"
        }
      ],
      "source": [
        "from tensorflow.keras.datasets import fashion_mnist\n",
        "\n",
        "(X_train, y_train), (X_test, y_test) = fashion_mnist.load_data()\n",
        "X_train.shape, y_train.shape, X_test.shape, y_test.shape"
      ]
    },
    {
      "cell_type": "code",
      "execution_count": 3,
      "metadata": {},
      "outputs": [
        {
          "data": {
            "text/plain": [
              "((1000, 28, 28), (1000,), (300, 28, 28), (300,))"
            ]
          },
          "execution_count": 3,
          "metadata": {},
          "output_type": "execute_result"
        }
      ],
      "source": [
        "# 훈련데이터 1000개, 테스트데이터 300개만 사용\n",
        "X_train = X_train[:1000, :]\n",
        "y_train = y_train[:1000]\n",
        "X_test = X_test[:300, :]\n",
        "y_test = y_test[:300]\n",
        "\n",
        "X_train.shape, y_train.shape, X_test.shape, y_test.shape"
      ]
    },
    {
      "cell_type": "code",
      "execution_count": 4,
      "metadata": {},
      "outputs": [
        {
          "name": "stdout",
          "output_type": "stream",
          "text": [
            "[9 0 3 2 7 5 1 6 4 8]\n",
            "[9 2 1 6 4 5 7 3 8 0]\n"
          ]
        }
      ],
      "source": [
        "# y의 라벨 확인\n",
        "import pandas as pd\n",
        "\n",
        "print(pd.Series(y_train).unique())\n",
        "print(pd.Series(y_test).unique())"
      ]
    },
    {
      "cell_type": "code",
      "execution_count": 5,
      "metadata": {},
      "outputs": [
        {
          "data": {
            "text/plain": [
              "<matplotlib.image.AxesImage at 0x177d7bbe0>"
            ]
          },
          "execution_count": 5,
          "metadata": {},
          "output_type": "execute_result"
        },
        {
          "data": {
            "image/png": "[encoded data removed]",
            "text/plain": [
              "<Figure size 640x480 with 1 Axes>"
            ]
          },
          "metadata": {},
          "output_type": "display_data"
        }
      ],
      "source": [
        "# 이미지 확인\n",
        "import matplotlib.pyplot as plt\n",
        "\n",
        "plt.imshow(X_train[160], cmap=\"gray\")"
      ]
    },
    {
      "cell_type": "code",
      "execution_count": 6,
      "metadata": {},
      "outputs": [
        {
          "data": {
            "text/plain": [
              "((1000, 10), (300, 10))"
            ]
          },
          "execution_count": 6,
          "metadata": {},
          "output_type": "execute_result"
        }
      ],
      "source": [
        "# y를 원핫 인코딩\n",
        "y_train_en = pd.get_dummies(y_train)\n",
        "y_test_en = pd.get_dummies(y_test)\n",
        "\n",
        "y_train_en.shape, y_test_en.shape"
      ]
    },
    {
      "cell_type": "code",
      "execution_count": 7,
      "metadata": {},
      "outputs": [],
      "source": [
        "# 이미지를 (244, 244) 크기로 변환\n",
        "from PIL import Image\n",
        "import numpy as np\n",
        "\n",
        "train_resize_list = []\n",
        "for i in range(len(X_train)) :\n",
        "  train_resize_img = Image.fromarray(X_train[i]).resize((244, 244))\n",
        "  train_resize_list.append(np.array(train_resize_img))\n",
        "\n",
        "test_resize_list = []\n",
        "for i in range(len(X_test)) :\n",
        "  test_resize_img = Image.fromarray(X_test[i]).resize((244, 244))\n",
        "  test_resize_list.append(np.array(test_resize_img))"
      ]
    },
    {
      "cell_type": "code",
      "execution_count": 8,
      "metadata": {},
      "outputs": [
        {
          "data": {
            "text/plain": [
              "((1000, 244, 244), (300, 244, 244))"
            ]
          },
          "execution_count": 8,
          "metadata": {},
          "output_type": "execute_result"
        }
      ],
      "source": [
        "X_train_resized = np.array(train_resize_list)\n",
        "X_test_resized = np.array(test_resize_list)\n",
        "\n",
        "X_train_resized.shape, X_test_resized.shape"
      ]
    },
    {
      "cell_type": "code",
      "execution_count": 9,
      "metadata": {},
      "outputs": [
        {
          "data": {
            "text/plain": [
              "((1000, 244, 244, 1), (300, 244, 244, 1))"
            ]
          },
          "execution_count": 9,
          "metadata": {},
          "output_type": "execute_result"
        }
      ],
      "source": [
        "# 색상채널 차원 추가\n",
        "X_train_resized = X_train_resized.reshape(X_train_resized.shape[0], 244, 244, 1)\n",
        "X_test_resized = X_test_resized.reshape(X_test_resized.shape[0], 244, 244, 1)\n",
        "\n",
        "X_train_resized.shape, X_test_resized.shape"
      ]
    },
    {
      "attachments": {},
      "cell_type": "markdown",
      "metadata": {},
      "source": [
        "## 모델 정의"
      ]
    },
    {
      "cell_type": "code",
      "execution_count": 10,
      "metadata": {},
      "outputs": [
        {
          "name": "stdout",
          "output_type": "stream",
          "text": [
            "Metal device set to: Apple M1 Pro\n",
            "\n",
            "systemMemory: 16.00 GB\n",
            "maxCacheSize: 5.33 GB\n",
            "\n"
          ]
        },
        {
          "name": "stderr",
          "output_type": "stream",
          "text": [
            "2023-02-14 03:38:32.773896: I tensorflow/core/common_runtime/pluggable_device/pluggable_device_factory.cc:305] Could not identify NUMA node of platform GPU ID 0, defaulting to 0. Your kernel may not have been built with NUMA support.\n",
            "2023-02-14 03:38:32.774010: I tensorflow/core/common_runtime/pluggable_device/pluggable_device_factory.cc:271] Created TensorFlow device (/job:localhost/replica:0/task:0/device:GPU:0 with 0 MB memory) -> physical PluggableDevice (device: 0, name: METAL, pci bus id: <undefined>)\n"
          ]
        },
        {
          "name": "stdout",
          "output_type": "stream",
          "text": [
            "Model: \"sequential\"\n",
            "_________________________________________________________________\n",
            "Layer (type)                 Output Shape              Param #   \n",
            "=================================================================\n",
            "conv2d (Conv2D)              (None, 242, 242, 32)      320       \n",
            "_________________________________________________________________\n",
            "conv2d_1 (Conv2D)            (None, 240, 240, 32)      9248      \n",
            "_________________________________________________________________\n",
            "max_pooling2d (MaxPooling2D) (None, 120, 120, 32)      0         \n",
            "_________________________________________________________________\n",
            "conv2d_2 (Conv2D)            (None, 118, 118, 64)      18496     \n",
            "_________________________________________________________________\n",
            "conv2d_3 (Conv2D)            (None, 116, 116, 128)     73856     \n",
            "_________________________________________________________________\n",
            "max_pooling2d_1 (MaxPooling2 (None, 58, 58, 128)       0         \n",
            "_________________________________________________________________\n",
            "flatten (Flatten)            (None, 430592)            0         \n",
            "_________________________________________________________________\n",
            "dense (Dense)                (None, 256)               110231808 \n",
            "_________________________________________________________________\n",
            "dense_1 (Dense)              (None, 64)                16448     \n",
            "_________________________________________________________________\n",
            "dense_2 (Dense)              (None, 10)                650       \n",
            "=================================================================\n",
            "Total params: 110,350,826\n",
            "Trainable params: 110,350,826\n",
            "Non-trainable params: 0\n",
            "_________________________________________________________________\n"
          ]
        }
      ],
      "source": [
        "# 신경망 설계\n",
        "from tensorflow.keras.models import Sequential\n",
        "from tensorflow.keras.layers import Dense, Conv2D, MaxPooling2D, Flatten\n",
        "\n",
        "model1 = Sequential()\n",
        "\n",
        "# CNN 층 설계 - 특성 추출기\n",
        "# CNN 층의 최종 크기는 10x10보다 크거나 작거나\n",
        "model1.add(Conv2D(filters=32, kernel_size=(3, 3), \n",
        "                  input_shape=(244, 244, 1), activation=\"relu\"))\n",
        "model1.add(Conv2D(filters=32, kernel_size=(3, 3), activation=\"relu\"))\n",
        "model1.add(MaxPooling2D(pool_size=(2, 2)))\n",
        "model1.add(Conv2D(filters=64, kernel_size=(3, 3), activation=\"relu\"))\n",
        "model1.add(Conv2D(filters=128, kernel_size=(3, 3), activation=\"relu\"))\n",
        "model1.add(MaxPooling2D(pool_size=(2, 2)))\n",
        "\n",
        "# 다차원 데이터를 1차원을 변환\n",
        "model1.add(Flatten())\n",
        "\n",
        "# 분류기 모델 설계\n",
        "model1.add(Dense(units=256, activation=\"relu\"))\n",
        "model1.add(Dense(units=64, activation=\"relu\"))\n",
        "model1.add(Dense(units=10, activation=\"softmax\"))\n",
        "\n",
        "model1.summary()"
      ]
    },
    {
      "cell_type": "code",
      "execution_count": 11,
      "metadata": {},
      "outputs": [],
      "source": [
        "model1.compile(loss=\"categorical_crossentropy\",\n",
        "               optimizer=\"adam\",\n",
        "               metrics=[\"accuracy\"])"
      ]
    },
    {
      "attachments": {},
      "cell_type": "markdown",
      "metadata": {},
      "source": [
        "## 모델 학습"
      ]
    },
    {
      "cell_type": "code",
      "execution_count": 12,
      "metadata": {},
      "outputs": [
        {
          "name": "stderr",
          "output_type": "stream",
          "text": [
            "2023-02-14 03:38:58.621701: I tensorflow/compiler/mlir/mlir_graph_optimization_pass.cc:176] None of the MLIR Optimization Passes are enabled (registered 2)\n",
            "2023-02-14 03:38:58.621954: W tensorflow/core/platform/profile_utils/cpu_utils.cc:128] Failed to get CPU frequency: 0 Hz\n"
          ]
        },
        {
          "name": "stdout",
          "output_type": "stream",
          "text": [
            "Epoch 1/10\n"
          ]
        },
        {
          "name": "stderr",
          "output_type": "stream",
          "text": [
            "2023-02-14 03:38:58.922611: I tensorflow/core/grappler/optimizers/custom_graph_optimizer_registry.cc:112] Plugin optimizer for device_type GPU is enabled.\n"
          ]
        },
        {
          "name": "stdout",
          "output_type": "stream",
          "text": [
            "50/50 [==============================] - ETA: 0s - loss: 24.6559 - accuracy: 0.6260"
          ]
        },
        {
          "name": "stderr",
          "output_type": "stream",
          "text": [
            "2023-02-14 03:39:18.147034: I tensorflow/core/grappler/optimizers/custom_graph_optimizer_registry.cc:112] Plugin optimizer for device_type GPU is enabled.\n"
          ]
        },
        {
          "name": "stdout",
          "output_type": "stream",
          "text": [
            "50/50 [==============================] - 22s 367ms/step - loss: 24.6559 - accuracy: 0.6260 - val_loss: 0.7488 - val_accuracy: 0.7867\n",
            "Epoch 2/10\n",
            "50/50 [==============================] - 18s 360ms/step - loss: 0.3801 - accuracy: 0.8660 - val_loss: 0.7936 - val_accuracy: 0.7833\n",
            "Epoch 3/10\n",
            "50/50 [==============================] - 18s 361ms/step - loss: 0.1815 - accuracy: 0.9370 - val_loss: 0.7050 - val_accuracy: 0.8267\n",
            "Epoch 4/10\n",
            "50/50 [==============================] - 18s 361ms/step - loss: 0.0844 - accuracy: 0.9740 - val_loss: 0.9050 - val_accuracy: 0.8267\n",
            "Epoch 5/10\n",
            "50/50 [==============================] - 18s 361ms/step - loss: 0.1102 - accuracy: 0.9730 - val_loss: 0.9830 - val_accuracy: 0.7933\n",
            "Epoch 6/10\n",
            "50/50 [==============================] - 18s 364ms/step - loss: 0.1174 - accuracy: 0.9710 - val_loss: 0.9439 - val_accuracy: 0.8033\n",
            "Epoch 7/10\n",
            "50/50 [==============================] - 18s 363ms/step - loss: 0.0345 - accuracy: 0.9910 - val_loss: 1.4377 - val_accuracy: 0.8100\n",
            "Epoch 8/10\n",
            "50/50 [==============================] - 18s 364ms/step - loss: 0.0768 - accuracy: 0.9780 - val_loss: 1.1513 - val_accuracy: 0.7867\n",
            "Epoch 9/10\n",
            "50/50 [==============================] - 18s 364ms/step - loss: 0.0310 - accuracy: 0.9930 - val_loss: 1.3032 - val_accuracy: 0.8200\n",
            "Epoch 10/10\n",
            "50/50 [==============================] - 18s 366ms/step - loss: 0.0075 - accuracy: 0.9990 - val_loss: 1.3932 - val_accuracy: 0.8067\n"
          ]
        }
      ],
      "source": [
        "h1 = model1.fit(X_train_resized, y_train_en, batch_size=20, epochs=10,\n",
        "                validation_data=(X_test_resized, y_test_en))"
      ]
    },
    {
      "cell_type": "code",
      "execution_count": 13,
      "metadata": {},
      "outputs": [
        {
          "data": {
            "text/plain": [
              "<matplotlib.legend.Legend at 0x294572dc0>"
            ]
          },
          "execution_count": 13,
          "metadata": {},
          "output_type": "execute_result"
        },
        {
          "data": {
            "image/png": "[encoded data removed]",
            "text/plain": [
              "<Figure size 640x480 with 1 Axes>"
            ]
          },
          "metadata": {},
          "output_type": "display_data"
        }
      ],
      "source": [
        "# 학습 결과 시각화\n",
        "import matplotlib.pyplot as plt\n",
        "\n",
        "acc = h1.history[\"accuracy\"]\n",
        "val_acc = h1.history[\"val_accuracy\"]\n",
        "\n",
        "e = range(1, len(acc) + 1)\n",
        "\n",
        "plt.plot(e, acc, \"r\", label=\"Train\")\n",
        "plt.plot(e, val_acc, \"b\", label=\"Test\")\n",
        "plt.legend()"
      ]
    },
    {
      "attachments": {},
      "cell_type": "markdown",
      "metadata": {},
      "source": [
        "## Dropout을 이용한 과적합 방지 \n",
        "\n",
        "- Dropout \n",
        "   - 각 층의 퍼셉스톤의 수를 줄여서 과적합을 방지\n",
        "   - 0.5이하의 값을 사용\n",
        "   - 이전층과 다음층의 파라미터의 수가 많이 차이나는 곳에 배치"
      ]
    },
    {
      "cell_type": "code",
      "execution_count": 14,
      "metadata": {},
      "outputs": [
        {
          "name": "stdout",
          "output_type": "stream",
          "text": [
            "Model: \"sequential_1\"\n",
            "_________________________________________________________________\n",
            "Layer (type)                 Output Shape              Param #   \n",
            "=================================================================\n",
            "conv2d_4 (Conv2D)            (None, 242, 242, 32)      320       \n",
            "_________________________________________________________________\n",
            "conv2d_5 (Conv2D)            (None, 240, 240, 32)      9248      \n",
            "_________________________________________________________________\n",
            "max_pooling2d_2 (MaxPooling2 (None, 120, 120, 32)      0         \n",
            "_________________________________________________________________\n",
            "conv2d_6 (Conv2D)            (None, 118, 118, 64)      18496     \n",
            "_________________________________________________________________\n",
            "conv2d_7 (Conv2D)            (None, 116, 116, 128)     73856     \n",
            "_________________________________________________________________\n",
            "max_pooling2d_3 (MaxPooling2 (None, 58, 58, 128)       0         \n",
            "_________________________________________________________________\n",
            "dropout (Dropout)            (None, 58, 58, 128)       0         \n",
            "_________________________________________________________________\n",
            "flatten_1 (Flatten)          (None, 430592)            0         \n",
            "_________________________________________________________________\n",
            "dense_3 (Dense)              (None, 256)               110231808 \n",
            "_________________________________________________________________\n",
            "dropout_1 (Dropout)          (None, 256)               0         \n",
            "_________________________________________________________________\n",
            "dense_4 (Dense)              (None, 64)                16448     \n",
            "_________________________________________________________________\n",
            "dropout_2 (Dropout)          (None, 64)                0         \n",
            "_________________________________________________________________\n",
            "dense_5 (Dense)              (None, 10)                650       \n",
            "=================================================================\n",
            "Total params: 110,350,826\n",
            "Trainable params: 110,350,826\n",
            "Non-trainable params: 0\n",
            "_________________________________________________________________\n"
          ]
        }
      ],
      "source": [
        "# 신경망 설계\n",
        "from tensorflow.keras.models import Sequential\n",
        "from tensorflow.keras.layers import Dense, Conv2D, MaxPooling2D, Flatten\n",
        "from tensorflow.keras.layers import Dropout\n",
        "\n",
        "model2 = Sequential()\n",
        "\n",
        "# CNN 층 설계 - 특성 추출기\n",
        "# CNN 층의 최종 크기는 10x10보다 크거나 작거나\n",
        "model2.add(Conv2D(filters=32, kernel_size=(3, 3), \n",
        "                  input_shape=(244, 244, 1), activation=\"relu\"))\n",
        "model2.add(Conv2D(filters=32, kernel_size=(3, 3), activation=\"relu\"))\n",
        "model2.add(MaxPooling2D(pool_size=(2, 2)))\n",
        "model2.add(Conv2D(filters=64, kernel_size=(3, 3), activation=\"relu\"))\n",
        "model2.add(Conv2D(filters=128, kernel_size=(3, 3), activation=\"relu\"))\n",
        "model2.add(MaxPooling2D(pool_size=(2, 2)))\n",
        "model2.add(Dropout(0.5))\n",
        "\n",
        "# 다차원 데이터를 1차원을 변환\n",
        "model2.add(Flatten())\n",
        "\n",
        "# 분류기 모델 설계\n",
        "model2.add(Dense(units=256, activation=\"relu\"))\n",
        "model2.add(Dropout(0.5))\n",
        "model2.add(Dense(units=64, activation=\"relu\"))\n",
        "model2.add(Dropout(0.2))\n",
        "model2.add(Dense(units=10, activation=\"softmax\"))\n",
        "\n",
        "model2.summary()"
      ]
    },
    {
      "cell_type": "code",
      "execution_count": 15,
      "metadata": {},
      "outputs": [],
      "source": [
        "model2.compile(loss=\"categorical_crossentropy\",\n",
        "               optimizer=\"adam\",\n",
        "               metrics=[\"accuracy\"])"
      ]
    },
    {
      "cell_type": "code",
      "execution_count": null,
      "metadata": {},
      "outputs": [],
      "source": [
        "h2 = model2.fit(X_train_resized, y_train_en, batch_size=20, epochs=10,\n",
        "                validation_data=(X_test_resized, y_test_en))"
      ]
    },
    {
      "cell_type": "code",
      "execution_count": null,
      "metadata": {},
      "outputs": [],
      "source": [
        "# 데이터 시각화\n",
        "import matplotlib.pyplot as plt\n",
        "\n",
        "acc = h2.history[\"accuracy\"]\n",
        "val_acc = h2.history[\"val_accuracy\"]\n",
        "\n",
        "e = range(1, len(acc) + 1)\n",
        "\n",
        "plt.plot(e, acc, \"r\", label=\"Train\")\n",
        "plt.plot(e, val_acc, \"b\", label=\"Test\")\n",
        "plt.legend()"
      ]
    },
    {
      "attachments": {},
      "cell_type": "markdown",
      "metadata": {},
      "source": [
        "# BatchNormalization을 이용한 과적합 방지\n",
        "\n",
        "- CNN 층에서 w, b의 값들을 정규화 (일정한 범위의 값으로 변환)\n",
        "- 결과값의 변동폭을 줄여주는 효과\n",
        "\n",
        "- Conv 층과 Activation 층 사이에 배치\n",
        "  - Activation 층에 다음에 오면 Activation 층이 약간 정규화하는 효과가 있기 때문에 효과가 떨어짐"
      ]
    },
    {
      "cell_type": "code",
      "execution_count": null,
      "metadata": {},
      "outputs": [],
      "source": [
        "# 신경망 설계\n",
        "from tensorflow.keras.models import Sequential\n",
        "from tensorflow.keras.layers import Dense, Conv2D, MaxPooling2D, Flatten\n",
        "from tensorflow.keras.layers import Dropout, BatchNormalization, Activation\n",
        "\n",
        "model3 = Sequential()\n",
        "\n",
        "model3.add(Conv2D(filters=32, kernel_size=(3, 3), \n",
        "                  input_shape=(244, 244, 1)))\n",
        "model3.add(BatchNormalization())\n",
        "model3.add(Activation(\"relu\"))\n",
        "model3.add(Conv2D(filters=32, kernel_size=(3, 3)))\n",
        "model3.add(BatchNormalization())\n",
        "model3.add(Activation(\"relu\"))\n",
        "model3.add(MaxPooling2D(pool_size=(2, 2)))\n",
        "model3.add(Conv2D(filters=64, kernel_size=(3, 3)))\n",
        "model3.add(Activation(\"relu\"))\n",
        "model3.add(Conv2D(filters=128, kernel_size=(3, 3)))\n",
        "model3.add(Activation(\"relu\"))\n",
        "model3.add(MaxPooling2D(pool_size=(2, 2)))\n",
        "#model3.add(Dropout(0.5))\n",
        "\n",
        "# 다차원 데이터를 1차원을 변환\n",
        "model3.add(Flatten())\n",
        "\n",
        "# 분류기 모델 설계\n",
        "model3.add(Dense(units=256, activation=\"relu\"))\n",
        "model3.add(Dropout(0.5))\n",
        "model3.add(Dense(units=64, activation=\"relu\"))\n",
        "model3.add(Dropout(0.2))\n",
        "model3.add(Dense(units=10, activation=\"softmax\"))\n",
        "\n",
        "model3.summary()"
      ]
    },
    {
      "cell_type": "code",
      "execution_count": null,
      "metadata": {},
      "outputs": [],
      "source": [
        "model3.compile(loss=\"categorical_crossentropy\",\n",
        "               optimizer=\"adam\",\n",
        "               metrics=[\"accuracy\"])"
      ]
    },
    {
      "cell_type": "code",
      "execution_count": null,
      "metadata": {},
      "outputs": [],
      "source": [
        "h3 = model3.fit(X_train_resized, y_train_en, batch_size=20, epochs=10,\n",
        "                validation_data=(X_test_resized, y_test_en))"
      ]
    },
    {
      "cell_type": "code",
      "execution_count": null,
      "metadata": {},
      "outputs": [],
      "source": [
        "import matplotlib.pyplot as plt\n",
        "\n",
        "acc = h3.history[\"accuracy\"]\n",
        "val_acc = h3.history[\"val_accuracy\"]\n",
        "\n",
        "e = range(1, len(acc) + 1)\n",
        "\n",
        "plt.plot(e, acc, \"r\", label=\"Train\")\n",
        "plt.plot(e, val_acc, \"b\", label=\"Test\")\n",
        "plt.legend()"
      ]
    },
    {
      "attachments": {},
      "cell_type": "markdown",
      "metadata": {},
      "source": [
        "# GlobalAveragePooling2D을 이용한 과적합 방지 \n",
        "\n",
        "- Flatten() 층 대신에 사용\n",
        "- 다차원 배열을 1차원 만들때 AveragePooling 방법을 사용\n",
        "- 근처 특성값들을 평균내서 크기를 줄이는 방식으로 1차원으로 변환"
      ]
    },
    {
      "cell_type": "code",
      "execution_count": null,
      "metadata": {},
      "outputs": [],
      "source": [
        "# 신경망 설계\n",
        "from tensorflow.keras.models import Sequential\n",
        "from tensorflow.keras.layers import Dense, Conv2D, MaxPooling2D, GlobalAveragePooling2D\n",
        "from tensorflow.keras.layers import Dropout, BatchNormalization, Activation\n",
        "\n",
        "model4 = Sequential()\n",
        "\n",
        "model4.add(Conv2D(filters=32, kernel_size=(3, 3), \n",
        "                  input_shape=(244, 244, 1)))\n",
        "model4.add(BatchNormalization())\n",
        "model4.add(Activation(\"relu\"))\n",
        "model4.add(Conv2D(filters=32, kernel_size=(3, 3)))\n",
        "model4.add(BatchNormalization())\n",
        "model4.add(Activation(\"relu\"))\n",
        "model4.add(MaxPooling2D(pool_size=(2, 2)))\n",
        "model4.add(Conv2D(filters=64, kernel_size=(3, 3)))\n",
        "model4.add(Activation(\"relu\"))\n",
        "model4.add(Conv2D(filters=128, kernel_size=(3, 3)))\n",
        "model4.add(Activation(\"relu\"))\n",
        "model4.add(MaxPooling2D(pool_size=(2, 2)))\n",
        "#model3.add(Dropout(0.5))\n",
        "\n",
        "# 다차원 데이터를 1차원을 변환\n",
        "model4.add(GlobalAveragePooling2D())\n",
        "\n",
        "# 분류기 모델 설계\n",
        "model4.add(Dense(units=256, activation=\"relu\"))\n",
        "model4.add(Dropout(0.5))\n",
        "model4.add(Dense(units=64, activation=\"relu\"))\n",
        "model4.add(Dropout(0.2))\n",
        "model4.add(Dense(units=10, activation=\"softmax\"))\n",
        "\n",
        "model4.summary()"
      ]
    },
    {
      "cell_type": "code",
      "execution_count": null,
      "metadata": {},
      "outputs": [],
      "source": [
        "model4.compile(loss=\"categorical_crossentropy\",\n",
        "               optimizer=\"adam\",\n",
        "               metrics=[\"accuracy\"])"
      ]
    },
    {
      "cell_type": "code",
      "execution_count": null,
      "metadata": {},
      "outputs": [],
      "source": [
        "h4 = model4.fit(X_train_resized, y_train_en, batch_size=20, epochs=10,\n",
        "                validation_data=(X_test_resized, y_test_en))"
      ]
    },
    {
      "cell_type": "code",
      "execution_count": null,
      "metadata": {},
      "outputs": [],
      "source": [
        "import matplotlib.pyplot as plt\n",
        "\n",
        "acc = h4.history[\"accuracy\"]\n",
        "val_acc = h4.history[\"val_accuracy\"]\n",
        "\n",
        "e = range(1, len(acc) + 1)\n",
        "\n",
        "plt.plot(e, acc, \"r\", label=\"Train\")\n",
        "plt.plot(e, val_acc, \"b\", label=\"Test\")\n",
        "plt.legend()"
      ]
    }
  ],
  "metadata": {
    "accelerator": "GPU",
    "colab": {
      "provenance": [],
      "toc_visible": true
    },
    "kernelspec": {
      "display_name": "dl",
      "language": "python",
      "name": "python3"
    },
    "language_info": {
      "codemirror_mode": {
        "name": "ipython",
        "version": 3
      },
      "file_extension": ".py",
      "mimetype": "text/x-python",
      "name": "python",
      "nbconvert_exporter": "python",
      "pygments_lexer": "ipython3",
      "version": "3.8.15"
    },
    "vscode": {
      "interpreter": {
        "hash": "46e27ede752268be201d36b7fbc2802b29a11b0bb095abacecc6c0428b93624a"
      }
    }
  },
  "nbformat": 4,
  "nbformat_minor": 0
}
